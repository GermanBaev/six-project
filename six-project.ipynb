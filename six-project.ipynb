{
 "cells": [
  {
   "cell_type": "markdown",
   "metadata": {
    "toc": true
   },
   "source": [
    "<h1>Содержание<span class=\"tocSkip\"></span></h1>\n",
    "<div class=\"toc\"><ul class=\"toc-item\"><li><span><a href=\"#Подготовка-данных\" data-toc-modified-id=\"Подготовка-данных-1\"><span class=\"toc-item-num\">1&nbsp;&nbsp;</span>Подготовка данных</a></span></li><li><span><a href=\"#Исследование-задачи\" data-toc-modified-id=\"Исследование-задачи-2\"><span class=\"toc-item-num\">2&nbsp;&nbsp;</span>Исследование задачи</a></span></li><li><span><a href=\"#Борьба-с-дисбалансом\" data-toc-modified-id=\"Борьба-с-дисбалансом-3\"><span class=\"toc-item-num\">3&nbsp;&nbsp;</span>Борьба с дисбалансом</a></span><ul class=\"toc-item\"><li><span><a href=\"#Модель-решающего-дерева\" data-toc-modified-id=\"Модель-решающего-дерева-3.1\"><span class=\"toc-item-num\">3.1&nbsp;&nbsp;</span>Модель решающего дерева</a></span><ul class=\"toc-item\"><li><span><a href=\"#Взвешивание-классов\" data-toc-modified-id=\"Взвешивание-классов-3.1.1\"><span class=\"toc-item-num\">3.1.1&nbsp;&nbsp;</span>Взвешивание классов</a></span></li><li><span><a href=\"#Увеличение/уменьшение-выборки-(upsampling/downsampling)\" data-toc-modified-id=\"Увеличение/уменьшение-выборки-(upsampling/downsampling)-3.1.2\"><span class=\"toc-item-num\">3.1.2&nbsp;&nbsp;</span>Увеличение/уменьшение выборки (upsampling/downsampling)</a></span></li><li><span><a href=\"#Изменение-порога-классификации\" data-toc-modified-id=\"Изменение-порога-классификации-3.1.3\"><span class=\"toc-item-num\">3.1.3&nbsp;&nbsp;</span>Изменение порога классификации</a></span></li><li><span><a href=\"#Изменение-порога-классификации-+-взвешивание-классов\" data-toc-modified-id=\"Изменение-порога-классификации-+-взвешивание-классов-3.1.4\"><span class=\"toc-item-num\">3.1.4&nbsp;&nbsp;</span>Изменение порога классификации + взвешивание классов</a></span></li><li><span><a href=\"#Изменение-порога-классификации-+-увеличение/уменьшение-выборки-(upsampling/downsampling)\" data-toc-modified-id=\"Изменение-порога-классификации-+-увеличение/уменьшение-выборки-(upsampling/downsampling)-3.1.5\"><span class=\"toc-item-num\">3.1.5&nbsp;&nbsp;</span>Изменение порога классификации + увеличение/уменьшение выборки (upsampling/downsampling)</a></span></li></ul></li><li><span><a href=\"#Модель-случайного-леса\" data-toc-modified-id=\"Модель-случайного-леса-3.2\"><span class=\"toc-item-num\">3.2&nbsp;&nbsp;</span>Модель случайного леса</a></span><ul class=\"toc-item\"><li><span><a href=\"#Взвешивание-классов\" data-toc-modified-id=\"Взвешивание-классов-3.2.1\"><span class=\"toc-item-num\">3.2.1&nbsp;&nbsp;</span>Взвешивание классов</a></span></li><li><span><a href=\"#Увеличение/уменьшение-выборки-(upsampling/downsampling)\" data-toc-modified-id=\"Увеличение/уменьшение-выборки-(upsampling/downsampling)-3.2.2\"><span class=\"toc-item-num\">3.2.2&nbsp;&nbsp;</span>Увеличение/уменьшение выборки (upsampling/downsampling)</a></span></li><li><span><a href=\"#Изменение-порога-классификации\" data-toc-modified-id=\"Изменение-порога-классификации-3.2.3\"><span class=\"toc-item-num\">3.2.3&nbsp;&nbsp;</span>Изменение порога классификации</a></span></li><li><span><a href=\"#Изменение-порога-классификации-+-взвешивание-классов\" data-toc-modified-id=\"Изменение-порога-классификации-+-взвешивание-классов-3.2.4\"><span class=\"toc-item-num\">3.2.4&nbsp;&nbsp;</span>Изменение порога классификации + взвешивание классов</a></span></li><li><span><a href=\"#Изменение-порога-классификации-+-увеличение/уменьшение-выборки-(upsampling/downsampling)\" data-toc-modified-id=\"Изменение-порога-классификации-+-увеличение/уменьшение-выборки-(upsampling/downsampling)-3.2.5\"><span class=\"toc-item-num\">3.2.5&nbsp;&nbsp;</span>Изменение порога классификации + увеличение/уменьшение выборки (upsampling/downsampling)</a></span></li></ul></li><li><span><a href=\"#Вывод:-сравнение-моделей-и-техник-и-выбор-лучшей-комбинации\" data-toc-modified-id=\"Вывод:-сравнение-моделей-и-техник-и-выбор-лучшей-комбинации-3.3\"><span class=\"toc-item-num\">3.3&nbsp;&nbsp;</span>Вывод: сравнение моделей и техник и выбор лучшей комбинации</a></span></li></ul></li><li><span><a href=\"#Тестирование-модели\" data-toc-modified-id=\"Тестирование-модели-4\"><span class=\"toc-item-num\">4&nbsp;&nbsp;</span>Тестирование модели</a></span></li><li><span><a href=\"#Общий-вывод\" data-toc-modified-id=\"Общий-вывод-5\"><span class=\"toc-item-num\">5&nbsp;&nbsp;</span>Общий вывод</a></span></li></ul></div>"
   ]
  },
  {
   "cell_type": "markdown",
   "metadata": {},
   "source": [
    "# Отток клиентов"
   ]
  },
  {
   "cell_type": "markdown",
   "metadata": {},
   "source": [
    "Из «Бета-Банка» стали уходить клиенты. Каждый месяц. Немного, но заметно. Банковские маркетологи посчитали: сохранять текущих клиентов дешевле, чем привлекать новых.\n",
    "\n",
    "Нужно спрогнозировать, уйдёт клиент из банка в ближайшее время или нет. Вам предоставлены исторические данные о поведении клиентов и расторжении договоров с банком. \n",
    "\n",
    "Постройте модель с предельно большим значением *F1*-меры. Чтобы сдать проект успешно, нужно довести метрику до 0.59. Проверьте *F1*-меру на тестовой выборке самостоятельно.\n",
    "\n",
    "Дополнительно измеряйте *AUC-ROC*, сравнивайте её значение с *F1*-мерой.\n",
    "\n",
    "Источник данных: [https://www.kaggle.com/barelydedicated/bank-customer-churn-modeling](https://www.kaggle.com/barelydedicated/bank-customer-churn-modeling)"
   ]
  },
  {
   "cell_type": "markdown",
   "metadata": {},
   "source": [
    "## Подготовка данных"
   ]
  },
  {
   "cell_type": "code",
   "execution_count": 1,
   "metadata": {},
   "outputs": [],
   "source": [
    "# Импорт библиотек\n",
    "import pandas as pd\n",
    "import numpy as np\n",
    "import matplotlib.pyplot as plt\n",
    "from sklearn.model_selection import train_test_split\n",
    "from sklearn.preprocessing import StandardScaler\n",
    "from sklearn.tree import DecisionTreeClassifier\n",
    "from sklearn.ensemble import RandomForestClassifier\n",
    "from sklearn.linear_model import LogisticRegression\n",
    "from sklearn.metrics import accuracy_score\n",
    "from sklearn.metrics import confusion_matrix\n",
    "from sklearn.metrics import f1_score\n",
    "from sklearn.utils import shuffle\n",
    "from sklearn.metrics import roc_auc_score"
   ]
  },
  {
   "cell_type": "code",
   "execution_count": 2,
   "metadata": {},
   "outputs": [],
   "source": [
    "# Чтобы код не вызывал предупреждение SettingWithCopy, добавим строчку:\n",
    "pd.options.mode.chained_assignment = None"
   ]
  },
  {
   "cell_type": "markdown",
   "metadata": {},
   "source": [
    "Прочитаем и запишем файл в переменную `df`."
   ]
  },
  {
   "cell_type": "code",
   "execution_count": 3,
   "metadata": {},
   "outputs": [],
   "source": [
    "df = pd.read_csv('Churn.csv')"
   ]
  },
  {
   "cell_type": "markdown",
   "metadata": {},
   "source": [
    "Выведем 20 первых строк датафрейма."
   ]
  },
  {
   "cell_type": "code",
   "execution_count": 4,
   "metadata": {
    "scrolled": true
   },
   "outputs": [
    {
     "data": {
      "text/html": [
       "<div>\n",
       "<style scoped>\n",
       "    .dataframe tbody tr th:only-of-type {\n",
       "        vertical-align: middle;\n",
       "    }\n",
       "\n",
       "    .dataframe tbody tr th {\n",
       "        vertical-align: top;\n",
       "    }\n",
       "\n",
       "    .dataframe thead th {\n",
       "        text-align: right;\n",
       "    }\n",
       "</style>\n",
       "<table border=\"1\" class=\"dataframe\">\n",
       "  <thead>\n",
       "    <tr style=\"text-align: right;\">\n",
       "      <th></th>\n",
       "      <th>RowNumber</th>\n",
       "      <th>CustomerId</th>\n",
       "      <th>Surname</th>\n",
       "      <th>CreditScore</th>\n",
       "      <th>Geography</th>\n",
       "      <th>Gender</th>\n",
       "      <th>Age</th>\n",
       "      <th>Tenure</th>\n",
       "      <th>Balance</th>\n",
       "      <th>NumOfProducts</th>\n",
       "      <th>HasCrCard</th>\n",
       "      <th>IsActiveMember</th>\n",
       "      <th>EstimatedSalary</th>\n",
       "      <th>Exited</th>\n",
       "    </tr>\n",
       "  </thead>\n",
       "  <tbody>\n",
       "    <tr>\n",
       "      <th>0</th>\n",
       "      <td>1</td>\n",
       "      <td>15634602</td>\n",
       "      <td>Hargrave</td>\n",
       "      <td>619</td>\n",
       "      <td>France</td>\n",
       "      <td>Female</td>\n",
       "      <td>42</td>\n",
       "      <td>2.0</td>\n",
       "      <td>0.00</td>\n",
       "      <td>1</td>\n",
       "      <td>1</td>\n",
       "      <td>1</td>\n",
       "      <td>101348.88</td>\n",
       "      <td>1</td>\n",
       "    </tr>\n",
       "    <tr>\n",
       "      <th>1</th>\n",
       "      <td>2</td>\n",
       "      <td>15647311</td>\n",
       "      <td>Hill</td>\n",
       "      <td>608</td>\n",
       "      <td>Spain</td>\n",
       "      <td>Female</td>\n",
       "      <td>41</td>\n",
       "      <td>1.0</td>\n",
       "      <td>83807.86</td>\n",
       "      <td>1</td>\n",
       "      <td>0</td>\n",
       "      <td>1</td>\n",
       "      <td>112542.58</td>\n",
       "      <td>0</td>\n",
       "    </tr>\n",
       "    <tr>\n",
       "      <th>2</th>\n",
       "      <td>3</td>\n",
       "      <td>15619304</td>\n",
       "      <td>Onio</td>\n",
       "      <td>502</td>\n",
       "      <td>France</td>\n",
       "      <td>Female</td>\n",
       "      <td>42</td>\n",
       "      <td>8.0</td>\n",
       "      <td>159660.80</td>\n",
       "      <td>3</td>\n",
       "      <td>1</td>\n",
       "      <td>0</td>\n",
       "      <td>113931.57</td>\n",
       "      <td>1</td>\n",
       "    </tr>\n",
       "    <tr>\n",
       "      <th>3</th>\n",
       "      <td>4</td>\n",
       "      <td>15701354</td>\n",
       "      <td>Boni</td>\n",
       "      <td>699</td>\n",
       "      <td>France</td>\n",
       "      <td>Female</td>\n",
       "      <td>39</td>\n",
       "      <td>1.0</td>\n",
       "      <td>0.00</td>\n",
       "      <td>2</td>\n",
       "      <td>0</td>\n",
       "      <td>0</td>\n",
       "      <td>93826.63</td>\n",
       "      <td>0</td>\n",
       "    </tr>\n",
       "    <tr>\n",
       "      <th>4</th>\n",
       "      <td>5</td>\n",
       "      <td>15737888</td>\n",
       "      <td>Mitchell</td>\n",
       "      <td>850</td>\n",
       "      <td>Spain</td>\n",
       "      <td>Female</td>\n",
       "      <td>43</td>\n",
       "      <td>2.0</td>\n",
       "      <td>125510.82</td>\n",
       "      <td>1</td>\n",
       "      <td>1</td>\n",
       "      <td>1</td>\n",
       "      <td>79084.10</td>\n",
       "      <td>0</td>\n",
       "    </tr>\n",
       "    <tr>\n",
       "      <th>5</th>\n",
       "      <td>6</td>\n",
       "      <td>15574012</td>\n",
       "      <td>Chu</td>\n",
       "      <td>645</td>\n",
       "      <td>Spain</td>\n",
       "      <td>Male</td>\n",
       "      <td>44</td>\n",
       "      <td>8.0</td>\n",
       "      <td>113755.78</td>\n",
       "      <td>2</td>\n",
       "      <td>1</td>\n",
       "      <td>0</td>\n",
       "      <td>149756.71</td>\n",
       "      <td>1</td>\n",
       "    </tr>\n",
       "    <tr>\n",
       "      <th>6</th>\n",
       "      <td>7</td>\n",
       "      <td>15592531</td>\n",
       "      <td>Bartlett</td>\n",
       "      <td>822</td>\n",
       "      <td>France</td>\n",
       "      <td>Male</td>\n",
       "      <td>50</td>\n",
       "      <td>7.0</td>\n",
       "      <td>0.00</td>\n",
       "      <td>2</td>\n",
       "      <td>1</td>\n",
       "      <td>1</td>\n",
       "      <td>10062.80</td>\n",
       "      <td>0</td>\n",
       "    </tr>\n",
       "    <tr>\n",
       "      <th>7</th>\n",
       "      <td>8</td>\n",
       "      <td>15656148</td>\n",
       "      <td>Obinna</td>\n",
       "      <td>376</td>\n",
       "      <td>Germany</td>\n",
       "      <td>Female</td>\n",
       "      <td>29</td>\n",
       "      <td>4.0</td>\n",
       "      <td>115046.74</td>\n",
       "      <td>4</td>\n",
       "      <td>1</td>\n",
       "      <td>0</td>\n",
       "      <td>119346.88</td>\n",
       "      <td>1</td>\n",
       "    </tr>\n",
       "    <tr>\n",
       "      <th>8</th>\n",
       "      <td>9</td>\n",
       "      <td>15792365</td>\n",
       "      <td>He</td>\n",
       "      <td>501</td>\n",
       "      <td>France</td>\n",
       "      <td>Male</td>\n",
       "      <td>44</td>\n",
       "      <td>4.0</td>\n",
       "      <td>142051.07</td>\n",
       "      <td>2</td>\n",
       "      <td>0</td>\n",
       "      <td>1</td>\n",
       "      <td>74940.50</td>\n",
       "      <td>0</td>\n",
       "    </tr>\n",
       "    <tr>\n",
       "      <th>9</th>\n",
       "      <td>10</td>\n",
       "      <td>15592389</td>\n",
       "      <td>H?</td>\n",
       "      <td>684</td>\n",
       "      <td>France</td>\n",
       "      <td>Male</td>\n",
       "      <td>27</td>\n",
       "      <td>2.0</td>\n",
       "      <td>134603.88</td>\n",
       "      <td>1</td>\n",
       "      <td>1</td>\n",
       "      <td>1</td>\n",
       "      <td>71725.73</td>\n",
       "      <td>0</td>\n",
       "    </tr>\n",
       "    <tr>\n",
       "      <th>10</th>\n",
       "      <td>11</td>\n",
       "      <td>15767821</td>\n",
       "      <td>Bearce</td>\n",
       "      <td>528</td>\n",
       "      <td>France</td>\n",
       "      <td>Male</td>\n",
       "      <td>31</td>\n",
       "      <td>6.0</td>\n",
       "      <td>102016.72</td>\n",
       "      <td>2</td>\n",
       "      <td>0</td>\n",
       "      <td>0</td>\n",
       "      <td>80181.12</td>\n",
       "      <td>0</td>\n",
       "    </tr>\n",
       "    <tr>\n",
       "      <th>11</th>\n",
       "      <td>12</td>\n",
       "      <td>15737173</td>\n",
       "      <td>Andrews</td>\n",
       "      <td>497</td>\n",
       "      <td>Spain</td>\n",
       "      <td>Male</td>\n",
       "      <td>24</td>\n",
       "      <td>3.0</td>\n",
       "      <td>0.00</td>\n",
       "      <td>2</td>\n",
       "      <td>1</td>\n",
       "      <td>0</td>\n",
       "      <td>76390.01</td>\n",
       "      <td>0</td>\n",
       "    </tr>\n",
       "    <tr>\n",
       "      <th>12</th>\n",
       "      <td>13</td>\n",
       "      <td>15632264</td>\n",
       "      <td>Kay</td>\n",
       "      <td>476</td>\n",
       "      <td>France</td>\n",
       "      <td>Female</td>\n",
       "      <td>34</td>\n",
       "      <td>10.0</td>\n",
       "      <td>0.00</td>\n",
       "      <td>2</td>\n",
       "      <td>1</td>\n",
       "      <td>0</td>\n",
       "      <td>26260.98</td>\n",
       "      <td>0</td>\n",
       "    </tr>\n",
       "    <tr>\n",
       "      <th>13</th>\n",
       "      <td>14</td>\n",
       "      <td>15691483</td>\n",
       "      <td>Chin</td>\n",
       "      <td>549</td>\n",
       "      <td>France</td>\n",
       "      <td>Female</td>\n",
       "      <td>25</td>\n",
       "      <td>5.0</td>\n",
       "      <td>0.00</td>\n",
       "      <td>2</td>\n",
       "      <td>0</td>\n",
       "      <td>0</td>\n",
       "      <td>190857.79</td>\n",
       "      <td>0</td>\n",
       "    </tr>\n",
       "    <tr>\n",
       "      <th>14</th>\n",
       "      <td>15</td>\n",
       "      <td>15600882</td>\n",
       "      <td>Scott</td>\n",
       "      <td>635</td>\n",
       "      <td>Spain</td>\n",
       "      <td>Female</td>\n",
       "      <td>35</td>\n",
       "      <td>7.0</td>\n",
       "      <td>0.00</td>\n",
       "      <td>2</td>\n",
       "      <td>1</td>\n",
       "      <td>1</td>\n",
       "      <td>65951.65</td>\n",
       "      <td>0</td>\n",
       "    </tr>\n",
       "    <tr>\n",
       "      <th>15</th>\n",
       "      <td>16</td>\n",
       "      <td>15643966</td>\n",
       "      <td>Goforth</td>\n",
       "      <td>616</td>\n",
       "      <td>Germany</td>\n",
       "      <td>Male</td>\n",
       "      <td>45</td>\n",
       "      <td>3.0</td>\n",
       "      <td>143129.41</td>\n",
       "      <td>2</td>\n",
       "      <td>0</td>\n",
       "      <td>1</td>\n",
       "      <td>64327.26</td>\n",
       "      <td>0</td>\n",
       "    </tr>\n",
       "    <tr>\n",
       "      <th>16</th>\n",
       "      <td>17</td>\n",
       "      <td>15737452</td>\n",
       "      <td>Romeo</td>\n",
       "      <td>653</td>\n",
       "      <td>Germany</td>\n",
       "      <td>Male</td>\n",
       "      <td>58</td>\n",
       "      <td>1.0</td>\n",
       "      <td>132602.88</td>\n",
       "      <td>1</td>\n",
       "      <td>1</td>\n",
       "      <td>0</td>\n",
       "      <td>5097.67</td>\n",
       "      <td>1</td>\n",
       "    </tr>\n",
       "    <tr>\n",
       "      <th>17</th>\n",
       "      <td>18</td>\n",
       "      <td>15788218</td>\n",
       "      <td>Henderson</td>\n",
       "      <td>549</td>\n",
       "      <td>Spain</td>\n",
       "      <td>Female</td>\n",
       "      <td>24</td>\n",
       "      <td>9.0</td>\n",
       "      <td>0.00</td>\n",
       "      <td>2</td>\n",
       "      <td>1</td>\n",
       "      <td>1</td>\n",
       "      <td>14406.41</td>\n",
       "      <td>0</td>\n",
       "    </tr>\n",
       "    <tr>\n",
       "      <th>18</th>\n",
       "      <td>19</td>\n",
       "      <td>15661507</td>\n",
       "      <td>Muldrow</td>\n",
       "      <td>587</td>\n",
       "      <td>Spain</td>\n",
       "      <td>Male</td>\n",
       "      <td>45</td>\n",
       "      <td>6.0</td>\n",
       "      <td>0.00</td>\n",
       "      <td>1</td>\n",
       "      <td>0</td>\n",
       "      <td>0</td>\n",
       "      <td>158684.81</td>\n",
       "      <td>0</td>\n",
       "    </tr>\n",
       "    <tr>\n",
       "      <th>19</th>\n",
       "      <td>20</td>\n",
       "      <td>15568982</td>\n",
       "      <td>Hao</td>\n",
       "      <td>726</td>\n",
       "      <td>France</td>\n",
       "      <td>Female</td>\n",
       "      <td>24</td>\n",
       "      <td>6.0</td>\n",
       "      <td>0.00</td>\n",
       "      <td>2</td>\n",
       "      <td>1</td>\n",
       "      <td>1</td>\n",
       "      <td>54724.03</td>\n",
       "      <td>0</td>\n",
       "    </tr>\n",
       "  </tbody>\n",
       "</table>\n",
       "</div>"
      ],
      "text/plain": [
       "    RowNumber  CustomerId    Surname  CreditScore Geography  Gender  Age  \\\n",
       "0           1    15634602   Hargrave          619    France  Female   42   \n",
       "1           2    15647311       Hill          608     Spain  Female   41   \n",
       "2           3    15619304       Onio          502    France  Female   42   \n",
       "3           4    15701354       Boni          699    France  Female   39   \n",
       "4           5    15737888   Mitchell          850     Spain  Female   43   \n",
       "5           6    15574012        Chu          645     Spain    Male   44   \n",
       "6           7    15592531   Bartlett          822    France    Male   50   \n",
       "7           8    15656148     Obinna          376   Germany  Female   29   \n",
       "8           9    15792365         He          501    France    Male   44   \n",
       "9          10    15592389         H?          684    France    Male   27   \n",
       "10         11    15767821     Bearce          528    France    Male   31   \n",
       "11         12    15737173    Andrews          497     Spain    Male   24   \n",
       "12         13    15632264        Kay          476    France  Female   34   \n",
       "13         14    15691483       Chin          549    France  Female   25   \n",
       "14         15    15600882      Scott          635     Spain  Female   35   \n",
       "15         16    15643966    Goforth          616   Germany    Male   45   \n",
       "16         17    15737452      Romeo          653   Germany    Male   58   \n",
       "17         18    15788218  Henderson          549     Spain  Female   24   \n",
       "18         19    15661507    Muldrow          587     Spain    Male   45   \n",
       "19         20    15568982        Hao          726    France  Female   24   \n",
       "\n",
       "    Tenure    Balance  NumOfProducts  HasCrCard  IsActiveMember  \\\n",
       "0      2.0       0.00              1          1               1   \n",
       "1      1.0   83807.86              1          0               1   \n",
       "2      8.0  159660.80              3          1               0   \n",
       "3      1.0       0.00              2          0               0   \n",
       "4      2.0  125510.82              1          1               1   \n",
       "5      8.0  113755.78              2          1               0   \n",
       "6      7.0       0.00              2          1               1   \n",
       "7      4.0  115046.74              4          1               0   \n",
       "8      4.0  142051.07              2          0               1   \n",
       "9      2.0  134603.88              1          1               1   \n",
       "10     6.0  102016.72              2          0               0   \n",
       "11     3.0       0.00              2          1               0   \n",
       "12    10.0       0.00              2          1               0   \n",
       "13     5.0       0.00              2          0               0   \n",
       "14     7.0       0.00              2          1               1   \n",
       "15     3.0  143129.41              2          0               1   \n",
       "16     1.0  132602.88              1          1               0   \n",
       "17     9.0       0.00              2          1               1   \n",
       "18     6.0       0.00              1          0               0   \n",
       "19     6.0       0.00              2          1               1   \n",
       "\n",
       "    EstimatedSalary  Exited  \n",
       "0         101348.88       1  \n",
       "1         112542.58       0  \n",
       "2         113931.57       1  \n",
       "3          93826.63       0  \n",
       "4          79084.10       0  \n",
       "5         149756.71       1  \n",
       "6          10062.80       0  \n",
       "7         119346.88       1  \n",
       "8          74940.50       0  \n",
       "9          71725.73       0  \n",
       "10         80181.12       0  \n",
       "11         76390.01       0  \n",
       "12         26260.98       0  \n",
       "13        190857.79       0  \n",
       "14         65951.65       0  \n",
       "15         64327.26       0  \n",
       "16          5097.67       1  \n",
       "17         14406.41       0  \n",
       "18        158684.81       0  \n",
       "19         54724.03       0  "
      ]
     },
     "execution_count": 4,
     "metadata": {},
     "output_type": "execute_result"
    }
   ],
   "source": [
    "df.head(20)"
   ]
  },
  {
   "cell_type": "markdown",
   "metadata": {},
   "source": [
    "Удалим лишние столбцы, которые никак не повлияют на предсказание целевого признака, чтобы упростить работу модели."
   ]
  },
  {
   "cell_type": "code",
   "execution_count": 5,
   "metadata": {},
   "outputs": [],
   "source": [
    "columns = ['RowNumber', 'CustomerId', 'Surname']\n",
    "df = df.drop(columns, axis=1)"
   ]
  },
  {
   "cell_type": "markdown",
   "metadata": {},
   "source": [
    "Проверим как стала выглядеть таблица."
   ]
  },
  {
   "cell_type": "code",
   "execution_count": 6,
   "metadata": {
    "scrolled": true
   },
   "outputs": [
    {
     "data": {
      "text/html": [
       "<div>\n",
       "<style scoped>\n",
       "    .dataframe tbody tr th:only-of-type {\n",
       "        vertical-align: middle;\n",
       "    }\n",
       "\n",
       "    .dataframe tbody tr th {\n",
       "        vertical-align: top;\n",
       "    }\n",
       "\n",
       "    .dataframe thead th {\n",
       "        text-align: right;\n",
       "    }\n",
       "</style>\n",
       "<table border=\"1\" class=\"dataframe\">\n",
       "  <thead>\n",
       "    <tr style=\"text-align: right;\">\n",
       "      <th></th>\n",
       "      <th>CreditScore</th>\n",
       "      <th>Geography</th>\n",
       "      <th>Gender</th>\n",
       "      <th>Age</th>\n",
       "      <th>Tenure</th>\n",
       "      <th>Balance</th>\n",
       "      <th>NumOfProducts</th>\n",
       "      <th>HasCrCard</th>\n",
       "      <th>IsActiveMember</th>\n",
       "      <th>EstimatedSalary</th>\n",
       "      <th>Exited</th>\n",
       "    </tr>\n",
       "  </thead>\n",
       "  <tbody>\n",
       "    <tr>\n",
       "      <th>0</th>\n",
       "      <td>619</td>\n",
       "      <td>France</td>\n",
       "      <td>Female</td>\n",
       "      <td>42</td>\n",
       "      <td>2.0</td>\n",
       "      <td>0.00</td>\n",
       "      <td>1</td>\n",
       "      <td>1</td>\n",
       "      <td>1</td>\n",
       "      <td>101348.88</td>\n",
       "      <td>1</td>\n",
       "    </tr>\n",
       "    <tr>\n",
       "      <th>1</th>\n",
       "      <td>608</td>\n",
       "      <td>Spain</td>\n",
       "      <td>Female</td>\n",
       "      <td>41</td>\n",
       "      <td>1.0</td>\n",
       "      <td>83807.86</td>\n",
       "      <td>1</td>\n",
       "      <td>0</td>\n",
       "      <td>1</td>\n",
       "      <td>112542.58</td>\n",
       "      <td>0</td>\n",
       "    </tr>\n",
       "    <tr>\n",
       "      <th>2</th>\n",
       "      <td>502</td>\n",
       "      <td>France</td>\n",
       "      <td>Female</td>\n",
       "      <td>42</td>\n",
       "      <td>8.0</td>\n",
       "      <td>159660.80</td>\n",
       "      <td>3</td>\n",
       "      <td>1</td>\n",
       "      <td>0</td>\n",
       "      <td>113931.57</td>\n",
       "      <td>1</td>\n",
       "    </tr>\n",
       "    <tr>\n",
       "      <th>3</th>\n",
       "      <td>699</td>\n",
       "      <td>France</td>\n",
       "      <td>Female</td>\n",
       "      <td>39</td>\n",
       "      <td>1.0</td>\n",
       "      <td>0.00</td>\n",
       "      <td>2</td>\n",
       "      <td>0</td>\n",
       "      <td>0</td>\n",
       "      <td>93826.63</td>\n",
       "      <td>0</td>\n",
       "    </tr>\n",
       "    <tr>\n",
       "      <th>4</th>\n",
       "      <td>850</td>\n",
       "      <td>Spain</td>\n",
       "      <td>Female</td>\n",
       "      <td>43</td>\n",
       "      <td>2.0</td>\n",
       "      <td>125510.82</td>\n",
       "      <td>1</td>\n",
       "      <td>1</td>\n",
       "      <td>1</td>\n",
       "      <td>79084.10</td>\n",
       "      <td>0</td>\n",
       "    </tr>\n",
       "    <tr>\n",
       "      <th>5</th>\n",
       "      <td>645</td>\n",
       "      <td>Spain</td>\n",
       "      <td>Male</td>\n",
       "      <td>44</td>\n",
       "      <td>8.0</td>\n",
       "      <td>113755.78</td>\n",
       "      <td>2</td>\n",
       "      <td>1</td>\n",
       "      <td>0</td>\n",
       "      <td>149756.71</td>\n",
       "      <td>1</td>\n",
       "    </tr>\n",
       "    <tr>\n",
       "      <th>6</th>\n",
       "      <td>822</td>\n",
       "      <td>France</td>\n",
       "      <td>Male</td>\n",
       "      <td>50</td>\n",
       "      <td>7.0</td>\n",
       "      <td>0.00</td>\n",
       "      <td>2</td>\n",
       "      <td>1</td>\n",
       "      <td>1</td>\n",
       "      <td>10062.80</td>\n",
       "      <td>0</td>\n",
       "    </tr>\n",
       "    <tr>\n",
       "      <th>7</th>\n",
       "      <td>376</td>\n",
       "      <td>Germany</td>\n",
       "      <td>Female</td>\n",
       "      <td>29</td>\n",
       "      <td>4.0</td>\n",
       "      <td>115046.74</td>\n",
       "      <td>4</td>\n",
       "      <td>1</td>\n",
       "      <td>0</td>\n",
       "      <td>119346.88</td>\n",
       "      <td>1</td>\n",
       "    </tr>\n",
       "    <tr>\n",
       "      <th>8</th>\n",
       "      <td>501</td>\n",
       "      <td>France</td>\n",
       "      <td>Male</td>\n",
       "      <td>44</td>\n",
       "      <td>4.0</td>\n",
       "      <td>142051.07</td>\n",
       "      <td>2</td>\n",
       "      <td>0</td>\n",
       "      <td>1</td>\n",
       "      <td>74940.50</td>\n",
       "      <td>0</td>\n",
       "    </tr>\n",
       "    <tr>\n",
       "      <th>9</th>\n",
       "      <td>684</td>\n",
       "      <td>France</td>\n",
       "      <td>Male</td>\n",
       "      <td>27</td>\n",
       "      <td>2.0</td>\n",
       "      <td>134603.88</td>\n",
       "      <td>1</td>\n",
       "      <td>1</td>\n",
       "      <td>1</td>\n",
       "      <td>71725.73</td>\n",
       "      <td>0</td>\n",
       "    </tr>\n",
       "    <tr>\n",
       "      <th>10</th>\n",
       "      <td>528</td>\n",
       "      <td>France</td>\n",
       "      <td>Male</td>\n",
       "      <td>31</td>\n",
       "      <td>6.0</td>\n",
       "      <td>102016.72</td>\n",
       "      <td>2</td>\n",
       "      <td>0</td>\n",
       "      <td>0</td>\n",
       "      <td>80181.12</td>\n",
       "      <td>0</td>\n",
       "    </tr>\n",
       "    <tr>\n",
       "      <th>11</th>\n",
       "      <td>497</td>\n",
       "      <td>Spain</td>\n",
       "      <td>Male</td>\n",
       "      <td>24</td>\n",
       "      <td>3.0</td>\n",
       "      <td>0.00</td>\n",
       "      <td>2</td>\n",
       "      <td>1</td>\n",
       "      <td>0</td>\n",
       "      <td>76390.01</td>\n",
       "      <td>0</td>\n",
       "    </tr>\n",
       "    <tr>\n",
       "      <th>12</th>\n",
       "      <td>476</td>\n",
       "      <td>France</td>\n",
       "      <td>Female</td>\n",
       "      <td>34</td>\n",
       "      <td>10.0</td>\n",
       "      <td>0.00</td>\n",
       "      <td>2</td>\n",
       "      <td>1</td>\n",
       "      <td>0</td>\n",
       "      <td>26260.98</td>\n",
       "      <td>0</td>\n",
       "    </tr>\n",
       "    <tr>\n",
       "      <th>13</th>\n",
       "      <td>549</td>\n",
       "      <td>France</td>\n",
       "      <td>Female</td>\n",
       "      <td>25</td>\n",
       "      <td>5.0</td>\n",
       "      <td>0.00</td>\n",
       "      <td>2</td>\n",
       "      <td>0</td>\n",
       "      <td>0</td>\n",
       "      <td>190857.79</td>\n",
       "      <td>0</td>\n",
       "    </tr>\n",
       "    <tr>\n",
       "      <th>14</th>\n",
       "      <td>635</td>\n",
       "      <td>Spain</td>\n",
       "      <td>Female</td>\n",
       "      <td>35</td>\n",
       "      <td>7.0</td>\n",
       "      <td>0.00</td>\n",
       "      <td>2</td>\n",
       "      <td>1</td>\n",
       "      <td>1</td>\n",
       "      <td>65951.65</td>\n",
       "      <td>0</td>\n",
       "    </tr>\n",
       "    <tr>\n",
       "      <th>15</th>\n",
       "      <td>616</td>\n",
       "      <td>Germany</td>\n",
       "      <td>Male</td>\n",
       "      <td>45</td>\n",
       "      <td>3.0</td>\n",
       "      <td>143129.41</td>\n",
       "      <td>2</td>\n",
       "      <td>0</td>\n",
       "      <td>1</td>\n",
       "      <td>64327.26</td>\n",
       "      <td>0</td>\n",
       "    </tr>\n",
       "    <tr>\n",
       "      <th>16</th>\n",
       "      <td>653</td>\n",
       "      <td>Germany</td>\n",
       "      <td>Male</td>\n",
       "      <td>58</td>\n",
       "      <td>1.0</td>\n",
       "      <td>132602.88</td>\n",
       "      <td>1</td>\n",
       "      <td>1</td>\n",
       "      <td>0</td>\n",
       "      <td>5097.67</td>\n",
       "      <td>1</td>\n",
       "    </tr>\n",
       "    <tr>\n",
       "      <th>17</th>\n",
       "      <td>549</td>\n",
       "      <td>Spain</td>\n",
       "      <td>Female</td>\n",
       "      <td>24</td>\n",
       "      <td>9.0</td>\n",
       "      <td>0.00</td>\n",
       "      <td>2</td>\n",
       "      <td>1</td>\n",
       "      <td>1</td>\n",
       "      <td>14406.41</td>\n",
       "      <td>0</td>\n",
       "    </tr>\n",
       "    <tr>\n",
       "      <th>18</th>\n",
       "      <td>587</td>\n",
       "      <td>Spain</td>\n",
       "      <td>Male</td>\n",
       "      <td>45</td>\n",
       "      <td>6.0</td>\n",
       "      <td>0.00</td>\n",
       "      <td>1</td>\n",
       "      <td>0</td>\n",
       "      <td>0</td>\n",
       "      <td>158684.81</td>\n",
       "      <td>0</td>\n",
       "    </tr>\n",
       "    <tr>\n",
       "      <th>19</th>\n",
       "      <td>726</td>\n",
       "      <td>France</td>\n",
       "      <td>Female</td>\n",
       "      <td>24</td>\n",
       "      <td>6.0</td>\n",
       "      <td>0.00</td>\n",
       "      <td>2</td>\n",
       "      <td>1</td>\n",
       "      <td>1</td>\n",
       "      <td>54724.03</td>\n",
       "      <td>0</td>\n",
       "    </tr>\n",
       "  </tbody>\n",
       "</table>\n",
       "</div>"
      ],
      "text/plain": [
       "    CreditScore Geography  Gender  Age  Tenure    Balance  NumOfProducts  \\\n",
       "0           619    France  Female   42     2.0       0.00              1   \n",
       "1           608     Spain  Female   41     1.0   83807.86              1   \n",
       "2           502    France  Female   42     8.0  159660.80              3   \n",
       "3           699    France  Female   39     1.0       0.00              2   \n",
       "4           850     Spain  Female   43     2.0  125510.82              1   \n",
       "5           645     Spain    Male   44     8.0  113755.78              2   \n",
       "6           822    France    Male   50     7.0       0.00              2   \n",
       "7           376   Germany  Female   29     4.0  115046.74              4   \n",
       "8           501    France    Male   44     4.0  142051.07              2   \n",
       "9           684    France    Male   27     2.0  134603.88              1   \n",
       "10          528    France    Male   31     6.0  102016.72              2   \n",
       "11          497     Spain    Male   24     3.0       0.00              2   \n",
       "12          476    France  Female   34    10.0       0.00              2   \n",
       "13          549    France  Female   25     5.0       0.00              2   \n",
       "14          635     Spain  Female   35     7.0       0.00              2   \n",
       "15          616   Germany    Male   45     3.0  143129.41              2   \n",
       "16          653   Germany    Male   58     1.0  132602.88              1   \n",
       "17          549     Spain  Female   24     9.0       0.00              2   \n",
       "18          587     Spain    Male   45     6.0       0.00              1   \n",
       "19          726    France  Female   24     6.0       0.00              2   \n",
       "\n",
       "    HasCrCard  IsActiveMember  EstimatedSalary  Exited  \n",
       "0           1               1        101348.88       1  \n",
       "1           0               1        112542.58       0  \n",
       "2           1               0        113931.57       1  \n",
       "3           0               0         93826.63       0  \n",
       "4           1               1         79084.10       0  \n",
       "5           1               0        149756.71       1  \n",
       "6           1               1         10062.80       0  \n",
       "7           1               0        119346.88       1  \n",
       "8           0               1         74940.50       0  \n",
       "9           1               1         71725.73       0  \n",
       "10          0               0         80181.12       0  \n",
       "11          1               0         76390.01       0  \n",
       "12          1               0         26260.98       0  \n",
       "13          0               0        190857.79       0  \n",
       "14          1               1         65951.65       0  \n",
       "15          0               1         64327.26       0  \n",
       "16          1               0          5097.67       1  \n",
       "17          1               1         14406.41       0  \n",
       "18          0               0        158684.81       0  \n",
       "19          1               1         54724.03       0  "
      ]
     },
     "execution_count": 6,
     "metadata": {},
     "output_type": "execute_result"
    }
   ],
   "source": [
    "df.head(20)"
   ]
  },
  {
   "cell_type": "markdown",
   "metadata": {},
   "source": [
    "Выведем основную информацию о датафрейме."
   ]
  },
  {
   "cell_type": "code",
   "execution_count": 7,
   "metadata": {},
   "outputs": [
    {
     "name": "stdout",
     "output_type": "stream",
     "text": [
      "<class 'pandas.core.frame.DataFrame'>\n",
      "RangeIndex: 10000 entries, 0 to 9999\n",
      "Data columns (total 11 columns):\n",
      " #   Column           Non-Null Count  Dtype  \n",
      "---  ------           --------------  -----  \n",
      " 0   CreditScore      10000 non-null  int64  \n",
      " 1   Geography        10000 non-null  object \n",
      " 2   Gender           10000 non-null  object \n",
      " 3   Age              10000 non-null  int64  \n",
      " 4   Tenure           9091 non-null   float64\n",
      " 5   Balance          10000 non-null  float64\n",
      " 6   NumOfProducts    10000 non-null  int64  \n",
      " 7   HasCrCard        10000 non-null  int64  \n",
      " 8   IsActiveMember   10000 non-null  int64  \n",
      " 9   EstimatedSalary  10000 non-null  float64\n",
      " 10  Exited           10000 non-null  int64  \n",
      "dtypes: float64(3), int64(6), object(2)\n",
      "memory usage: 859.5+ KB\n"
     ]
    }
   ],
   "source": [
    "df.info()"
   ]
  },
  {
   "cell_type": "markdown",
   "metadata": {},
   "source": [
    "В столбце `Tenure` видно, что есть пропуски. Они составляют ~9%, поэтому их удаление – не лучший вариант. Заменим пропуски на медианное значение, сгруппированное по стране, полу и возрастному диапазону.\n",
    "\n",
    "Для начала посмотрим люди какого возраста присутствуют в таблице и определим возрастные группы."
   ]
  },
  {
   "cell_type": "code",
   "execution_count": 8,
   "metadata": {},
   "outputs": [
    {
     "data": {
      "text/plain": [
       "array([18, 19, 20, 21, 22, 23, 24, 25, 26, 27, 28, 29, 30, 31, 32, 33, 34,\n",
       "       35, 36, 37, 38, 39, 40, 41, 42, 43, 44, 45, 46, 47, 48, 49, 50, 51,\n",
       "       52, 53, 54, 55, 56, 57, 58, 59, 60, 61, 62, 63, 64, 65, 66, 67, 68,\n",
       "       69, 70, 71, 72, 73, 74, 75, 76, 77, 78, 79, 80, 81, 82, 83, 84, 85,\n",
       "       88, 92])"
      ]
     },
     "execution_count": 8,
     "metadata": {},
     "output_type": "execute_result"
    }
   ],
   "source": [
    "df['Age'].sort_values().unique()"
   ]
  },
  {
   "cell_type": "markdown",
   "metadata": {},
   "source": [
    "Создадим функцию, приписывающую каждую строчку датафрейма к возрастной группе."
   ]
  },
  {
   "cell_type": "code",
   "execution_count": 9,
   "metadata": {},
   "outputs": [],
   "source": [
    "def categorize_age(age):\n",
    "    if 18 <= age <= 44:\n",
    "        return '18-44'\n",
    "    if 45 <= age <= 59:\n",
    "        return '45-59'\n",
    "    if 60 <= age <= 74:\n",
    "        return '60-74'\n",
    "    if 75 <= age <= 90:\n",
    "        return '75-90'\n",
    "    return '90+'"
   ]
  },
  {
   "cell_type": "markdown",
   "metadata": {},
   "source": [
    "Создадим столбец `AgeGroup` с возрастными категориями, применив функцию `categorize_age`."
   ]
  },
  {
   "cell_type": "code",
   "execution_count": 10,
   "metadata": {},
   "outputs": [],
   "source": [
    "df['AgeGroup'] = df['Age'].apply(categorize_age)"
   ]
  },
  {
   "cell_type": "markdown",
   "metadata": {},
   "source": [
    "Теперь найдем медианное значение, которое сгруппировано по стране, полу и возрастным категориям."
   ]
  },
  {
   "cell_type": "code",
   "execution_count": 11,
   "metadata": {},
   "outputs": [
    {
     "data": {
      "text/plain": [
       "Geography  Gender  AgeGroup\n",
       "France     Female  18-44       5.0\n",
       "                   45-59       5.0\n",
       "                   60-74       5.0\n",
       "                   75-90       5.0\n",
       "           Male    18-44       5.0\n",
       "                   45-59       5.0\n",
       "                   60-74       4.5\n",
       "                   75-90       5.0\n",
       "                   90+         1.0\n",
       "Germany    Female  18-44       5.0\n",
       "                   45-59       5.0\n",
       "                   60-74       5.0\n",
       "                   75-90       8.0\n",
       "           Male    18-44       5.0\n",
       "                   45-59       5.0\n",
       "                   60-74       6.0\n",
       "                   75-90       5.0\n",
       "Spain      Female  18-44       5.0\n",
       "                   45-59       5.0\n",
       "                   60-74       5.0\n",
       "                   75-90       5.0\n",
       "           Male    18-44       5.0\n",
       "                   45-59       5.0\n",
       "                   60-74       5.0\n",
       "                   75-90       7.5\n",
       "Name: Tenure, dtype: float64"
      ]
     },
     "execution_count": 11,
     "metadata": {},
     "output_type": "execute_result"
    }
   ],
   "source": [
    "df.groupby(['Geography', 'Gender', 'AgeGroup'])['Tenure'].median()"
   ]
  },
  {
   "cell_type": "markdown",
   "metadata": {},
   "source": [
    "Видим, что значения различаются, значит в этих действиях был смысл. Заполним этими медианными значениями соответствующие пропуски."
   ]
  },
  {
   "cell_type": "code",
   "execution_count": 12,
   "metadata": {},
   "outputs": [],
   "source": [
    "df['Tenure'] = df['Tenure'].fillna(df.groupby(['Geography', 'Gender', 'AgeGroup'])['Tenure'].transform('median'))"
   ]
  },
  {
   "cell_type": "markdown",
   "metadata": {},
   "source": [
    "В дальнейшем нам не понадобится столбец `AgeGroup`, поэтому удалим его, чтобы не усложнять моделям жизнь."
   ]
  },
  {
   "cell_type": "code",
   "execution_count": 13,
   "metadata": {},
   "outputs": [],
   "source": [
    "df = df.drop('AgeGroup', axis=1)"
   ]
  },
  {
   "cell_type": "markdown",
   "metadata": {},
   "source": [
    "Проверим, заполнились ли пропуски."
   ]
  },
  {
   "cell_type": "code",
   "execution_count": 14,
   "metadata": {},
   "outputs": [
    {
     "name": "stdout",
     "output_type": "stream",
     "text": [
      "<class 'pandas.core.frame.DataFrame'>\n",
      "RangeIndex: 10000 entries, 0 to 9999\n",
      "Data columns (total 11 columns):\n",
      " #   Column           Non-Null Count  Dtype  \n",
      "---  ------           --------------  -----  \n",
      " 0   CreditScore      10000 non-null  int64  \n",
      " 1   Geography        10000 non-null  object \n",
      " 2   Gender           10000 non-null  object \n",
      " 3   Age              10000 non-null  int64  \n",
      " 4   Tenure           10000 non-null  float64\n",
      " 5   Balance          10000 non-null  float64\n",
      " 6   NumOfProducts    10000 non-null  int64  \n",
      " 7   HasCrCard        10000 non-null  int64  \n",
      " 8   IsActiveMember   10000 non-null  int64  \n",
      " 9   EstimatedSalary  10000 non-null  float64\n",
      " 10  Exited           10000 non-null  int64  \n",
      "dtypes: float64(3), int64(6), object(2)\n",
      "memory usage: 859.5+ KB\n"
     ]
    }
   ],
   "source": [
    "df.info()"
   ]
  },
  {
   "cell_type": "markdown",
   "metadata": {},
   "source": [
    "Пропуски заполнены. Теперь преобразуем категориальные признаки в численные c помощью техники прямого кодирования и избежим дамми-ловушки, используя аргумент `drop_first=True`."
   ]
  },
  {
   "cell_type": "code",
   "execution_count": 15,
   "metadata": {},
   "outputs": [],
   "source": [
    "df_ohe = pd.get_dummies(df, drop_first=True)"
   ]
  },
  {
   "cell_type": "markdown",
   "metadata": {},
   "source": [
    "Проверим как выглядит новая таблица."
   ]
  },
  {
   "cell_type": "code",
   "execution_count": 16,
   "metadata": {
    "scrolled": true
   },
   "outputs": [
    {
     "data": {
      "text/html": [
       "<div>\n",
       "<style scoped>\n",
       "    .dataframe tbody tr th:only-of-type {\n",
       "        vertical-align: middle;\n",
       "    }\n",
       "\n",
       "    .dataframe tbody tr th {\n",
       "        vertical-align: top;\n",
       "    }\n",
       "\n",
       "    .dataframe thead th {\n",
       "        text-align: right;\n",
       "    }\n",
       "</style>\n",
       "<table border=\"1\" class=\"dataframe\">\n",
       "  <thead>\n",
       "    <tr style=\"text-align: right;\">\n",
       "      <th></th>\n",
       "      <th>CreditScore</th>\n",
       "      <th>Age</th>\n",
       "      <th>Tenure</th>\n",
       "      <th>Balance</th>\n",
       "      <th>NumOfProducts</th>\n",
       "      <th>HasCrCard</th>\n",
       "      <th>IsActiveMember</th>\n",
       "      <th>EstimatedSalary</th>\n",
       "      <th>Exited</th>\n",
       "      <th>Geography_Germany</th>\n",
       "      <th>Geography_Spain</th>\n",
       "      <th>Gender_Male</th>\n",
       "    </tr>\n",
       "  </thead>\n",
       "  <tbody>\n",
       "    <tr>\n",
       "      <th>0</th>\n",
       "      <td>619</td>\n",
       "      <td>42</td>\n",
       "      <td>2.0</td>\n",
       "      <td>0.00</td>\n",
       "      <td>1</td>\n",
       "      <td>1</td>\n",
       "      <td>1</td>\n",
       "      <td>101348.88</td>\n",
       "      <td>1</td>\n",
       "      <td>0</td>\n",
       "      <td>0</td>\n",
       "      <td>0</td>\n",
       "    </tr>\n",
       "    <tr>\n",
       "      <th>1</th>\n",
       "      <td>608</td>\n",
       "      <td>41</td>\n",
       "      <td>1.0</td>\n",
       "      <td>83807.86</td>\n",
       "      <td>1</td>\n",
       "      <td>0</td>\n",
       "      <td>1</td>\n",
       "      <td>112542.58</td>\n",
       "      <td>0</td>\n",
       "      <td>0</td>\n",
       "      <td>1</td>\n",
       "      <td>0</td>\n",
       "    </tr>\n",
       "    <tr>\n",
       "      <th>2</th>\n",
       "      <td>502</td>\n",
       "      <td>42</td>\n",
       "      <td>8.0</td>\n",
       "      <td>159660.80</td>\n",
       "      <td>3</td>\n",
       "      <td>1</td>\n",
       "      <td>0</td>\n",
       "      <td>113931.57</td>\n",
       "      <td>1</td>\n",
       "      <td>0</td>\n",
       "      <td>0</td>\n",
       "      <td>0</td>\n",
       "    </tr>\n",
       "    <tr>\n",
       "      <th>3</th>\n",
       "      <td>699</td>\n",
       "      <td>39</td>\n",
       "      <td>1.0</td>\n",
       "      <td>0.00</td>\n",
       "      <td>2</td>\n",
       "      <td>0</td>\n",
       "      <td>0</td>\n",
       "      <td>93826.63</td>\n",
       "      <td>0</td>\n",
       "      <td>0</td>\n",
       "      <td>0</td>\n",
       "      <td>0</td>\n",
       "    </tr>\n",
       "    <tr>\n",
       "      <th>4</th>\n",
       "      <td>850</td>\n",
       "      <td>43</td>\n",
       "      <td>2.0</td>\n",
       "      <td>125510.82</td>\n",
       "      <td>1</td>\n",
       "      <td>1</td>\n",
       "      <td>1</td>\n",
       "      <td>79084.10</td>\n",
       "      <td>0</td>\n",
       "      <td>0</td>\n",
       "      <td>1</td>\n",
       "      <td>0</td>\n",
       "    </tr>\n",
       "    <tr>\n",
       "      <th>5</th>\n",
       "      <td>645</td>\n",
       "      <td>44</td>\n",
       "      <td>8.0</td>\n",
       "      <td>113755.78</td>\n",
       "      <td>2</td>\n",
       "      <td>1</td>\n",
       "      <td>0</td>\n",
       "      <td>149756.71</td>\n",
       "      <td>1</td>\n",
       "      <td>0</td>\n",
       "      <td>1</td>\n",
       "      <td>1</td>\n",
       "    </tr>\n",
       "    <tr>\n",
       "      <th>6</th>\n",
       "      <td>822</td>\n",
       "      <td>50</td>\n",
       "      <td>7.0</td>\n",
       "      <td>0.00</td>\n",
       "      <td>2</td>\n",
       "      <td>1</td>\n",
       "      <td>1</td>\n",
       "      <td>10062.80</td>\n",
       "      <td>0</td>\n",
       "      <td>0</td>\n",
       "      <td>0</td>\n",
       "      <td>1</td>\n",
       "    </tr>\n",
       "    <tr>\n",
       "      <th>7</th>\n",
       "      <td>376</td>\n",
       "      <td>29</td>\n",
       "      <td>4.0</td>\n",
       "      <td>115046.74</td>\n",
       "      <td>4</td>\n",
       "      <td>1</td>\n",
       "      <td>0</td>\n",
       "      <td>119346.88</td>\n",
       "      <td>1</td>\n",
       "      <td>1</td>\n",
       "      <td>0</td>\n",
       "      <td>0</td>\n",
       "    </tr>\n",
       "    <tr>\n",
       "      <th>8</th>\n",
       "      <td>501</td>\n",
       "      <td>44</td>\n",
       "      <td>4.0</td>\n",
       "      <td>142051.07</td>\n",
       "      <td>2</td>\n",
       "      <td>0</td>\n",
       "      <td>1</td>\n",
       "      <td>74940.50</td>\n",
       "      <td>0</td>\n",
       "      <td>0</td>\n",
       "      <td>0</td>\n",
       "      <td>1</td>\n",
       "    </tr>\n",
       "    <tr>\n",
       "      <th>9</th>\n",
       "      <td>684</td>\n",
       "      <td>27</td>\n",
       "      <td>2.0</td>\n",
       "      <td>134603.88</td>\n",
       "      <td>1</td>\n",
       "      <td>1</td>\n",
       "      <td>1</td>\n",
       "      <td>71725.73</td>\n",
       "      <td>0</td>\n",
       "      <td>0</td>\n",
       "      <td>0</td>\n",
       "      <td>1</td>\n",
       "    </tr>\n",
       "    <tr>\n",
       "      <th>10</th>\n",
       "      <td>528</td>\n",
       "      <td>31</td>\n",
       "      <td>6.0</td>\n",
       "      <td>102016.72</td>\n",
       "      <td>2</td>\n",
       "      <td>0</td>\n",
       "      <td>0</td>\n",
       "      <td>80181.12</td>\n",
       "      <td>0</td>\n",
       "      <td>0</td>\n",
       "      <td>0</td>\n",
       "      <td>1</td>\n",
       "    </tr>\n",
       "    <tr>\n",
       "      <th>11</th>\n",
       "      <td>497</td>\n",
       "      <td>24</td>\n",
       "      <td>3.0</td>\n",
       "      <td>0.00</td>\n",
       "      <td>2</td>\n",
       "      <td>1</td>\n",
       "      <td>0</td>\n",
       "      <td>76390.01</td>\n",
       "      <td>0</td>\n",
       "      <td>0</td>\n",
       "      <td>1</td>\n",
       "      <td>1</td>\n",
       "    </tr>\n",
       "    <tr>\n",
       "      <th>12</th>\n",
       "      <td>476</td>\n",
       "      <td>34</td>\n",
       "      <td>10.0</td>\n",
       "      <td>0.00</td>\n",
       "      <td>2</td>\n",
       "      <td>1</td>\n",
       "      <td>0</td>\n",
       "      <td>26260.98</td>\n",
       "      <td>0</td>\n",
       "      <td>0</td>\n",
       "      <td>0</td>\n",
       "      <td>0</td>\n",
       "    </tr>\n",
       "    <tr>\n",
       "      <th>13</th>\n",
       "      <td>549</td>\n",
       "      <td>25</td>\n",
       "      <td>5.0</td>\n",
       "      <td>0.00</td>\n",
       "      <td>2</td>\n",
       "      <td>0</td>\n",
       "      <td>0</td>\n",
       "      <td>190857.79</td>\n",
       "      <td>0</td>\n",
       "      <td>0</td>\n",
       "      <td>0</td>\n",
       "      <td>0</td>\n",
       "    </tr>\n",
       "    <tr>\n",
       "      <th>14</th>\n",
       "      <td>635</td>\n",
       "      <td>35</td>\n",
       "      <td>7.0</td>\n",
       "      <td>0.00</td>\n",
       "      <td>2</td>\n",
       "      <td>1</td>\n",
       "      <td>1</td>\n",
       "      <td>65951.65</td>\n",
       "      <td>0</td>\n",
       "      <td>0</td>\n",
       "      <td>1</td>\n",
       "      <td>0</td>\n",
       "    </tr>\n",
       "    <tr>\n",
       "      <th>15</th>\n",
       "      <td>616</td>\n",
       "      <td>45</td>\n",
       "      <td>3.0</td>\n",
       "      <td>143129.41</td>\n",
       "      <td>2</td>\n",
       "      <td>0</td>\n",
       "      <td>1</td>\n",
       "      <td>64327.26</td>\n",
       "      <td>0</td>\n",
       "      <td>1</td>\n",
       "      <td>0</td>\n",
       "      <td>1</td>\n",
       "    </tr>\n",
       "    <tr>\n",
       "      <th>16</th>\n",
       "      <td>653</td>\n",
       "      <td>58</td>\n",
       "      <td>1.0</td>\n",
       "      <td>132602.88</td>\n",
       "      <td>1</td>\n",
       "      <td>1</td>\n",
       "      <td>0</td>\n",
       "      <td>5097.67</td>\n",
       "      <td>1</td>\n",
       "      <td>1</td>\n",
       "      <td>0</td>\n",
       "      <td>1</td>\n",
       "    </tr>\n",
       "    <tr>\n",
       "      <th>17</th>\n",
       "      <td>549</td>\n",
       "      <td>24</td>\n",
       "      <td>9.0</td>\n",
       "      <td>0.00</td>\n",
       "      <td>2</td>\n",
       "      <td>1</td>\n",
       "      <td>1</td>\n",
       "      <td>14406.41</td>\n",
       "      <td>0</td>\n",
       "      <td>0</td>\n",
       "      <td>1</td>\n",
       "      <td>0</td>\n",
       "    </tr>\n",
       "    <tr>\n",
       "      <th>18</th>\n",
       "      <td>587</td>\n",
       "      <td>45</td>\n",
       "      <td>6.0</td>\n",
       "      <td>0.00</td>\n",
       "      <td>1</td>\n",
       "      <td>0</td>\n",
       "      <td>0</td>\n",
       "      <td>158684.81</td>\n",
       "      <td>0</td>\n",
       "      <td>0</td>\n",
       "      <td>1</td>\n",
       "      <td>1</td>\n",
       "    </tr>\n",
       "    <tr>\n",
       "      <th>19</th>\n",
       "      <td>726</td>\n",
       "      <td>24</td>\n",
       "      <td>6.0</td>\n",
       "      <td>0.00</td>\n",
       "      <td>2</td>\n",
       "      <td>1</td>\n",
       "      <td>1</td>\n",
       "      <td>54724.03</td>\n",
       "      <td>0</td>\n",
       "      <td>0</td>\n",
       "      <td>0</td>\n",
       "      <td>0</td>\n",
       "    </tr>\n",
       "  </tbody>\n",
       "</table>\n",
       "</div>"
      ],
      "text/plain": [
       "    CreditScore  Age  Tenure    Balance  NumOfProducts  HasCrCard  \\\n",
       "0           619   42     2.0       0.00              1          1   \n",
       "1           608   41     1.0   83807.86              1          0   \n",
       "2           502   42     8.0  159660.80              3          1   \n",
       "3           699   39     1.0       0.00              2          0   \n",
       "4           850   43     2.0  125510.82              1          1   \n",
       "5           645   44     8.0  113755.78              2          1   \n",
       "6           822   50     7.0       0.00              2          1   \n",
       "7           376   29     4.0  115046.74              4          1   \n",
       "8           501   44     4.0  142051.07              2          0   \n",
       "9           684   27     2.0  134603.88              1          1   \n",
       "10          528   31     6.0  102016.72              2          0   \n",
       "11          497   24     3.0       0.00              2          1   \n",
       "12          476   34    10.0       0.00              2          1   \n",
       "13          549   25     5.0       0.00              2          0   \n",
       "14          635   35     7.0       0.00              2          1   \n",
       "15          616   45     3.0  143129.41              2          0   \n",
       "16          653   58     1.0  132602.88              1          1   \n",
       "17          549   24     9.0       0.00              2          1   \n",
       "18          587   45     6.0       0.00              1          0   \n",
       "19          726   24     6.0       0.00              2          1   \n",
       "\n",
       "    IsActiveMember  EstimatedSalary  Exited  Geography_Germany  \\\n",
       "0                1        101348.88       1                  0   \n",
       "1                1        112542.58       0                  0   \n",
       "2                0        113931.57       1                  0   \n",
       "3                0         93826.63       0                  0   \n",
       "4                1         79084.10       0                  0   \n",
       "5                0        149756.71       1                  0   \n",
       "6                1         10062.80       0                  0   \n",
       "7                0        119346.88       1                  1   \n",
       "8                1         74940.50       0                  0   \n",
       "9                1         71725.73       0                  0   \n",
       "10               0         80181.12       0                  0   \n",
       "11               0         76390.01       0                  0   \n",
       "12               0         26260.98       0                  0   \n",
       "13               0        190857.79       0                  0   \n",
       "14               1         65951.65       0                  0   \n",
       "15               1         64327.26       0                  1   \n",
       "16               0          5097.67       1                  1   \n",
       "17               1         14406.41       0                  0   \n",
       "18               0        158684.81       0                  0   \n",
       "19               1         54724.03       0                  0   \n",
       "\n",
       "    Geography_Spain  Gender_Male  \n",
       "0                 0            0  \n",
       "1                 1            0  \n",
       "2                 0            0  \n",
       "3                 0            0  \n",
       "4                 1            0  \n",
       "5                 1            1  \n",
       "6                 0            1  \n",
       "7                 0            0  \n",
       "8                 0            1  \n",
       "9                 0            1  \n",
       "10                0            1  \n",
       "11                1            1  \n",
       "12                0            0  \n",
       "13                0            0  \n",
       "14                1            0  \n",
       "15                0            1  \n",
       "16                0            1  \n",
       "17                1            0  \n",
       "18                1            1  \n",
       "19                0            0  "
      ]
     },
     "execution_count": 16,
     "metadata": {},
     "output_type": "execute_result"
    }
   ],
   "source": [
    "df_ohe.head(20)"
   ]
  },
  {
   "cell_type": "code",
   "execution_count": 17,
   "metadata": {},
   "outputs": [],
   "source": [
    "# Извлечем целевой признак в переменную target, а остальные — в features\n",
    "target = df_ohe['Exited']\n",
    "features = df_ohe.drop('Exited', axis=1)"
   ]
  },
  {
   "cell_type": "code",
   "execution_count": 18,
   "metadata": {},
   "outputs": [],
   "source": [
    "# Разбиение на обучающую и валидационную выборки\n",
    "features_train, features_valid, target_train, target_valid = train_test_split(\n",
    "    features, target, test_size=0.2, random_state=12345)"
   ]
  },
  {
   "cell_type": "code",
   "execution_count": 19,
   "metadata": {},
   "outputs": [],
   "source": [
    "# Разбиение на обучающую и тестовую выборки\n",
    "features_train, features_test, target_train, target_test = train_test_split(\n",
    "    features_train, target_train, test_size=0.25, random_state=12345)"
   ]
  },
  {
   "cell_type": "markdown",
   "metadata": {},
   "source": [
    "Видим, что у признаков разный порядок значений. Поэтому необходимо их масштабировать посредством стандартизации, чтобы алгоритм считал одинаково значимыми все признаки, а не только те, у которых значения больше."
   ]
  },
  {
   "cell_type": "code",
   "execution_count": 20,
   "metadata": {},
   "outputs": [],
   "source": [
    "numeric = ['CreditScore', 'Age', 'Tenure', 'Balance', 'EstimatedSalary']\n",
    "scaler = StandardScaler()\n",
    "scaler.fit(features_train[numeric])\n",
    "features_train[numeric] = scaler.transform(features_train[numeric])\n",
    "features_valid[numeric] = scaler.transform(features_valid[numeric])\n",
    "features_test[numeric] = scaler.transform(features_test[numeric])"
   ]
  },
  {
   "cell_type": "code",
   "execution_count": 21,
   "metadata": {},
   "outputs": [
    {
     "data": {
      "text/html": [
       "<div>\n",
       "<style scoped>\n",
       "    .dataframe tbody tr th:only-of-type {\n",
       "        vertical-align: middle;\n",
       "    }\n",
       "\n",
       "    .dataframe tbody tr th {\n",
       "        vertical-align: top;\n",
       "    }\n",
       "\n",
       "    .dataframe thead th {\n",
       "        text-align: right;\n",
       "    }\n",
       "</style>\n",
       "<table border=\"1\" class=\"dataframe\">\n",
       "  <thead>\n",
       "    <tr style=\"text-align: right;\">\n",
       "      <th></th>\n",
       "      <th>CreditScore</th>\n",
       "      <th>Age</th>\n",
       "      <th>Tenure</th>\n",
       "      <th>Balance</th>\n",
       "      <th>NumOfProducts</th>\n",
       "      <th>HasCrCard</th>\n",
       "      <th>IsActiveMember</th>\n",
       "      <th>EstimatedSalary</th>\n",
       "      <th>Geography_Germany</th>\n",
       "      <th>Geography_Spain</th>\n",
       "      <th>Gender_Male</th>\n",
       "    </tr>\n",
       "  </thead>\n",
       "  <tbody>\n",
       "    <tr>\n",
       "      <th>492</th>\n",
       "      <td>-0.134048</td>\n",
       "      <td>-0.078068</td>\n",
       "      <td>-0.369164</td>\n",
       "      <td>0.076163</td>\n",
       "      <td>2</td>\n",
       "      <td>0</td>\n",
       "      <td>1</td>\n",
       "      <td>0.331571</td>\n",
       "      <td>0</td>\n",
       "      <td>0</td>\n",
       "      <td>0</td>\n",
       "    </tr>\n",
       "    <tr>\n",
       "      <th>6655</th>\n",
       "      <td>-1.010798</td>\n",
       "      <td>0.494555</td>\n",
       "      <td>-0.007475</td>\n",
       "      <td>0.136391</td>\n",
       "      <td>1</td>\n",
       "      <td>1</td>\n",
       "      <td>1</td>\n",
       "      <td>-0.727858</td>\n",
       "      <td>0</td>\n",
       "      <td>0</td>\n",
       "      <td>1</td>\n",
       "    </tr>\n",
       "    <tr>\n",
       "      <th>4287</th>\n",
       "      <td>0.639554</td>\n",
       "      <td>1.353490</td>\n",
       "      <td>-1.454231</td>\n",
       "      <td>0.358435</td>\n",
       "      <td>1</td>\n",
       "      <td>1</td>\n",
       "      <td>1</td>\n",
       "      <td>-0.477006</td>\n",
       "      <td>1</td>\n",
       "      <td>0</td>\n",
       "      <td>1</td>\n",
       "    </tr>\n",
       "    <tr>\n",
       "      <th>42</th>\n",
       "      <td>-0.990168</td>\n",
       "      <td>2.116987</td>\n",
       "      <td>-1.092542</td>\n",
       "      <td>0.651725</td>\n",
       "      <td>1</td>\n",
       "      <td>1</td>\n",
       "      <td>1</td>\n",
       "      <td>-0.100232</td>\n",
       "      <td>0</td>\n",
       "      <td>0</td>\n",
       "      <td>0</td>\n",
       "    </tr>\n",
       "    <tr>\n",
       "      <th>8178</th>\n",
       "      <td>0.567351</td>\n",
       "      <td>0.685430</td>\n",
       "      <td>0.715903</td>\n",
       "      <td>0.813110</td>\n",
       "      <td>2</td>\n",
       "      <td>1</td>\n",
       "      <td>1</td>\n",
       "      <td>0.801922</td>\n",
       "      <td>0</td>\n",
       "      <td>0</td>\n",
       "      <td>0</td>\n",
       "    </tr>\n",
       "    <tr>\n",
       "      <th>...</th>\n",
       "      <td>...</td>\n",
       "      <td>...</td>\n",
       "      <td>...</td>\n",
       "      <td>...</td>\n",
       "      <td>...</td>\n",
       "      <td>...</td>\n",
       "      <td>...</td>\n",
       "      <td>...</td>\n",
       "      <td>...</td>\n",
       "      <td>...</td>\n",
       "      <td>...</td>\n",
       "    </tr>\n",
       "    <tr>\n",
       "      <th>8819</th>\n",
       "      <td>-0.618839</td>\n",
       "      <td>-0.268942</td>\n",
       "      <td>1.800970</td>\n",
       "      <td>0.744283</td>\n",
       "      <td>1</td>\n",
       "      <td>0</td>\n",
       "      <td>1</td>\n",
       "      <td>0.803658</td>\n",
       "      <td>1</td>\n",
       "      <td>0</td>\n",
       "      <td>1</td>\n",
       "    </tr>\n",
       "    <tr>\n",
       "      <th>1537</th>\n",
       "      <td>1.743227</td>\n",
       "      <td>-1.032439</td>\n",
       "      <td>1.077592</td>\n",
       "      <td>-1.232442</td>\n",
       "      <td>1</td>\n",
       "      <td>1</td>\n",
       "      <td>1</td>\n",
       "      <td>-1.098797</td>\n",
       "      <td>0</td>\n",
       "      <td>0</td>\n",
       "      <td>0</td>\n",
       "    </tr>\n",
       "    <tr>\n",
       "      <th>1408</th>\n",
       "      <td>0.567351</td>\n",
       "      <td>-0.650691</td>\n",
       "      <td>1.439281</td>\n",
       "      <td>-1.232442</td>\n",
       "      <td>2</td>\n",
       "      <td>0</td>\n",
       "      <td>0</td>\n",
       "      <td>-1.202257</td>\n",
       "      <td>0</td>\n",
       "      <td>0</td>\n",
       "      <td>1</td>\n",
       "    </tr>\n",
       "    <tr>\n",
       "      <th>7661</th>\n",
       "      <td>-0.412545</td>\n",
       "      <td>0.494555</td>\n",
       "      <td>-1.092542</td>\n",
       "      <td>0.615524</td>\n",
       "      <td>1</td>\n",
       "      <td>1</td>\n",
       "      <td>1</td>\n",
       "      <td>-0.038931</td>\n",
       "      <td>1</td>\n",
       "      <td>0</td>\n",
       "      <td>1</td>\n",
       "    </tr>\n",
       "    <tr>\n",
       "      <th>3295</th>\n",
       "      <td>1.052142</td>\n",
       "      <td>-1.891374</td>\n",
       "      <td>1.439281</td>\n",
       "      <td>-1.232442</td>\n",
       "      <td>1</td>\n",
       "      <td>1</td>\n",
       "      <td>0</td>\n",
       "      <td>1.560932</td>\n",
       "      <td>0</td>\n",
       "      <td>1</td>\n",
       "      <td>0</td>\n",
       "    </tr>\n",
       "  </tbody>\n",
       "</table>\n",
       "<p>6000 rows × 11 columns</p>\n",
       "</div>"
      ],
      "text/plain": [
       "      CreditScore       Age    Tenure   Balance  NumOfProducts  HasCrCard  \\\n",
       "492     -0.134048 -0.078068 -0.369164  0.076163              2          0   \n",
       "6655    -1.010798  0.494555 -0.007475  0.136391              1          1   \n",
       "4287     0.639554  1.353490 -1.454231  0.358435              1          1   \n",
       "42      -0.990168  2.116987 -1.092542  0.651725              1          1   \n",
       "8178     0.567351  0.685430  0.715903  0.813110              2          1   \n",
       "...           ...       ...       ...       ...            ...        ...   \n",
       "8819    -0.618839 -0.268942  1.800970  0.744283              1          0   \n",
       "1537     1.743227 -1.032439  1.077592 -1.232442              1          1   \n",
       "1408     0.567351 -0.650691  1.439281 -1.232442              2          0   \n",
       "7661    -0.412545  0.494555 -1.092542  0.615524              1          1   \n",
       "3295     1.052142 -1.891374  1.439281 -1.232442              1          1   \n",
       "\n",
       "      IsActiveMember  EstimatedSalary  Geography_Germany  Geography_Spain  \\\n",
       "492                1         0.331571                  0                0   \n",
       "6655               1        -0.727858                  0                0   \n",
       "4287               1        -0.477006                  1                0   \n",
       "42                 1        -0.100232                  0                0   \n",
       "8178               1         0.801922                  0                0   \n",
       "...              ...              ...                ...              ...   \n",
       "8819               1         0.803658                  1                0   \n",
       "1537               1        -1.098797                  0                0   \n",
       "1408               0        -1.202257                  0                0   \n",
       "7661               1        -0.038931                  1                0   \n",
       "3295               0         1.560932                  0                1   \n",
       "\n",
       "      Gender_Male  \n",
       "492             0  \n",
       "6655            1  \n",
       "4287            1  \n",
       "42              0  \n",
       "8178            0  \n",
       "...           ...  \n",
       "8819            1  \n",
       "1537            0  \n",
       "1408            1  \n",
       "7661            1  \n",
       "3295            0  \n",
       "\n",
       "[6000 rows x 11 columns]"
      ]
     },
     "execution_count": 21,
     "metadata": {},
     "output_type": "execute_result"
    }
   ],
   "source": [
    "features_train"
   ]
  },
  {
   "cell_type": "code",
   "execution_count": 21,
   "metadata": {},
   "outputs": [
    {
     "data": {
      "text/html": [
       "<div>\n",
       "<style scoped>\n",
       "    .dataframe tbody tr th:only-of-type {\n",
       "        vertical-align: middle;\n",
       "    }\n",
       "\n",
       "    .dataframe tbody tr th {\n",
       "        vertical-align: top;\n",
       "    }\n",
       "\n",
       "    .dataframe thead th {\n",
       "        text-align: right;\n",
       "    }\n",
       "</style>\n",
       "<table border=\"1\" class=\"dataframe\">\n",
       "  <thead>\n",
       "    <tr style=\"text-align: right;\">\n",
       "      <th></th>\n",
       "      <th>CreditScore</th>\n",
       "      <th>Age</th>\n",
       "      <th>Tenure</th>\n",
       "      <th>Balance</th>\n",
       "      <th>NumOfProducts</th>\n",
       "      <th>HasCrCard</th>\n",
       "      <th>IsActiveMember</th>\n",
       "      <th>EstimatedSalary</th>\n",
       "      <th>Exited</th>\n",
       "      <th>Geography_Germany</th>\n",
       "      <th>Geography_Spain</th>\n",
       "      <th>Gender_Male</th>\n",
       "    </tr>\n",
       "  </thead>\n",
       "  <tbody>\n",
       "    <tr>\n",
       "      <th>CreditScore</th>\n",
       "      <td>1.000000</td>\n",
       "      <td>-0.003965</td>\n",
       "      <td>-0.000298</td>\n",
       "      <td>0.006268</td>\n",
       "      <td>0.012238</td>\n",
       "      <td>-0.005458</td>\n",
       "      <td>0.025651</td>\n",
       "      <td>-0.001384</td>\n",
       "      <td>-0.027094</td>\n",
       "      <td>0.005538</td>\n",
       "      <td>0.004780</td>\n",
       "      <td>-0.002857</td>\n",
       "    </tr>\n",
       "    <tr>\n",
       "      <th>Age</th>\n",
       "      <td>-0.003965</td>\n",
       "      <td>1.000000</td>\n",
       "      <td>-0.012864</td>\n",
       "      <td>0.028308</td>\n",
       "      <td>-0.030680</td>\n",
       "      <td>-0.011721</td>\n",
       "      <td>0.085472</td>\n",
       "      <td>-0.007201</td>\n",
       "      <td>0.285323</td>\n",
       "      <td>0.046897</td>\n",
       "      <td>-0.001685</td>\n",
       "      <td>-0.027544</td>\n",
       "    </tr>\n",
       "    <tr>\n",
       "      <th>Tenure</th>\n",
       "      <td>-0.000298</td>\n",
       "      <td>-0.012864</td>\n",
       "      <td>1.000000</td>\n",
       "      <td>-0.007514</td>\n",
       "      <td>0.011282</td>\n",
       "      <td>0.025895</td>\n",
       "      <td>-0.030784</td>\n",
       "      <td>0.009768</td>\n",
       "      <td>-0.015806</td>\n",
       "      <td>-0.002652</td>\n",
       "      <td>0.000772</td>\n",
       "      <td>0.011820</td>\n",
       "    </tr>\n",
       "    <tr>\n",
       "      <th>Balance</th>\n",
       "      <td>0.006268</td>\n",
       "      <td>0.028308</td>\n",
       "      <td>-0.007514</td>\n",
       "      <td>1.000000</td>\n",
       "      <td>-0.304180</td>\n",
       "      <td>-0.014858</td>\n",
       "      <td>-0.010084</td>\n",
       "      <td>0.012797</td>\n",
       "      <td>0.118533</td>\n",
       "      <td>0.401110</td>\n",
       "      <td>-0.134892</td>\n",
       "      <td>0.012087</td>\n",
       "    </tr>\n",
       "    <tr>\n",
       "      <th>NumOfProducts</th>\n",
       "      <td>0.012238</td>\n",
       "      <td>-0.030680</td>\n",
       "      <td>0.011282</td>\n",
       "      <td>-0.304180</td>\n",
       "      <td>1.000000</td>\n",
       "      <td>0.003183</td>\n",
       "      <td>0.009612</td>\n",
       "      <td>0.014204</td>\n",
       "      <td>-0.047820</td>\n",
       "      <td>-0.010419</td>\n",
       "      <td>0.009039</td>\n",
       "      <td>-0.021859</td>\n",
       "    </tr>\n",
       "    <tr>\n",
       "      <th>HasCrCard</th>\n",
       "      <td>-0.005458</td>\n",
       "      <td>-0.011721</td>\n",
       "      <td>0.025895</td>\n",
       "      <td>-0.014858</td>\n",
       "      <td>0.003183</td>\n",
       "      <td>1.000000</td>\n",
       "      <td>-0.011866</td>\n",
       "      <td>-0.009933</td>\n",
       "      <td>-0.007138</td>\n",
       "      <td>0.010577</td>\n",
       "      <td>-0.013480</td>\n",
       "      <td>0.005766</td>\n",
       "    </tr>\n",
       "    <tr>\n",
       "      <th>IsActiveMember</th>\n",
       "      <td>0.025651</td>\n",
       "      <td>0.085472</td>\n",
       "      <td>-0.030784</td>\n",
       "      <td>-0.010084</td>\n",
       "      <td>0.009612</td>\n",
       "      <td>-0.011866</td>\n",
       "      <td>1.000000</td>\n",
       "      <td>-0.011421</td>\n",
       "      <td>-0.156128</td>\n",
       "      <td>-0.020486</td>\n",
       "      <td>0.016732</td>\n",
       "      <td>0.022544</td>\n",
       "    </tr>\n",
       "    <tr>\n",
       "      <th>EstimatedSalary</th>\n",
       "      <td>-0.001384</td>\n",
       "      <td>-0.007201</td>\n",
       "      <td>0.009768</td>\n",
       "      <td>0.012797</td>\n",
       "      <td>0.014204</td>\n",
       "      <td>-0.009933</td>\n",
       "      <td>-0.011421</td>\n",
       "      <td>1.000000</td>\n",
       "      <td>0.012097</td>\n",
       "      <td>0.010297</td>\n",
       "      <td>-0.006482</td>\n",
       "      <td>-0.008112</td>\n",
       "    </tr>\n",
       "    <tr>\n",
       "      <th>Exited</th>\n",
       "      <td>-0.027094</td>\n",
       "      <td>0.285323</td>\n",
       "      <td>-0.015806</td>\n",
       "      <td>0.118533</td>\n",
       "      <td>-0.047820</td>\n",
       "      <td>-0.007138</td>\n",
       "      <td>-0.156128</td>\n",
       "      <td>0.012097</td>\n",
       "      <td>1.000000</td>\n",
       "      <td>0.173488</td>\n",
       "      <td>-0.052667</td>\n",
       "      <td>-0.106512</td>\n",
       "    </tr>\n",
       "    <tr>\n",
       "      <th>Geography_Germany</th>\n",
       "      <td>0.005538</td>\n",
       "      <td>0.046897</td>\n",
       "      <td>-0.002652</td>\n",
       "      <td>0.401110</td>\n",
       "      <td>-0.010419</td>\n",
       "      <td>0.010577</td>\n",
       "      <td>-0.020486</td>\n",
       "      <td>0.010297</td>\n",
       "      <td>0.173488</td>\n",
       "      <td>1.000000</td>\n",
       "      <td>-0.332084</td>\n",
       "      <td>-0.024628</td>\n",
       "    </tr>\n",
       "    <tr>\n",
       "      <th>Geography_Spain</th>\n",
       "      <td>0.004780</td>\n",
       "      <td>-0.001685</td>\n",
       "      <td>0.000772</td>\n",
       "      <td>-0.134892</td>\n",
       "      <td>0.009039</td>\n",
       "      <td>-0.013480</td>\n",
       "      <td>0.016732</td>\n",
       "      <td>-0.006482</td>\n",
       "      <td>-0.052667</td>\n",
       "      <td>-0.332084</td>\n",
       "      <td>1.000000</td>\n",
       "      <td>0.016889</td>\n",
       "    </tr>\n",
       "    <tr>\n",
       "      <th>Gender_Male</th>\n",
       "      <td>-0.002857</td>\n",
       "      <td>-0.027544</td>\n",
       "      <td>0.011820</td>\n",
       "      <td>0.012087</td>\n",
       "      <td>-0.021859</td>\n",
       "      <td>0.005766</td>\n",
       "      <td>0.022544</td>\n",
       "      <td>-0.008112</td>\n",
       "      <td>-0.106512</td>\n",
       "      <td>-0.024628</td>\n",
       "      <td>0.016889</td>\n",
       "      <td>1.000000</td>\n",
       "    </tr>\n",
       "  </tbody>\n",
       "</table>\n",
       "</div>"
      ],
      "text/plain": [
       "                   CreditScore       Age    Tenure   Balance  NumOfProducts  \\\n",
       "CreditScore           1.000000 -0.003965 -0.000298  0.006268       0.012238   \n",
       "Age                  -0.003965  1.000000 -0.012864  0.028308      -0.030680   \n",
       "Tenure               -0.000298 -0.012864  1.000000 -0.007514       0.011282   \n",
       "Balance               0.006268  0.028308 -0.007514  1.000000      -0.304180   \n",
       "NumOfProducts         0.012238 -0.030680  0.011282 -0.304180       1.000000   \n",
       "HasCrCard            -0.005458 -0.011721  0.025895 -0.014858       0.003183   \n",
       "IsActiveMember        0.025651  0.085472 -0.030784 -0.010084       0.009612   \n",
       "EstimatedSalary      -0.001384 -0.007201  0.009768  0.012797       0.014204   \n",
       "Exited               -0.027094  0.285323 -0.015806  0.118533      -0.047820   \n",
       "Geography_Germany     0.005538  0.046897 -0.002652  0.401110      -0.010419   \n",
       "Geography_Spain       0.004780 -0.001685  0.000772 -0.134892       0.009039   \n",
       "Gender_Male          -0.002857 -0.027544  0.011820  0.012087      -0.021859   \n",
       "\n",
       "                   HasCrCard  IsActiveMember  EstimatedSalary    Exited  \\\n",
       "CreditScore        -0.005458        0.025651        -0.001384 -0.027094   \n",
       "Age                -0.011721        0.085472        -0.007201  0.285323   \n",
       "Tenure              0.025895       -0.030784         0.009768 -0.015806   \n",
       "Balance            -0.014858       -0.010084         0.012797  0.118533   \n",
       "NumOfProducts       0.003183        0.009612         0.014204 -0.047820   \n",
       "HasCrCard           1.000000       -0.011866        -0.009933 -0.007138   \n",
       "IsActiveMember     -0.011866        1.000000        -0.011421 -0.156128   \n",
       "EstimatedSalary    -0.009933       -0.011421         1.000000  0.012097   \n",
       "Exited             -0.007138       -0.156128         0.012097  1.000000   \n",
       "Geography_Germany   0.010577       -0.020486         0.010297  0.173488   \n",
       "Geography_Spain    -0.013480        0.016732        -0.006482 -0.052667   \n",
       "Gender_Male         0.005766        0.022544        -0.008112 -0.106512   \n",
       "\n",
       "                   Geography_Germany  Geography_Spain  Gender_Male  \n",
       "CreditScore                 0.005538         0.004780    -0.002857  \n",
       "Age                         0.046897        -0.001685    -0.027544  \n",
       "Tenure                     -0.002652         0.000772     0.011820  \n",
       "Balance                     0.401110        -0.134892     0.012087  \n",
       "NumOfProducts              -0.010419         0.009039    -0.021859  \n",
       "HasCrCard                   0.010577        -0.013480     0.005766  \n",
       "IsActiveMember             -0.020486         0.016732     0.022544  \n",
       "EstimatedSalary             0.010297        -0.006482    -0.008112  \n",
       "Exited                      0.173488        -0.052667    -0.106512  \n",
       "Geography_Germany           1.000000        -0.332084    -0.024628  \n",
       "Geography_Spain            -0.332084         1.000000     0.016889  \n",
       "Gender_Male                -0.024628         0.016889     1.000000  "
      ]
     },
     "execution_count": 21,
     "metadata": {},
     "output_type": "execute_result"
    }
   ],
   "source": [
    "df_ohe.corr()"
   ]
  },
  {
   "cell_type": "markdown",
   "metadata": {},
   "source": [
    "## Исследование задачи"
   ]
  },
  {
   "cell_type": "markdown",
   "metadata": {},
   "source": [
    "Исследуем баланс классов, т.е. проверим, как часто в целевом признаке встречается класс «0» или «1»."
   ]
  },
  {
   "cell_type": "code",
   "execution_count": 60,
   "metadata": {},
   "outputs": [
    {
     "name": "stdout",
     "output_type": "stream",
     "text": [
      "0    0.7963\n",
      "1    0.2037\n",
      "Name: Exited, dtype: float64\n"
     ]
    },
    {
     "data": {
      "image/png": "[encoded data removed]",
      "text/plain": [
       "<Figure size 640x480 with 1 Axes>"
      ]
     },
     "metadata": {},
     "output_type": "display_data"
    }
   ],
   "source": [
    "class_frequency = df_ohe['Exited'].value_counts(normalize=True)\n",
    "print(class_frequency)\n",
    "class_frequency.plot(kind='bar')\n",
    "plt.xlabel('Класс')\n",
    "plt.ylabel('Частота класса')\n",
    "plt.title('Частотность классов «0» и «1»')\n",
    "plt.show()"
   ]
  },
  {
   "cell_type": "markdown",
   "metadata": {},
   "source": [
    "Как видно из графика, наблюдается явный перевес в сторону отрицательных значений, т.е. дисбаланс классов."
   ]
  },
  {
   "cell_type": "markdown",
   "metadata": {},
   "source": [
    "Теперь обучим модель решающего дерева без учета дисбаланса классов."
   ]
  },
  {
   "cell_type": "code",
   "execution_count": 61,
   "metadata": {},
   "outputs": [
    {
     "name": "stdout",
     "output_type": "stream",
     "text": [
      "0    0.791\n",
      "1    0.209\n",
      "dtype: float64\n"
     ]
    },
    {
     "data": {
      "image/png": "[encoded data removed]",
      "text/plain": [
       "<Figure size 640x480 with 1 Axes>"
      ]
     },
     "metadata": {},
     "output_type": "display_data"
    }
   ],
   "source": [
    "model = DecisionTreeClassifier(random_state=12345)\n",
    "model.fit(features_train, target_train)\n",
    "\n",
    "predicted_valid = pd.Series(model.predict(features_valid))\n",
    "\n",
    "class_frequency = predicted_valid.value_counts(normalize=True)\n",
    "print(class_frequency)\n",
    "class_frequency.plot(kind='bar')\n",
    "plt.xlabel('Класс')\n",
    "plt.ylabel('Частота класса')\n",
    "plt.title('Частотность классов «0» и «1»')\n",
    "plt.show()"
   ]
  },
  {
   "cell_type": "markdown",
   "metadata": {},
   "source": [
    "Результат предсказаний такого решающего дерева мало чем отличается от результатов подсчета классов в целевом признаке."
   ]
  },
  {
   "cell_type": "markdown",
   "metadata": {},
   "source": [
    "Создадим константную модель, которая будет прогнозировать класс «0» и подсчитаем ее accuracy."
   ]
  },
  {
   "cell_type": "code",
   "execution_count": 62,
   "metadata": {},
   "outputs": [
    {
     "name": "stdout",
     "output_type": "stream",
     "text": [
      "Accuracy константной модели: 0.7963\n"
     ]
    }
   ],
   "source": [
    "target_pred_constant = pd.Series([0] * len(target))\n",
    "\n",
    "print(f'Accuracy константной модели: {accuracy_score(target, target_pred_constant)}') "
   ]
  },
  {
   "cell_type": "markdown",
   "metadata": {},
   "source": [
    "Accuracy такой константной модели близка к частоте класса «0» в модели решающего дерева без учета дисбаланса классов и целевом признаке. Следовательно, проверку на адекватность модель такого решающего дерева не прошла. Значит, надо учесть дисбаланс классов."
   ]
  },
  {
   "cell_type": "markdown",
   "metadata": {},
   "source": [
    "Также понимание того, что модель предсказывает с ошибками, нам даст матрица ошибок. Построим такую матрицу для нашей модели решающего дерева без учета дисбаланса классов."
   ]
  },
  {
   "cell_type": "code",
   "execution_count": 63,
   "metadata": {},
   "outputs": [
    {
     "data": {
      "text/plain": [
       "array([[1373,  200],\n",
       "       [ 209,  218]])"
      ]
     },
     "execution_count": 63,
     "metadata": {},
     "output_type": "execute_result"
    }
   ],
   "source": [
    "confusion_matrix(target_valid, predicted_valid)"
   ]
  },
  {
   "cell_type": "markdown",
   "metadata": {},
   "source": [
    "Значения диагонали, проведенной из левого нижнего угла матрицы в правый верхний (**побочная диагональ матрицы**), – это количество неверных предсказаний модели."
   ]
  },
  {
   "cell_type": "markdown",
   "metadata": {},
   "source": [
    "## Борьба с дисбалансом"
   ]
  },
  {
   "cell_type": "markdown",
   "metadata": {},
   "source": [
    "Обучим разные модели. Чтобы отслеживать изменения качества модели, будем вычислять F1-меру и ROC-AUC после использования каждой техники борьбы с дисбалансом."
   ]
  },
  {
   "cell_type": "markdown",
   "metadata": {},
   "source": [
    "### Модель решающего дерева"
   ]
  },
  {
   "cell_type": "markdown",
   "metadata": {},
   "source": [
    "Ниже написана общая функция для модели решающего дерева, которую можно применять для разных техник борьбы с дисбалансом. Для этого в ней введены такие параметры как threshold_from и threshold_to. Когда речь не будет касаться изменения порога классификации, то данные параметры будут указывать равными 0.5 и 0.51, чтобы цикл брал только одно значение threshold`а равным 0.5."
   ]
  },
  {
   "cell_type": "code",
   "execution_count": 64,
   "metadata": {},
   "outputs": [],
   "source": [
    "# Создадим функцию, которая строит модель решающего дерева с разными параметрами и находит лучшую по F1-мере\n",
    "def BestDecisionTree(which_features, which_target, weight, threshold_from, threshold_to, \n",
    "                     features_valid_or_test, target_valid_or_test):\n",
    "    best_model_tree = None\n",
    "    best_f1_tree = 0\n",
    "    best_depth_tree = 0\n",
    "    best_roc_auc_tree = 0\n",
    "    best_threshold_tree = 0\n",
    "    for depth in range(1,11):\n",
    "        model = DecisionTreeClassifier(random_state=12345, max_depth=depth, class_weight=weight)\n",
    "        model.fit(which_features, which_target)\n",
    "        probabilities_valid = model.predict_proba(features_valid_or_test)\n",
    "        probabilities_one_valid = probabilities_valid[:, 1]\n",
    "        for threshold in np.arange(threshold_from, threshold_to, 0.02):\n",
    "            predicted_valid = probabilities_one_valid > threshold\n",
    "            f1 = f1_score(target_valid_or_test, predicted_valid)\n",
    "            roc_auc = roc_auc_score(target_valid_or_test, probabilities_one_valid)\n",
    "            if f1 > best_f1_tree:\n",
    "                best_model_tree = model\n",
    "                best_depth_tree = depth\n",
    "                best_threshold_tree = threshold\n",
    "                best_f1_tree = f1\n",
    "                best_roc_auc_tree = roc_auc\n",
    "    print('Результаты наилучшей модели решающего дерева на валидационной выборке:')\n",
    "    print('Глубина дерева:', best_depth_tree)\n",
    "    print('Порог: {:.2f}'.format(best_threshold_tree))\n",
    "    print('F1-мера:', best_f1_tree)\n",
    "    print('ROC-AUC:', best_roc_auc_tree)"
   ]
  },
  {
   "cell_type": "code",
   "execution_count": 65,
   "metadata": {},
   "outputs": [
    {
     "name": "stdout",
     "output_type": "stream",
     "text": [
      "Результаты наилучшей модели решающего дерева на валидационной выборке:\n",
      "Глубина дерева: 5\n",
      "Порог: 0.50\n",
      "F1-мера: 0.5608011444921316\n",
      "ROC-AUC: 0.8468610376210971\n"
     ]
    }
   ],
   "source": [
    "BestDecisionTree(features_train, target_train, None, 0.5, 0.51, features_valid, target_valid)"
   ]
  },
  {
   "cell_type": "markdown",
   "metadata": {},
   "source": [
    "#### Взвешивание классов"
   ]
  },
  {
   "cell_type": "markdown",
   "metadata": {},
   "source": [
    "Проведем взвешивание классов."
   ]
  },
  {
   "cell_type": "code",
   "execution_count": 66,
   "metadata": {},
   "outputs": [
    {
     "name": "stdout",
     "output_type": "stream",
     "text": [
      "Результаты наилучшей модели решающего дерева на валидационной выборке:\n",
      "Глубина дерева: 8\n",
      "Порог: 0.50\n",
      "F1-мера: 0.595617529880478\n",
      "ROC-AUC: 0.8077354835924135\n"
     ]
    }
   ],
   "source": [
    "BestDecisionTree(features_train, target_train, 'balanced', 0.5, 0.51, features_valid, target_valid)"
   ]
  },
  {
   "cell_type": "markdown",
   "metadata": {},
   "source": [
    "#### Увеличение/уменьшение выборки (upsampling/downsampling)"
   ]
  },
  {
   "cell_type": "markdown",
   "metadata": {},
   "source": [
    "Проведем upsampling и downsampling."
   ]
  },
  {
   "cell_type": "code",
   "execution_count": 67,
   "metadata": {},
   "outputs": [],
   "source": [
    "# Создадим функцию, производящую upsampling\n",
    "def upsample(features, target, repeat):\n",
    "    features_zeros = features[target == 0]\n",
    "    features_ones = features[target == 1]\n",
    "    target_zeros = target[target == 0]\n",
    "    target_ones = target[target == 1]\n",
    "    \n",
    "    features_upsampled = pd.concat([features_zeros] + [features_ones] * repeat)\n",
    "    target_upsampled = pd.concat([target_zeros] + [target_ones] * repeat)\n",
    "    \n",
    "    features_upsampled, target_upsampled = shuffle(features_upsampled, target_upsampled, random_state=12345)\n",
    "    \n",
    "    return features_upsampled, target_upsampled"
   ]
  },
  {
   "cell_type": "code",
   "execution_count": 68,
   "metadata": {},
   "outputs": [],
   "source": [
    "# Upsampling обучающей выборки\n",
    "features_upsampled, target_upsampled = upsample(features_train, target_train, 10)"
   ]
  },
  {
   "cell_type": "code",
   "execution_count": 69,
   "metadata": {},
   "outputs": [
    {
     "name": "stdout",
     "output_type": "stream",
     "text": [
      "Результаты наилучшей модели решающего дерева на валидационной выборке:\n",
      "Глубина дерева: 5\n",
      "Порог: 0.50\n",
      "F1-мера: 0.5131034482758621\n",
      "ROC-AUC: 0.8462818850300222\n"
     ]
    }
   ],
   "source": [
    "BestDecisionTree(features_upsampled, target_upsampled, None, 0.5, 0.51, features_valid, target_valid)"
   ]
  },
  {
   "cell_type": "code",
   "execution_count": 70,
   "metadata": {},
   "outputs": [],
   "source": [
    "# Создадим функцию, производящую downsampling\n",
    "def downsample(features, target, fraction):\n",
    "    features_zeros = features[target == 0]\n",
    "    features_ones = features[target == 1]\n",
    "    target_zeros = target[target == 0]\n",
    "    target_ones = target[target == 1]\n",
    "    \n",
    "    features_downsampled = pd.concat([features_zeros.sample(frac=fraction, random_state=12345)] + [features_ones])\n",
    "    target_downsampled = pd.concat([target_zeros.sample(frac=fraction, random_state=12345)] + [target_ones])\n",
    "    \n",
    "    features_downsampled, target_downsampled = shuffle(features_downsampled, target_downsampled, random_state=12345)\n",
    "    \n",
    "    return features_downsampled, target_downsampled"
   ]
  },
  {
   "cell_type": "code",
   "execution_count": 71,
   "metadata": {},
   "outputs": [],
   "source": [
    "# Downsampling обучающей выборки\n",
    "features_downsampled, target_downsampled = downsample(features_train, target_train, 0.1)"
   ]
  },
  {
   "cell_type": "code",
   "execution_count": 72,
   "metadata": {},
   "outputs": [
    {
     "name": "stdout",
     "output_type": "stream",
     "text": [
      "Результаты наилучшей модели решающего дерева на валидационной выборке:\n",
      "Глубина дерева: 5\n",
      "Порог: 0.50\n",
      "F1-мера: 0.5430566330488751\n",
      "ROC-AUC: 0.8103587917298797\n"
     ]
    }
   ],
   "source": [
    "BestDecisionTree(features_downsampled, target_downsampled, None, 0.5, 0.51, features_valid, target_valid)"
   ]
  },
  {
   "cell_type": "markdown",
   "metadata": {},
   "source": [
    "#### Изменение порога классификации"
   ]
  },
  {
   "cell_type": "markdown",
   "metadata": {},
   "source": [
    "Изменим значение порога классификации."
   ]
  },
  {
   "cell_type": "code",
   "execution_count": 73,
   "metadata": {},
   "outputs": [
    {
     "name": "stdout",
     "output_type": "stream",
     "text": [
      "Результаты наилучшей модели решающего дерева на валидационной выборке:\n",
      "Глубина дерева: 6\n",
      "Порог: 0.26\n",
      "F1-мера: 0.6229860365198711\n",
      "ROC-AUC: 0.8415772007426254\n"
     ]
    }
   ],
   "source": [
    "BestDecisionTree(features_train, target_train, None, 0, 1, features_valid, target_valid)"
   ]
  },
  {
   "cell_type": "markdown",
   "metadata": {},
   "source": [
    "#### Изменение порога классификации + взвешивание классов"
   ]
  },
  {
   "cell_type": "markdown",
   "metadata": {},
   "source": [
    "Одновременно изменим значение порога классификации и проведем взвешивание классов."
   ]
  },
  {
   "cell_type": "code",
   "execution_count": 74,
   "metadata": {},
   "outputs": [
    {
     "name": "stdout",
     "output_type": "stream",
     "text": [
      "Результаты наилучшей модели решающего дерева на валидационной выборке:\n",
      "Глубина дерева: 5\n",
      "Порог: 0.54\n",
      "F1-мера: 0.631004366812227\n",
      "ROC-AUC: 0.8464925536460559\n"
     ]
    }
   ],
   "source": [
    "BestDecisionTree(features_train, target_train, 'balanced', 0, 1, features_valid, target_valid)"
   ]
  },
  {
   "cell_type": "markdown",
   "metadata": {},
   "source": [
    "#### Изменение порога классификации + увеличение/уменьшение выборки (upsampling/downsampling)"
   ]
  },
  {
   "cell_type": "markdown",
   "metadata": {},
   "source": [
    "Одновременно изменим значение порога классификации и проведем upsampling/downsampling."
   ]
  },
  {
   "cell_type": "code",
   "execution_count": 75,
   "metadata": {},
   "outputs": [
    {
     "name": "stdout",
     "output_type": "stream",
     "text": [
      "Результаты наилучшей модели решающего дерева на валидационной выборке:\n",
      "Глубина дерева: 5\n",
      "Порог: 0.74\n",
      "F1-мера: 0.6217516843118382\n",
      "ROC-AUC: 0.8462818850300222\n"
     ]
    }
   ],
   "source": [
    "BestDecisionTree(features_upsampled, target_upsampled, None, 0, 1, features_valid, target_valid)"
   ]
  },
  {
   "cell_type": "code",
   "execution_count": 76,
   "metadata": {},
   "outputs": [
    {
     "name": "stdout",
     "output_type": "stream",
     "text": [
      "Результаты наилучшей модели решающего дерева на валидационной выборке:\n",
      "Глубина дерева: 6\n",
      "Порог: 0.72\n",
      "F1-мера: 0.5683836589698046\n",
      "ROC-AUC: 0.8044905913758373\n"
     ]
    }
   ],
   "source": [
    "BestDecisionTree(features_downsampled, target_downsampled, None, 0, 1, features_valid, target_valid)"
   ]
  },
  {
   "cell_type": "markdown",
   "metadata": {},
   "source": [
    "### Модель случайного леса"
   ]
  },
  {
   "cell_type": "markdown",
   "metadata": {},
   "source": [
    "Аналогично модели решающего дерева ниже написана общая функция для модели случайного леса с той же концепцией."
   ]
  },
  {
   "cell_type": "code",
   "execution_count": 77,
   "metadata": {},
   "outputs": [],
   "source": [
    "# Создадим функцию, которая строит модель случайного леса с разными параметрами и находит лучшую по F1-мере\n",
    "def BestRandomForest(which_features, which_target, weight, threshold_from, threshold_to, \n",
    "                     features_valid_or_test, target_valid_or_test):\n",
    "    best_model_forest = None\n",
    "    best_f1_forest = 0\n",
    "    best_depth_forest = 0\n",
    "    best_est_forest = 0\n",
    "    best_roc_auc_forest = 0\n",
    "    best_threshold_forest = 0\n",
    "    for est in range(10, 201, 10):\n",
    "        for depth in range (1, 11):\n",
    "            model = RandomForestClassifier(random_state=12345, n_estimators=est, max_depth=depth, class_weight=weight)\n",
    "            model.fit(which_features, which_target)\n",
    "            probabilities_valid = model.predict_proba(features_valid_or_test)\n",
    "            probabilities_one_valid = probabilities_valid[:, 1]\n",
    "            for threshold in np.arange(threshold_from, threshold_to, 0.02):\n",
    "                predicted_valid = probabilities_one_valid > threshold\n",
    "                f1 = f1_score(target_valid_or_test, predicted_valid)\n",
    "                roc_auc = roc_auc_score(target_valid_or_test, probabilities_one_valid)\n",
    "                if f1 > best_f1_forest:\n",
    "                    best_model_forest = model\n",
    "                    best_est_forest = est\n",
    "                    best_depth_forest = depth\n",
    "                    best_threshold_forest = threshold\n",
    "                    best_f1_forest = f1\n",
    "                    best_roc_auc_forest = roc_auc\n",
    "    print('Результаты наилучшей модели случайного леса на валидационной выборке:')\n",
    "    print('Кол-во деревьев:', best_est_forest)\n",
    "    print('Глубина дерева:', best_depth_forest)\n",
    "    print('Порог: {:.2f}'.format(best_threshold_forest))\n",
    "    print('F1-мера:', best_f1_forest)\n",
    "    print('ROC-AUC:', best_roc_auc_forest)"
   ]
  },
  {
   "cell_type": "code",
   "execution_count": 78,
   "metadata": {},
   "outputs": [
    {
     "name": "stdout",
     "output_type": "stream",
     "text": [
      "Результаты наилучшей модели случайного леса на валидационной выборке:\n",
      "Кол-во деревьев: 80\n",
      "Глубина дерева: 10\n",
      "Порог: 0.50\n",
      "F1-мера: 0.5627836611195159\n",
      "ROC-AUC: 0.8680455163316565\n"
     ]
    }
   ],
   "source": [
    "BestRandomForest(features_train, target_train, None, 0.5, 0.51, features_valid, target_valid)"
   ]
  },
  {
   "cell_type": "markdown",
   "metadata": {},
   "source": [
    "#### Взвешивание классов"
   ]
  },
  {
   "cell_type": "markdown",
   "metadata": {},
   "source": [
    "Проведем взвешивание классов."
   ]
  },
  {
   "cell_type": "code",
   "execution_count": 79,
   "metadata": {},
   "outputs": [
    {
     "name": "stdout",
     "output_type": "stream",
     "text": [
      "Результаты наилучшей модели случайного леса на валидационной выборке:\n",
      "Кол-во деревьев: 120\n",
      "Глубина дерева: 7\n",
      "Порог: 0.50\n",
      "F1-мера: 0.6550665301944728\n",
      "ROC-AUC: 0.8695477398905118\n"
     ]
    }
   ],
   "source": [
    "BestRandomForest(features_train, target_train, 'balanced', 0.5, 0.51, features_valid, target_valid)"
   ]
  },
  {
   "cell_type": "markdown",
   "metadata": {},
   "source": [
    "#### Увеличение/уменьшение выборки (upsampling/downsampling)"
   ]
  },
  {
   "cell_type": "markdown",
   "metadata": {},
   "source": [
    "Проведем upsampling и downsampling."
   ]
  },
  {
   "cell_type": "code",
   "execution_count": 41,
   "metadata": {},
   "outputs": [
    {
     "name": "stdout",
     "output_type": "stream",
     "text": [
      "Результаты наилучшей модели случайного леса на валидационной выборке:\n",
      "Кол-во деревьев: 140\n",
      "Глубина дерева: 10\n",
      "Порог: 0.50\n",
      "F1-мера: 0.5753871230643847\n",
      "ROC-AUC: 0.8537751369346005\n"
     ]
    }
   ],
   "source": [
    "BestRandomForest(features_upsampled, target_upsampled, None, 0.5, 0.51, features_valid, target_valid)"
   ]
  },
  {
   "cell_type": "code",
   "execution_count": 42,
   "metadata": {},
   "outputs": [
    {
     "name": "stdout",
     "output_type": "stream",
     "text": [
      "Результаты наилучшей модели случайного леса на валидационной выборке:\n",
      "Кол-во деревьев: 20\n",
      "Глубина дерева: 10\n",
      "Порог: 0.50\n",
      "F1-мера: 0.4971392244119517\n",
      "ROC-AUC: 0.8380628313564231\n"
     ]
    }
   ],
   "source": [
    "BestRandomForest(features_downsampled, target_downsampled, None, 0.5, 0.51, features_valid, target_valid)"
   ]
  },
  {
   "cell_type": "markdown",
   "metadata": {},
   "source": [
    "#### Изменение порога классификации"
   ]
  },
  {
   "cell_type": "markdown",
   "metadata": {},
   "source": [
    "Изменим значение порога классификации."
   ]
  },
  {
   "cell_type": "code",
   "execution_count": 43,
   "metadata": {},
   "outputs": [
    {
     "name": "stdout",
     "output_type": "stream",
     "text": [
      "Результаты наилучшей модели случайного леса на валидационной выборке:\n",
      "Кол-во деревьев: 180\n",
      "Глубина дерева: 10\n",
      "Порог: 0.30\n",
      "F1-мера: 0.6549295774647887\n",
      "ROC-AUC: 0.8690415396823742\n"
     ]
    }
   ],
   "source": [
    "BestRandomForest(features_train, target_train, None, 0, 1, features_valid, target_valid)"
   ]
  },
  {
   "cell_type": "markdown",
   "metadata": {},
   "source": [
    "#### Изменение порога классификации + взвешивание классов"
   ]
  },
  {
   "cell_type": "markdown",
   "metadata": {},
   "source": [
    "Одновременно изменим значение порога классификации и проведем взвешивание классов."
   ]
  },
  {
   "cell_type": "code",
   "execution_count": 44,
   "metadata": {},
   "outputs": [
    {
     "name": "stdout",
     "output_type": "stream",
     "text": [
      "Результаты наилучшей модели случайного леса на валидационной выборке:\n",
      "Кол-во деревьев: 150\n",
      "Глубина дерева: 7\n",
      "Порог: 0.52\n",
      "F1-мера: 0.6595059076262083\n",
      "ROC-AUC: 0.8692827291933104\n"
     ]
    }
   ],
   "source": [
    "BestRandomForest(features_train, target_train, 'balanced', 0, 1, features_valid, target_valid)"
   ]
  },
  {
   "cell_type": "markdown",
   "metadata": {},
   "source": [
    "#### Изменение порога классификации + увеличение/уменьшение выборки (upsampling/downsampling)"
   ]
  },
  {
   "cell_type": "markdown",
   "metadata": {},
   "source": [
    "Одновременно изменим значение порога классификации и проведем upsampling/downsampling."
   ]
  },
  {
   "cell_type": "code",
   "execution_count": 45,
   "metadata": {},
   "outputs": [
    {
     "name": "stdout",
     "output_type": "stream",
     "text": [
      "Результаты наилучшей модели случайного леса на валидационной выборке:\n",
      "Кол-во деревьев: 170\n",
      "Глубина дерева: 7\n",
      "Порог: 0.72\n",
      "F1-мера: 0.6559139784946236\n",
      "ROC-AUC: 0.8649070750412031\n"
     ]
    }
   ],
   "source": [
    "BestRandomForest(features_upsampled, target_upsampled, None, 0, 1, features_valid, target_valid)"
   ]
  },
  {
   "cell_type": "code",
   "execution_count": 46,
   "metadata": {},
   "outputs": [
    {
     "name": "stdout",
     "output_type": "stream",
     "text": [
      "Результаты наилучшей модели случайного леса на валидационной выборке:\n",
      "Кол-во деревьев: 160\n",
      "Глубина дерева: 6\n",
      "Порог: 0.74\n",
      "F1-мера: 0.6331236897274632\n",
      "ROC-AUC: 0.8567885169971607\n"
     ]
    }
   ],
   "source": [
    "BestRandomForest(features_downsampled, target_downsampled, None, 0, 1, features_valid, target_valid)"
   ]
  },
  {
   "cell_type": "markdown",
   "metadata": {},
   "source": [
    "### Вывод: сравнение моделей и техник и выбор лучшей комбинации"
   ]
  },
  {
   "cell_type": "markdown",
   "metadata": {},
   "source": [
    "Лучшими моделями стали следующие с определенными техниками борьбы с дисбалансом:\n",
    "\n",
    "| Модель | Техника | F1-мера | ROC-AUC |\n",
    "| :- | :- | :- | :- |\n",
    "| Решающее дерево | Изменение порога классификации + взвешивание классов | 0.631004366812227 | 0.8464925536460559 |\n",
    "| Случайный лес | Изменение порога классификации + взвешивание классов | 0.6595059076262083 | 0.8692827291933104 |\n",
    "\n",
    "Из сравнительной таблицы видно, что наивысшее значение **F1-меры** у **модели случайного леса** с техникой **изменения порога классификации + взвешивания классов**, равное **0.6595059076262083**. При этом значение **ROC-AUC** равно **0.8692827291933104**. Выберем данную комбинацию модели и техники для дальнейшей проверки на тестовой выборке."
   ]
  },
  {
   "cell_type": "markdown",
   "metadata": {},
   "source": [
    "## Тестирование модели"
   ]
  },
  {
   "cell_type": "markdown",
   "metadata": {},
   "source": [
    "Проверим наилучшую модель случайного леса с техникой изменения порога классификации + взвешивания классов на тестовой выборке."
   ]
  },
  {
   "cell_type": "code",
   "execution_count": 56,
   "metadata": {},
   "outputs": [
    {
     "name": "stdout",
     "output_type": "stream",
     "text": [
      "Результаты наилучшей модели случайного леса на валидационной выборке:\n",
      "Кол-во деревьев: 50\n",
      "Глубина дерева: 8\n",
      "Порог: 0.52\n",
      "F1-мера: 0.6053921568627452\n",
      "ROC-AUC: 0.8549638462675583\n"
     ]
    }
   ],
   "source": [
    "BestRandomForest(features_train, target_train, 'balanced', 0, 1, features_test, target_test)"
   ]
  },
  {
   "cell_type": "markdown",
   "metadata": {},
   "source": [
    "На тестовой выборке модель показала себя хуже, чем на валидационной, но при этом она все еще выше 0.59."
   ]
  },
  {
   "cell_type": "markdown",
   "metadata": {},
   "source": [
    "## Общий вывод"
   ]
  },
  {
   "cell_type": "markdown",
   "metadata": {},
   "source": [
    "Наилучшие результаты у комбинации модели случайного леса и техники изменения порога классификации + взвешивания классов на валидационной и тестовой выборках:\n",
    "\n",
    "| Выборка | F1-мера | ROC-AUC |\n",
    "| :- | :- | :- |\n",
    "| Валидационная | 0.6595059076262083 | 0.8692827291933104 |\n",
    "| Тестовая | 0.6053921568627452 | 0.8549638462675583 |\n",
    "\n",
    "Таким образом, можно заключить:\n",
    "- в данном проекте удалось достичь поставленной задачи в виде значения F1-меры выше 0.59 на валидационной выборке с помощью комбинации модели случайного леса и техники изменения порога классификации + взвешивания классов;\n",
    "- при этом ROC-AUC на валидационной выборке принимает значение выше 0.86;\n",
    "- на тестовой выборке значение F1-меры ниже, чем на валидационной, но не ниже 0.59, а значение ROC-AUC выше 0.85."
   ]
  }
 ],
 "metadata": {
  "ExecuteTimeLog": [
   {
    "duration": 421,
    "start_time": "2022-11-18T04:37:50.364Z"
   },
   {
    "duration": 88,
    "start_time": "2022-11-18T04:37:52.142Z"
   },
   {
    "duration": 44,
    "start_time": "2022-11-18T04:37:55.409Z"
   },
   {
    "duration": 5,
    "start_time": "2022-11-18T04:51:14.710Z"
   },
   {
    "duration": 20,
    "start_time": "2022-11-18T04:51:22.606Z"
   },
   {
    "duration": 5,
    "start_time": "2022-11-18T05:20:33.138Z"
   },
   {
    "duration": 11,
    "start_time": "2022-11-18T05:27:01.415Z"
   },
   {
    "duration": 20,
    "start_time": "2022-11-18T05:27:06.543Z"
   },
   {
    "duration": 21,
    "start_time": "2022-11-18T05:27:14.911Z"
   },
   {
    "duration": 11,
    "start_time": "2022-11-18T05:31:25.674Z"
   },
   {
    "duration": 19,
    "start_time": "2022-11-18T05:31:27.707Z"
   },
   {
    "duration": 18,
    "start_time": "2022-11-18T05:32:01.478Z"
   },
   {
    "duration": 9,
    "start_time": "2022-11-18T05:32:11.700Z"
   },
   {
    "duration": 67,
    "start_time": "2022-11-18T05:32:21.999Z"
   },
   {
    "duration": 10,
    "start_time": "2022-11-18T05:32:28.199Z"
   },
   {
    "duration": 17,
    "start_time": "2022-11-18T05:32:32.019Z"
   },
   {
    "duration": 8,
    "start_time": "2022-11-18T05:32:42.215Z"
   },
   {
    "duration": 6,
    "start_time": "2022-11-18T05:32:58.109Z"
   },
   {
    "duration": 7,
    "start_time": "2022-11-18T05:33:04.577Z"
   },
   {
    "duration": 20,
    "start_time": "2022-11-18T05:33:41.704Z"
   },
   {
    "duration": 27,
    "start_time": "2022-11-18T05:35:11.063Z"
   },
   {
    "duration": 18,
    "start_time": "2022-11-18T05:36:36.346Z"
   },
   {
    "duration": 8,
    "start_time": "2022-11-18T05:36:43.857Z"
   },
   {
    "duration": 20,
    "start_time": "2022-11-18T05:36:48.389Z"
   },
   {
    "duration": 6,
    "start_time": "2022-11-18T05:38:50.932Z"
   },
   {
    "duration": 8,
    "start_time": "2022-11-18T05:38:52.946Z"
   },
   {
    "duration": 10,
    "start_time": "2022-11-18T05:38:56.840Z"
   },
   {
    "duration": 825,
    "start_time": "2022-11-18T05:44:19.073Z"
   },
   {
    "duration": 49,
    "start_time": "2022-11-18T05:46:55.877Z"
   },
   {
    "duration": 6,
    "start_time": "2022-11-18T06:52:09.439Z"
   },
   {
    "duration": 13,
    "start_time": "2022-11-18T06:52:17.231Z"
   },
   {
    "duration": 17,
    "start_time": "2022-11-18T06:54:28.834Z"
   },
   {
    "duration": 7,
    "start_time": "2022-11-18T06:54:45.886Z"
   },
   {
    "duration": 13,
    "start_time": "2022-11-18T07:07:40.649Z"
   },
   {
    "duration": 14,
    "start_time": "2022-11-18T07:07:52.155Z"
   },
   {
    "duration": 7,
    "start_time": "2022-11-18T07:08:16.238Z"
   },
   {
    "duration": 12,
    "start_time": "2022-11-18T07:08:22.872Z"
   },
   {
    "duration": 46,
    "start_time": "2022-11-18T09:39:32.971Z"
   },
   {
    "duration": 1017,
    "start_time": "2022-11-18T09:39:40.844Z"
   },
   {
    "duration": 2,
    "start_time": "2022-11-18T09:39:44.664Z"
   },
   {
    "duration": 3,
    "start_time": "2022-11-18T09:39:51.250Z"
   },
   {
    "duration": 179,
    "start_time": "2022-11-18T09:39:51.254Z"
   },
   {
    "duration": 26,
    "start_time": "2022-11-18T09:39:51.435Z"
   },
   {
    "duration": 4,
    "start_time": "2022-11-18T09:39:51.463Z"
   },
   {
    "duration": 19,
    "start_time": "2022-11-18T09:39:51.468Z"
   },
   {
    "duration": 21,
    "start_time": "2022-11-18T09:39:51.489Z"
   },
   {
    "duration": 13,
    "start_time": "2022-11-18T09:39:51.512Z"
   },
   {
    "duration": 11,
    "start_time": "2022-11-18T09:39:51.527Z"
   },
   {
    "duration": 23,
    "start_time": "2022-11-18T09:39:51.539Z"
   },
   {
    "duration": 22,
    "start_time": "2022-11-18T09:39:59.094Z"
   },
   {
    "duration": 2,
    "start_time": "2022-11-18T09:44:23.865Z"
   },
   {
    "duration": 55,
    "start_time": "2022-11-18T09:44:23.869Z"
   },
   {
    "duration": 20,
    "start_time": "2022-11-18T09:44:23.926Z"
   },
   {
    "duration": 4,
    "start_time": "2022-11-18T09:44:23.947Z"
   },
   {
    "duration": 39,
    "start_time": "2022-11-18T09:44:23.953Z"
   },
   {
    "duration": 35,
    "start_time": "2022-11-18T09:44:23.994Z"
   },
   {
    "duration": 7,
    "start_time": "2022-11-18T09:44:24.031Z"
   },
   {
    "duration": 17,
    "start_time": "2022-11-18T09:44:24.040Z"
   },
   {
    "duration": 27,
    "start_time": "2022-11-18T09:44:24.059Z"
   },
   {
    "duration": 40,
    "start_time": "2022-11-18T09:44:24.088Z"
   },
   {
    "duration": 21,
    "start_time": "2022-11-18T09:44:24.130Z"
   },
   {
    "duration": 2,
    "start_time": "2022-11-18T09:54:18.460Z"
   },
   {
    "duration": 44,
    "start_time": "2022-11-18T09:54:18.464Z"
   },
   {
    "duration": 19,
    "start_time": "2022-11-18T09:54:18.509Z"
   },
   {
    "duration": 4,
    "start_time": "2022-11-18T09:54:18.530Z"
   },
   {
    "duration": 30,
    "start_time": "2022-11-18T09:54:18.535Z"
   },
   {
    "duration": 19,
    "start_time": "2022-11-18T09:54:18.567Z"
   },
   {
    "duration": 5,
    "start_time": "2022-11-18T09:54:18.588Z"
   },
   {
    "duration": 15,
    "start_time": "2022-11-18T09:54:18.594Z"
   },
   {
    "duration": 19,
    "start_time": "2022-11-18T09:54:18.615Z"
   },
   {
    "duration": 5,
    "start_time": "2022-11-18T09:54:18.635Z"
   },
   {
    "duration": 12,
    "start_time": "2022-11-18T09:54:18.642Z"
   },
   {
    "duration": 371,
    "start_time": "2022-11-28T15:05:13.445Z"
   },
   {
    "duration": 80,
    "start_time": "2022-11-28T15:05:13.818Z"
   },
   {
    "duration": 26,
    "start_time": "2022-11-28T15:05:13.899Z"
   },
   {
    "duration": 8,
    "start_time": "2022-11-28T15:05:13.926Z"
   },
   {
    "duration": 29,
    "start_time": "2022-11-28T15:05:13.935Z"
   },
   {
    "duration": 32,
    "start_time": "2022-11-28T15:05:13.965Z"
   },
   {
    "duration": 9,
    "start_time": "2022-11-28T15:05:13.998Z"
   },
   {
    "duration": 24,
    "start_time": "2022-11-28T15:05:14.008Z"
   },
   {
    "duration": 26,
    "start_time": "2022-11-28T15:05:14.033Z"
   },
   {
    "duration": 77,
    "start_time": "2022-11-28T15:05:14.061Z"
   },
   {
    "duration": 0,
    "start_time": "2022-11-28T15:05:14.140Z"
   },
   {
    "duration": 10,
    "start_time": "2022-11-28T15:05:30.079Z"
   },
   {
    "duration": 22,
    "start_time": "2022-11-28T15:05:32.122Z"
   },
   {
    "duration": 11,
    "start_time": "2022-11-28T15:19:55.114Z"
   },
   {
    "duration": 17,
    "start_time": "2022-11-28T15:19:58.504Z"
   },
   {
    "duration": 18,
    "start_time": "2022-11-28T15:28:15.314Z"
   },
   {
    "duration": 10,
    "start_time": "2022-11-28T15:28:19.241Z"
   },
   {
    "duration": 17,
    "start_time": "2022-11-28T15:28:21.532Z"
   },
   {
    "duration": 651,
    "start_time": "2022-11-28T15:36:40.183Z"
   },
   {
    "duration": 39,
    "start_time": "2022-11-28T15:41:39.320Z"
   },
   {
    "duration": 5,
    "start_time": "2022-11-28T15:41:53.051Z"
   },
   {
    "duration": 19,
    "start_time": "2022-11-28T15:52:12.823Z"
   },
   {
    "duration": 8,
    "start_time": "2022-11-28T15:53:20.123Z"
   },
   {
    "duration": 11,
    "start_time": "2022-11-28T15:54:04.129Z"
   },
   {
    "duration": 5,
    "start_time": "2022-11-28T15:56:04.323Z"
   },
   {
    "duration": 5,
    "start_time": "2022-11-28T15:58:08.219Z"
   },
   {
    "duration": 65,
    "start_time": "2022-11-28T15:58:08.225Z"
   },
   {
    "duration": 20,
    "start_time": "2022-11-28T15:58:08.292Z"
   },
   {
    "duration": 11,
    "start_time": "2022-11-28T15:58:08.314Z"
   },
   {
    "duration": 45,
    "start_time": "2022-11-28T15:58:08.327Z"
   },
   {
    "duration": 28,
    "start_time": "2022-11-28T15:58:08.373Z"
   },
   {
    "duration": 26,
    "start_time": "2022-11-28T15:58:08.403Z"
   },
   {
    "duration": 21,
    "start_time": "2022-11-28T15:58:08.431Z"
   },
   {
    "duration": 40,
    "start_time": "2022-11-28T15:58:08.454Z"
   },
   {
    "duration": 30,
    "start_time": "2022-11-28T15:58:08.495Z"
   },
   {
    "duration": 22,
    "start_time": "2022-11-28T15:58:08.526Z"
   },
   {
    "duration": 12,
    "start_time": "2022-11-28T15:58:08.549Z"
   },
   {
    "duration": 484,
    "start_time": "2022-11-28T17:46:33.039Z"
   },
   {
    "duration": 111,
    "start_time": "2022-11-28T17:47:48.337Z"
   },
   {
    "duration": 112,
    "start_time": "2022-11-28T17:48:12.059Z"
   },
   {
    "duration": 3,
    "start_time": "2022-11-28T17:48:30.371Z"
   },
   {
    "duration": 102,
    "start_time": "2022-11-28T17:48:38.668Z"
   },
   {
    "duration": 103,
    "start_time": "2022-11-28T17:48:47.583Z"
   },
   {
    "duration": 37,
    "start_time": "2022-11-28T17:53:43.415Z"
   },
   {
    "duration": 226,
    "start_time": "2022-11-28T18:02:03.929Z"
   },
   {
    "duration": 123,
    "start_time": "2022-11-28T18:02:12.231Z"
   },
   {
    "duration": 15,
    "start_time": "2022-11-28T18:44:04.551Z"
   },
   {
    "duration": 3,
    "start_time": "2022-11-28T18:44:18.652Z"
   },
   {
    "duration": 6,
    "start_time": "2022-11-28T18:44:26.104Z"
   },
   {
    "duration": 121,
    "start_time": "2022-11-28T18:54:25.137Z"
   },
   {
    "duration": 51,
    "start_time": "2022-11-29T18:31:23.881Z"
   },
   {
    "duration": 1392,
    "start_time": "2022-11-29T18:31:32.936Z"
   },
   {
    "duration": 80,
    "start_time": "2022-11-29T18:31:34.330Z"
   },
   {
    "duration": 22,
    "start_time": "2022-11-29T18:31:34.411Z"
   },
   {
    "duration": 4,
    "start_time": "2022-11-29T18:31:34.435Z"
   },
   {
    "duration": 18,
    "start_time": "2022-11-29T18:31:34.441Z"
   },
   {
    "duration": 13,
    "start_time": "2022-11-29T18:31:34.460Z"
   },
   {
    "duration": 7,
    "start_time": "2022-11-29T18:31:34.475Z"
   },
   {
    "duration": 35,
    "start_time": "2022-11-29T18:31:34.483Z"
   },
   {
    "duration": 10,
    "start_time": "2022-11-29T18:31:34.520Z"
   },
   {
    "duration": 16,
    "start_time": "2022-11-29T18:31:34.531Z"
   },
   {
    "duration": 6,
    "start_time": "2022-11-29T18:31:34.549Z"
   },
   {
    "duration": 10,
    "start_time": "2022-11-29T18:31:34.556Z"
   },
   {
    "duration": 156,
    "start_time": "2022-11-29T18:31:34.567Z"
   },
   {
    "duration": 145,
    "start_time": "2022-11-29T18:31:34.725Z"
   },
   {
    "duration": 7,
    "start_time": "2022-11-29T18:31:34.871Z"
   },
   {
    "duration": 114,
    "start_time": "2022-11-29T18:32:13.377Z"
   },
   {
    "duration": 144,
    "start_time": "2022-11-29T18:32:41.516Z"
   },
   {
    "duration": 7,
    "start_time": "2022-11-29T18:42:53.798Z"
   },
   {
    "duration": 3,
    "start_time": "2022-11-29T18:56:50.527Z"
   },
   {
    "duration": 6,
    "start_time": "2022-11-29T18:58:48.130Z"
   },
   {
    "duration": 3,
    "start_time": "2022-11-30T09:02:53.201Z"
   },
   {
    "duration": 6,
    "start_time": "2022-11-30T09:03:17.092Z"
   },
   {
    "duration": 5,
    "start_time": "2022-11-30T09:04:10.693Z"
   },
   {
    "duration": 5,
    "start_time": "2022-11-30T09:04:45.390Z"
   },
   {
    "duration": 6,
    "start_time": "2022-11-30T09:05:19.504Z"
   },
   {
    "duration": 34,
    "start_time": "2022-11-30T09:07:39.651Z"
   },
   {
    "duration": 5,
    "start_time": "2022-11-30T09:07:47.553Z"
   },
   {
    "duration": 5,
    "start_time": "2022-11-30T09:11:17.143Z"
   },
   {
    "duration": 128,
    "start_time": "2022-11-30T09:27:08.794Z"
   },
   {
    "duration": 17,
    "start_time": "2022-11-30T09:28:30.080Z"
   },
   {
    "duration": 3,
    "start_time": "2022-11-30T09:29:30.030Z"
   },
   {
    "duration": 15,
    "start_time": "2022-11-30T09:29:34.432Z"
   },
   {
    "duration": 22,
    "start_time": "2022-11-30T09:39:20.213Z"
   },
   {
    "duration": 16,
    "start_time": "2022-11-30T09:39:43.048Z"
   },
   {
    "duration": 17,
    "start_time": "2022-11-30T09:41:46.827Z"
   },
   {
    "duration": 17,
    "start_time": "2022-11-30T09:41:53.099Z"
   },
   {
    "duration": 16,
    "start_time": "2022-11-30T09:42:02.320Z"
   },
   {
    "duration": 3,
    "start_time": "2022-11-30T09:42:12.998Z"
   },
   {
    "duration": 43,
    "start_time": "2022-11-30T09:42:13.003Z"
   },
   {
    "duration": 20,
    "start_time": "2022-11-30T09:42:13.047Z"
   },
   {
    "duration": 4,
    "start_time": "2022-11-30T09:42:13.069Z"
   },
   {
    "duration": 19,
    "start_time": "2022-11-30T09:42:13.075Z"
   },
   {
    "duration": 13,
    "start_time": "2022-11-30T09:42:13.096Z"
   },
   {
    "duration": 5,
    "start_time": "2022-11-30T09:42:13.115Z"
   },
   {
    "duration": 10,
    "start_time": "2022-11-30T09:42:13.122Z"
   },
   {
    "duration": 8,
    "start_time": "2022-11-30T09:42:13.134Z"
   },
   {
    "duration": 16,
    "start_time": "2022-11-30T09:42:13.144Z"
   },
   {
    "duration": 6,
    "start_time": "2022-11-30T09:42:13.162Z"
   },
   {
    "duration": 15,
    "start_time": "2022-11-30T09:42:13.169Z"
   },
   {
    "duration": 138,
    "start_time": "2022-11-30T09:42:13.186Z"
   },
   {
    "duration": 148,
    "start_time": "2022-11-30T09:42:13.325Z"
   },
   {
    "duration": 6,
    "start_time": "2022-11-30T09:42:13.474Z"
   },
   {
    "duration": 14,
    "start_time": "2022-11-30T09:42:13.482Z"
   },
   {
    "duration": 6,
    "start_time": "2022-11-30T09:42:13.498Z"
   },
   {
    "duration": 43,
    "start_time": "2022-11-30T09:42:13.505Z"
   },
   {
    "duration": 4,
    "start_time": "2022-11-30T09:42:13.549Z"
   },
   {
    "duration": 17,
    "start_time": "2022-11-30T09:42:13.555Z"
   },
   {
    "duration": 18,
    "start_time": "2022-11-30T09:42:36.903Z"
   },
   {
    "duration": 17,
    "start_time": "2022-11-30T09:42:46.797Z"
   },
   {
    "duration": 17,
    "start_time": "2022-11-30T09:51:27.513Z"
   },
   {
    "duration": 11,
    "start_time": "2022-11-30T09:52:56.353Z"
   },
   {
    "duration": 13,
    "start_time": "2022-11-30T09:53:55.023Z"
   },
   {
    "duration": 14,
    "start_time": "2022-11-30T09:54:06.629Z"
   },
   {
    "duration": 16,
    "start_time": "2022-11-30T09:54:48.881Z"
   },
   {
    "duration": 140,
    "start_time": "2022-11-30T09:54:53.265Z"
   },
   {
    "duration": 6,
    "start_time": "2022-11-30T09:55:07.219Z"
   },
   {
    "duration": 5,
    "start_time": "2022-11-30T09:55:17.847Z"
   },
   {
    "duration": 39,
    "start_time": "2022-11-30T09:55:36.996Z"
   },
   {
    "duration": 20,
    "start_time": "2022-11-30T09:55:45.975Z"
   },
   {
    "duration": 10,
    "start_time": "2022-11-30T10:13:37.105Z"
   },
   {
    "duration": 3,
    "start_time": "2022-11-30T10:13:44.373Z"
   },
   {
    "duration": 77,
    "start_time": "2022-11-30T10:13:44.378Z"
   },
   {
    "duration": 20,
    "start_time": "2022-11-30T10:13:44.456Z"
   },
   {
    "duration": 13,
    "start_time": "2022-11-30T10:13:44.478Z"
   },
   {
    "duration": 27,
    "start_time": "2022-11-30T10:13:44.493Z"
   },
   {
    "duration": 29,
    "start_time": "2022-11-30T10:13:44.522Z"
   },
   {
    "duration": 8,
    "start_time": "2022-11-30T10:13:44.552Z"
   },
   {
    "duration": 30,
    "start_time": "2022-11-30T10:13:44.561Z"
   },
   {
    "duration": 11,
    "start_time": "2022-11-30T10:13:44.593Z"
   },
   {
    "duration": 19,
    "start_time": "2022-11-30T10:13:44.605Z"
   },
   {
    "duration": 20,
    "start_time": "2022-11-30T10:13:44.627Z"
   },
   {
    "duration": 29,
    "start_time": "2022-11-30T10:13:44.649Z"
   },
   {
    "duration": 129,
    "start_time": "2022-11-30T10:13:44.679Z"
   },
   {
    "duration": 140,
    "start_time": "2022-11-30T10:13:44.810Z"
   },
   {
    "duration": 7,
    "start_time": "2022-11-30T10:13:44.951Z"
   },
   {
    "duration": 7,
    "start_time": "2022-11-30T10:13:44.960Z"
   },
   {
    "duration": 6,
    "start_time": "2022-11-30T10:13:44.969Z"
   },
   {
    "duration": 57,
    "start_time": "2022-11-30T10:13:44.977Z"
   },
   {
    "duration": 4,
    "start_time": "2022-11-30T10:13:45.036Z"
   },
   {
    "duration": 21,
    "start_time": "2022-11-30T10:13:45.042Z"
   },
   {
    "duration": 9,
    "start_time": "2022-11-30T10:15:20.173Z"
   },
   {
    "duration": 11,
    "start_time": "2022-11-30T10:15:27.529Z"
   },
   {
    "duration": 11,
    "start_time": "2022-11-30T10:50:08.014Z"
   },
   {
    "duration": 13,
    "start_time": "2022-11-30T10:50:29.532Z"
   },
   {
    "duration": 10,
    "start_time": "2022-11-30T10:51:11.556Z"
   },
   {
    "duration": 9,
    "start_time": "2022-11-30T10:51:18.247Z"
   },
   {
    "duration": 6,
    "start_time": "2022-11-30T10:51:32.381Z"
   },
   {
    "duration": 11,
    "start_time": "2022-11-30T10:51:37.749Z"
   },
   {
    "duration": 12,
    "start_time": "2022-11-30T10:51:47.471Z"
   },
   {
    "duration": 15,
    "start_time": "2022-11-30T10:52:01.232Z"
   },
   {
    "duration": 19,
    "start_time": "2022-11-30T10:52:15.314Z"
   },
   {
    "duration": 14,
    "start_time": "2022-11-30T10:52:32.903Z"
   },
   {
    "duration": 18,
    "start_time": "2022-11-30T10:52:39.681Z"
   },
   {
    "duration": 4,
    "start_time": "2022-11-30T10:53:03.452Z"
   },
   {
    "duration": 44,
    "start_time": "2022-11-30T10:53:03.457Z"
   },
   {
    "duration": 19,
    "start_time": "2022-11-30T10:53:03.503Z"
   },
   {
    "duration": 6,
    "start_time": "2022-11-30T10:53:03.523Z"
   },
   {
    "duration": 18,
    "start_time": "2022-11-30T10:53:03.530Z"
   },
   {
    "duration": 9,
    "start_time": "2022-11-30T10:53:03.550Z"
   },
   {
    "duration": 5,
    "start_time": "2022-11-30T10:53:03.560Z"
   },
   {
    "duration": 11,
    "start_time": "2022-11-30T10:53:03.567Z"
   },
   {
    "duration": 36,
    "start_time": "2022-11-30T10:53:03.580Z"
   },
   {
    "duration": 17,
    "start_time": "2022-11-30T10:53:03.617Z"
   },
   {
    "duration": 7,
    "start_time": "2022-11-30T10:53:03.635Z"
   },
   {
    "duration": 25,
    "start_time": "2022-11-30T10:53:03.643Z"
   },
   {
    "duration": 1236,
    "start_time": "2022-11-30T10:53:33.680Z"
   },
   {
    "duration": 41,
    "start_time": "2022-11-30T10:53:34.918Z"
   },
   {
    "duration": 22,
    "start_time": "2022-11-30T10:53:34.960Z"
   },
   {
    "duration": 10,
    "start_time": "2022-11-30T10:53:34.983Z"
   },
   {
    "duration": 40,
    "start_time": "2022-11-30T10:53:34.994Z"
   },
   {
    "duration": 36,
    "start_time": "2022-11-30T10:53:35.035Z"
   },
   {
    "duration": 28,
    "start_time": "2022-11-30T10:53:35.072Z"
   },
   {
    "duration": 45,
    "start_time": "2022-11-30T10:53:35.102Z"
   },
   {
    "duration": 36,
    "start_time": "2022-11-30T10:53:35.148Z"
   },
   {
    "duration": 44,
    "start_time": "2022-11-30T10:53:35.186Z"
   },
   {
    "duration": 9,
    "start_time": "2022-11-30T10:53:35.232Z"
   },
   {
    "duration": 46,
    "start_time": "2022-11-30T10:53:35.242Z"
   },
   {
    "duration": 130,
    "start_time": "2022-11-30T10:53:35.290Z"
   },
   {
    "duration": 151,
    "start_time": "2022-11-30T10:53:35.422Z"
   },
   {
    "duration": 7,
    "start_time": "2022-11-30T10:53:35.575Z"
   },
   {
    "duration": 23,
    "start_time": "2022-11-30T10:53:35.584Z"
   },
   {
    "duration": 38,
    "start_time": "2022-11-30T10:53:35.609Z"
   },
   {
    "duration": 55,
    "start_time": "2022-11-30T10:53:35.648Z"
   },
   {
    "duration": 103,
    "start_time": "2022-11-30T10:53:35.705Z"
   },
   {
    "duration": 0,
    "start_time": "2022-11-30T10:53:35.809Z"
   },
   {
    "duration": 24,
    "start_time": "2022-11-30T10:53:52.405Z"
   },
   {
    "duration": 10,
    "start_time": "2022-11-30T10:54:05.002Z"
   },
   {
    "duration": 9,
    "start_time": "2022-11-30T10:54:10.154Z"
   },
   {
    "duration": 1217,
    "start_time": "2022-11-30T10:54:18.664Z"
   },
   {
    "duration": 40,
    "start_time": "2022-11-30T10:54:19.883Z"
   },
   {
    "duration": 23,
    "start_time": "2022-11-30T10:54:19.924Z"
   },
   {
    "duration": 11,
    "start_time": "2022-11-30T10:54:19.949Z"
   },
   {
    "duration": 26,
    "start_time": "2022-11-30T10:54:19.961Z"
   },
   {
    "duration": 22,
    "start_time": "2022-11-30T10:54:19.989Z"
   },
   {
    "duration": 19,
    "start_time": "2022-11-30T10:54:20.012Z"
   },
   {
    "duration": 21,
    "start_time": "2022-11-30T10:54:20.033Z"
   },
   {
    "duration": 32,
    "start_time": "2022-11-30T10:54:20.055Z"
   },
   {
    "duration": 40,
    "start_time": "2022-11-30T10:54:20.089Z"
   },
   {
    "duration": 22,
    "start_time": "2022-11-30T10:54:20.131Z"
   },
   {
    "duration": 44,
    "start_time": "2022-11-30T10:54:20.154Z"
   },
   {
    "duration": 120,
    "start_time": "2022-11-30T10:54:20.199Z"
   },
   {
    "duration": 139,
    "start_time": "2022-11-30T10:54:20.320Z"
   },
   {
    "duration": 6,
    "start_time": "2022-11-30T10:54:20.460Z"
   },
   {
    "duration": 15,
    "start_time": "2022-11-30T10:54:20.467Z"
   },
   {
    "duration": 19,
    "start_time": "2022-11-30T10:54:20.483Z"
   },
   {
    "duration": 61,
    "start_time": "2022-11-30T10:54:20.504Z"
   },
   {
    "duration": 100,
    "start_time": "2022-11-30T10:54:20.567Z"
   },
   {
    "duration": 0,
    "start_time": "2022-11-30T10:54:20.669Z"
   },
   {
    "duration": 1297,
    "start_time": "2022-11-30T10:55:05.319Z"
   },
   {
    "duration": 40,
    "start_time": "2022-11-30T10:55:06.618Z"
   },
   {
    "duration": 21,
    "start_time": "2022-11-30T10:55:06.660Z"
   },
   {
    "duration": 30,
    "start_time": "2022-11-30T10:55:06.682Z"
   },
   {
    "duration": 26,
    "start_time": "2022-11-30T10:55:06.713Z"
   },
   {
    "duration": 22,
    "start_time": "2022-11-30T10:55:06.740Z"
   },
   {
    "duration": 10,
    "start_time": "2022-11-30T10:55:06.763Z"
   },
   {
    "duration": 33,
    "start_time": "2022-11-30T10:55:06.774Z"
   },
   {
    "duration": 35,
    "start_time": "2022-11-30T10:55:06.809Z"
   },
   {
    "duration": 22,
    "start_time": "2022-11-30T10:55:06.847Z"
   },
   {
    "duration": 46,
    "start_time": "2022-11-30T10:55:06.870Z"
   },
   {
    "duration": 42,
    "start_time": "2022-11-30T10:55:06.918Z"
   },
   {
    "duration": 144,
    "start_time": "2022-11-30T10:55:06.961Z"
   },
   {
    "duration": 143,
    "start_time": "2022-11-30T10:55:07.106Z"
   },
   {
    "duration": 6,
    "start_time": "2022-11-30T10:55:07.250Z"
   },
   {
    "duration": 38,
    "start_time": "2022-11-30T10:55:07.258Z"
   },
   {
    "duration": 28,
    "start_time": "2022-11-30T10:55:07.297Z"
   },
   {
    "duration": 68,
    "start_time": "2022-11-30T10:55:07.326Z"
   },
   {
    "duration": 98,
    "start_time": "2022-11-30T10:55:07.396Z"
   },
   {
    "duration": 0,
    "start_time": "2022-11-30T10:55:07.495Z"
   },
   {
    "duration": 1285,
    "start_time": "2022-11-30T10:55:48.844Z"
   },
   {
    "duration": 41,
    "start_time": "2022-11-30T10:55:50.131Z"
   },
   {
    "duration": 22,
    "start_time": "2022-11-30T10:55:50.174Z"
   },
   {
    "duration": 6,
    "start_time": "2022-11-30T10:55:50.198Z"
   },
   {
    "duration": 46,
    "start_time": "2022-11-30T10:55:50.206Z"
   },
   {
    "duration": 27,
    "start_time": "2022-11-30T10:55:50.254Z"
   },
   {
    "duration": 41,
    "start_time": "2022-11-30T10:55:50.283Z"
   },
   {
    "duration": 17,
    "start_time": "2022-11-30T10:55:50.326Z"
   },
   {
    "duration": 24,
    "start_time": "2022-11-30T10:55:50.345Z"
   },
   {
    "duration": 25,
    "start_time": "2022-11-30T10:55:50.372Z"
   },
   {
    "duration": 8,
    "start_time": "2022-11-30T10:55:50.398Z"
   },
   {
    "duration": 42,
    "start_time": "2022-11-30T10:55:50.407Z"
   },
   {
    "duration": 133,
    "start_time": "2022-11-30T10:55:50.451Z"
   },
   {
    "duration": 159,
    "start_time": "2022-11-30T10:55:50.586Z"
   },
   {
    "duration": 7,
    "start_time": "2022-11-30T10:55:50.747Z"
   },
   {
    "duration": 15,
    "start_time": "2022-11-30T10:55:50.755Z"
   },
   {
    "duration": 25,
    "start_time": "2022-11-30T10:55:50.771Z"
   },
   {
    "duration": 52,
    "start_time": "2022-11-30T10:55:50.797Z"
   },
   {
    "duration": 104,
    "start_time": "2022-11-30T10:55:50.850Z"
   },
   {
    "duration": 0,
    "start_time": "2022-11-30T10:55:50.955Z"
   },
   {
    "duration": 1332,
    "start_time": "2022-11-30T11:01:19.286Z"
   },
   {
    "duration": 41,
    "start_time": "2022-11-30T11:01:20.620Z"
   },
   {
    "duration": 23,
    "start_time": "2022-11-30T11:01:20.662Z"
   },
   {
    "duration": 3,
    "start_time": "2022-11-30T11:01:20.687Z"
   },
   {
    "duration": 20,
    "start_time": "2022-11-30T11:01:20.691Z"
   },
   {
    "duration": 15,
    "start_time": "2022-11-30T11:01:20.712Z"
   },
   {
    "duration": 6,
    "start_time": "2022-11-30T11:01:20.728Z"
   },
   {
    "duration": 11,
    "start_time": "2022-11-30T11:01:20.736Z"
   },
   {
    "duration": 10,
    "start_time": "2022-11-30T11:01:20.748Z"
   },
   {
    "duration": 17,
    "start_time": "2022-11-30T11:01:20.760Z"
   },
   {
    "duration": 6,
    "start_time": "2022-11-30T11:01:20.778Z"
   },
   {
    "duration": 64,
    "start_time": "2022-11-30T11:01:20.785Z"
   },
   {
    "duration": 138,
    "start_time": "2022-11-30T11:01:20.851Z"
   },
   {
    "duration": 158,
    "start_time": "2022-11-30T11:01:20.991Z"
   },
   {
    "duration": 6,
    "start_time": "2022-11-30T11:01:21.151Z"
   },
   {
    "duration": 8,
    "start_time": "2022-11-30T11:01:21.159Z"
   },
   {
    "duration": 4,
    "start_time": "2022-11-30T11:01:21.169Z"
   },
   {
    "duration": 60,
    "start_time": "2022-11-30T11:01:21.175Z"
   },
   {
    "duration": 111,
    "start_time": "2022-11-30T11:01:21.237Z"
   },
   {
    "duration": 0,
    "start_time": "2022-11-30T11:01:21.349Z"
   },
   {
    "duration": 54,
    "start_time": "2022-11-30T11:03:59.963Z"
   },
   {
    "duration": 1233,
    "start_time": "2022-11-30T11:04:08.351Z"
   },
   {
    "duration": 41,
    "start_time": "2022-11-30T11:04:09.585Z"
   },
   {
    "duration": 22,
    "start_time": "2022-11-30T11:04:09.627Z"
   },
   {
    "duration": 3,
    "start_time": "2022-11-30T11:04:09.651Z"
   },
   {
    "duration": 18,
    "start_time": "2022-11-30T11:04:09.656Z"
   },
   {
    "duration": 18,
    "start_time": "2022-11-30T11:04:09.675Z"
   },
   {
    "duration": 7,
    "start_time": "2022-11-30T11:04:09.694Z"
   },
   {
    "duration": 21,
    "start_time": "2022-11-30T11:04:09.702Z"
   },
   {
    "duration": 8,
    "start_time": "2022-11-30T11:04:09.725Z"
   },
   {
    "duration": 19,
    "start_time": "2022-11-30T11:04:09.735Z"
   },
   {
    "duration": 17,
    "start_time": "2022-11-30T11:04:09.755Z"
   },
   {
    "duration": 62,
    "start_time": "2022-11-30T11:04:09.774Z"
   },
   {
    "duration": 129,
    "start_time": "2022-11-30T11:04:09.838Z"
   },
   {
    "duration": 155,
    "start_time": "2022-11-30T11:04:09.969Z"
   },
   {
    "duration": 7,
    "start_time": "2022-11-30T11:04:10.126Z"
   },
   {
    "duration": 15,
    "start_time": "2022-11-30T11:04:10.135Z"
   },
   {
    "duration": 5,
    "start_time": "2022-11-30T11:04:10.152Z"
   },
   {
    "duration": 57,
    "start_time": "2022-11-30T11:04:10.159Z"
   },
   {
    "duration": 106,
    "start_time": "2022-11-30T11:04:10.217Z"
   },
   {
    "duration": 0,
    "start_time": "2022-11-30T11:04:10.325Z"
   },
   {
    "duration": 1287,
    "start_time": "2022-11-30T11:05:09.999Z"
   },
   {
    "duration": 47,
    "start_time": "2022-11-30T11:05:11.288Z"
   },
   {
    "duration": 21,
    "start_time": "2022-11-30T11:05:11.336Z"
   },
   {
    "duration": 26,
    "start_time": "2022-11-30T11:05:11.359Z"
   },
   {
    "duration": 52,
    "start_time": "2022-11-30T11:05:11.386Z"
   },
   {
    "duration": 31,
    "start_time": "2022-11-30T11:05:11.439Z"
   },
   {
    "duration": 47,
    "start_time": "2022-11-30T11:05:11.471Z"
   },
   {
    "duration": 21,
    "start_time": "2022-11-30T11:05:11.519Z"
   },
   {
    "duration": 46,
    "start_time": "2022-11-30T11:05:11.542Z"
   },
   {
    "duration": 37,
    "start_time": "2022-11-30T11:05:11.590Z"
   },
   {
    "duration": 25,
    "start_time": "2022-11-30T11:05:11.628Z"
   },
   {
    "duration": 85,
    "start_time": "2022-11-30T11:05:11.655Z"
   },
   {
    "duration": 120,
    "start_time": "2022-11-30T11:05:11.741Z"
   },
   {
    "duration": 161,
    "start_time": "2022-11-30T11:05:11.862Z"
   },
   {
    "duration": 6,
    "start_time": "2022-11-30T11:05:12.025Z"
   },
   {
    "duration": 46,
    "start_time": "2022-11-30T11:05:12.032Z"
   },
   {
    "duration": 28,
    "start_time": "2022-11-30T11:05:12.079Z"
   },
   {
    "duration": 88,
    "start_time": "2022-11-30T11:05:12.109Z"
   },
   {
    "duration": 114,
    "start_time": "2022-11-30T11:05:12.198Z"
   },
   {
    "duration": 0,
    "start_time": "2022-11-30T11:05:12.315Z"
   },
   {
    "duration": 1258,
    "start_time": "2022-11-30T11:06:31.918Z"
   },
   {
    "duration": 43,
    "start_time": "2022-11-30T11:06:33.178Z"
   },
   {
    "duration": 23,
    "start_time": "2022-11-30T11:06:33.222Z"
   },
   {
    "duration": 3,
    "start_time": "2022-11-30T11:06:33.247Z"
   },
   {
    "duration": 19,
    "start_time": "2022-11-30T11:06:33.251Z"
   },
   {
    "duration": 17,
    "start_time": "2022-11-30T11:06:33.272Z"
   },
   {
    "duration": 6,
    "start_time": "2022-11-30T11:06:33.291Z"
   },
   {
    "duration": 23,
    "start_time": "2022-11-30T11:06:33.298Z"
   },
   {
    "duration": 8,
    "start_time": "2022-11-30T11:06:33.323Z"
   },
   {
    "duration": 29,
    "start_time": "2022-11-30T11:06:33.333Z"
   },
   {
    "duration": 7,
    "start_time": "2022-11-30T11:06:33.363Z"
   },
   {
    "duration": 21,
    "start_time": "2022-11-30T11:06:33.371Z"
   },
   {
    "duration": 142,
    "start_time": "2022-11-30T11:06:33.394Z"
   },
   {
    "duration": 146,
    "start_time": "2022-11-30T11:06:33.538Z"
   },
   {
    "duration": 6,
    "start_time": "2022-11-30T11:06:33.685Z"
   },
   {
    "duration": 8,
    "start_time": "2022-11-30T11:06:33.693Z"
   },
   {
    "duration": 4,
    "start_time": "2022-11-30T11:06:33.716Z"
   },
   {
    "duration": 40,
    "start_time": "2022-11-30T11:06:33.722Z"
   },
   {
    "duration": 3,
    "start_time": "2022-11-30T11:06:33.763Z"
   },
   {
    "duration": 67,
    "start_time": "2022-11-30T11:06:33.767Z"
   },
   {
    "duration": 47,
    "start_time": "2022-11-30T11:07:58.751Z"
   },
   {
    "duration": 1281,
    "start_time": "2022-11-30T11:08:08.318Z"
   },
   {
    "duration": 41,
    "start_time": "2022-11-30T11:08:09.602Z"
   },
   {
    "duration": 22,
    "start_time": "2022-11-30T11:08:09.645Z"
   },
   {
    "duration": 7,
    "start_time": "2022-11-30T11:08:09.669Z"
   },
   {
    "duration": 26,
    "start_time": "2022-11-30T11:08:09.677Z"
   },
   {
    "duration": 16,
    "start_time": "2022-11-30T11:08:09.705Z"
   },
   {
    "duration": 7,
    "start_time": "2022-11-30T11:08:09.722Z"
   },
   {
    "duration": 23,
    "start_time": "2022-11-30T11:08:09.730Z"
   },
   {
    "duration": 23,
    "start_time": "2022-11-30T11:08:09.754Z"
   },
   {
    "duration": 25,
    "start_time": "2022-11-30T11:08:09.779Z"
   },
   {
    "duration": 12,
    "start_time": "2022-11-30T11:08:09.805Z"
   },
   {
    "duration": 22,
    "start_time": "2022-11-30T11:08:09.818Z"
   },
   {
    "duration": 131,
    "start_time": "2022-11-30T11:08:09.841Z"
   },
   {
    "duration": 165,
    "start_time": "2022-11-30T11:08:09.973Z"
   },
   {
    "duration": 7,
    "start_time": "2022-11-30T11:08:10.140Z"
   },
   {
    "duration": 7,
    "start_time": "2022-11-30T11:08:10.149Z"
   },
   {
    "duration": 7,
    "start_time": "2022-11-30T11:08:10.158Z"
   },
   {
    "duration": 60,
    "start_time": "2022-11-30T11:08:10.166Z"
   },
   {
    "duration": 2,
    "start_time": "2022-11-30T11:08:10.228Z"
   },
   {
    "duration": 48,
    "start_time": "2022-11-30T11:08:10.232Z"
   },
   {
    "duration": 74,
    "start_time": "2022-11-30T11:09:21.626Z"
   },
   {
    "duration": 70,
    "start_time": "2022-11-30T11:09:31.831Z"
   },
   {
    "duration": 75,
    "start_time": "2022-11-30T11:09:52.168Z"
   },
   {
    "duration": 5,
    "start_time": "2022-11-30T11:13:55.150Z"
   },
   {
    "duration": 1267,
    "start_time": "2022-11-30T11:14:04.222Z"
   },
   {
    "duration": 42,
    "start_time": "2022-11-30T11:14:05.491Z"
   },
   {
    "duration": 22,
    "start_time": "2022-11-30T11:14:05.534Z"
   },
   {
    "duration": 3,
    "start_time": "2022-11-30T11:14:05.558Z"
   },
   {
    "duration": 21,
    "start_time": "2022-11-30T11:14:05.563Z"
   },
   {
    "duration": 10,
    "start_time": "2022-11-30T11:14:05.586Z"
   },
   {
    "duration": 6,
    "start_time": "2022-11-30T11:14:05.615Z"
   },
   {
    "duration": 14,
    "start_time": "2022-11-30T11:14:05.623Z"
   },
   {
    "duration": 8,
    "start_time": "2022-11-30T11:14:05.639Z"
   },
   {
    "duration": 16,
    "start_time": "2022-11-30T11:14:05.649Z"
   },
   {
    "duration": 6,
    "start_time": "2022-11-30T11:14:05.666Z"
   },
   {
    "duration": 42,
    "start_time": "2022-11-30T11:14:05.674Z"
   },
   {
    "duration": 134,
    "start_time": "2022-11-30T11:14:05.718Z"
   },
   {
    "duration": 147,
    "start_time": "2022-11-30T11:14:05.855Z"
   },
   {
    "duration": 15,
    "start_time": "2022-11-30T11:14:06.003Z"
   },
   {
    "duration": 7,
    "start_time": "2022-11-30T11:14:06.020Z"
   },
   {
    "duration": 7,
    "start_time": "2022-11-30T11:14:06.029Z"
   },
   {
    "duration": 42,
    "start_time": "2022-11-30T11:14:06.037Z"
   },
   {
    "duration": 2,
    "start_time": "2022-11-30T11:14:06.080Z"
   },
   {
    "duration": 96,
    "start_time": "2022-11-30T11:14:06.084Z"
   },
   {
    "duration": 1192,
    "start_time": "2022-11-30T11:14:23.379Z"
   },
   {
    "duration": 40,
    "start_time": "2022-11-30T11:14:24.573Z"
   },
   {
    "duration": 22,
    "start_time": "2022-11-30T11:14:24.614Z"
   },
   {
    "duration": 13,
    "start_time": "2022-11-30T11:14:24.637Z"
   },
   {
    "duration": 32,
    "start_time": "2022-11-30T11:14:24.651Z"
   },
   {
    "duration": 26,
    "start_time": "2022-11-30T11:14:24.685Z"
   },
   {
    "duration": 10,
    "start_time": "2022-11-30T11:14:24.713Z"
   },
   {
    "duration": 36,
    "start_time": "2022-11-30T11:14:24.725Z"
   },
   {
    "duration": 21,
    "start_time": "2022-11-30T11:14:24.763Z"
   },
   {
    "duration": 42,
    "start_time": "2022-11-30T11:14:24.787Z"
   },
   {
    "duration": 27,
    "start_time": "2022-11-30T11:14:24.830Z"
   },
   {
    "duration": 28,
    "start_time": "2022-11-30T11:14:24.859Z"
   },
   {
    "duration": 134,
    "start_time": "2022-11-30T11:14:24.888Z"
   },
   {
    "duration": 155,
    "start_time": "2022-11-30T11:14:25.024Z"
   },
   {
    "duration": 8,
    "start_time": "2022-11-30T11:14:25.180Z"
   },
   {
    "duration": 38,
    "start_time": "2022-11-30T11:14:25.189Z"
   },
   {
    "duration": 29,
    "start_time": "2022-11-30T11:14:25.229Z"
   },
   {
    "duration": 54,
    "start_time": "2022-11-30T11:14:25.260Z"
   },
   {
    "duration": 2,
    "start_time": "2022-11-30T11:14:25.316Z"
   },
   {
    "duration": 84,
    "start_time": "2022-11-30T11:14:25.320Z"
   },
   {
    "duration": 73,
    "start_time": "2022-11-30T11:17:49.015Z"
   },
   {
    "duration": 25,
    "start_time": "2022-11-30T11:21:52.871Z"
   },
   {
    "duration": 25,
    "start_time": "2022-11-30T11:22:22.941Z"
   },
   {
    "duration": 23,
    "start_time": "2022-11-30T11:22:29.536Z"
   },
   {
    "duration": 3,
    "start_time": "2022-11-30T11:22:33.360Z"
   },
   {
    "duration": 74,
    "start_time": "2022-11-30T11:22:33.365Z"
   },
   {
    "duration": 18,
    "start_time": "2022-11-30T11:22:33.441Z"
   },
   {
    "duration": 29,
    "start_time": "2022-11-30T11:22:33.461Z"
   },
   {
    "duration": 50,
    "start_time": "2022-11-30T11:22:33.492Z"
   },
   {
    "duration": 47,
    "start_time": "2022-11-30T11:22:33.543Z"
   },
   {
    "duration": 29,
    "start_time": "2022-11-30T11:22:33.592Z"
   },
   {
    "duration": 51,
    "start_time": "2022-11-30T11:22:33.622Z"
   },
   {
    "duration": 41,
    "start_time": "2022-11-30T11:22:33.676Z"
   },
   {
    "duration": 19,
    "start_time": "2022-11-30T11:22:33.719Z"
   },
   {
    "duration": 6,
    "start_time": "2022-11-30T11:22:33.739Z"
   },
   {
    "duration": 28,
    "start_time": "2022-11-30T11:22:33.746Z"
   },
   {
    "duration": 110,
    "start_time": "2022-11-30T11:22:33.776Z"
   },
   {
    "duration": 156,
    "start_time": "2022-11-30T11:22:33.887Z"
   },
   {
    "duration": 7,
    "start_time": "2022-11-30T11:22:34.045Z"
   },
   {
    "duration": 11,
    "start_time": "2022-11-30T11:22:34.054Z"
   },
   {
    "duration": 11,
    "start_time": "2022-11-30T11:22:34.066Z"
   },
   {
    "duration": 44,
    "start_time": "2022-11-30T11:22:34.078Z"
   },
   {
    "duration": 10,
    "start_time": "2022-11-30T11:22:34.124Z"
   },
   {
    "duration": 87,
    "start_time": "2022-11-30T11:22:34.135Z"
   },
   {
    "duration": 22,
    "start_time": "2022-11-30T11:22:34.223Z"
   },
   {
    "duration": 131,
    "start_time": "2022-11-30T11:29:57.025Z"
   },
   {
    "duration": 45,
    "start_time": "2022-11-30T11:30:46.276Z"
   },
   {
    "duration": 3,
    "start_time": "2022-11-30T11:31:02.869Z"
   },
   {
    "duration": 3,
    "start_time": "2022-11-30T11:31:13.380Z"
   },
   {
    "duration": 62,
    "start_time": "2022-11-30T11:31:17.540Z"
   },
   {
    "duration": 46,
    "start_time": "2022-11-30T11:32:03.299Z"
   },
   {
    "duration": 101,
    "start_time": "2022-11-30T11:32:20.788Z"
   },
   {
    "duration": 96,
    "start_time": "2022-11-30T11:34:59.378Z"
   },
   {
    "duration": 11,
    "start_time": "2022-11-30T11:35:44.020Z"
   },
   {
    "duration": 246,
    "start_time": "2022-11-30T11:35:59.819Z"
   },
   {
    "duration": 22,
    "start_time": "2022-11-30T11:37:17.904Z"
   },
   {
    "duration": 24,
    "start_time": "2022-11-30T11:37:24.400Z"
   },
   {
    "duration": 52,
    "start_time": "2022-11-30T11:37:32.862Z"
   },
   {
    "duration": 69,
    "start_time": "2022-11-30T11:37:36.822Z"
   },
   {
    "duration": 23,
    "start_time": "2022-11-30T11:37:53.540Z"
   },
   {
    "duration": 38,
    "start_time": "2022-11-30T11:38:45.928Z"
   },
   {
    "duration": 286,
    "start_time": "2022-11-30T11:45:12.380Z"
   },
   {
    "duration": 197,
    "start_time": "2022-11-30T11:45:22.898Z"
   },
   {
    "duration": 240,
    "start_time": "2022-11-30T11:46:54.955Z"
   },
   {
    "duration": 138,
    "start_time": "2022-11-30T11:47:00.009Z"
   },
   {
    "duration": 21,
    "start_time": "2022-11-30T11:49:44.347Z"
   },
   {
    "duration": 23,
    "start_time": "2022-11-30T11:49:57.727Z"
   },
   {
    "duration": 50,
    "start_time": "2022-11-30T11:50:17.339Z"
   },
   {
    "duration": 98,
    "start_time": "2022-11-30T11:50:38.420Z"
   },
   {
    "duration": 21,
    "start_time": "2022-11-30T11:50:56.191Z"
   },
   {
    "duration": 26,
    "start_time": "2022-11-30T11:51:10.938Z"
   },
   {
    "duration": 242,
    "start_time": "2022-11-30T11:52:05.121Z"
   },
   {
    "duration": 292,
    "start_time": "2022-11-30T11:52:34.492Z"
   },
   {
    "duration": 301,
    "start_time": "2022-11-30T11:52:41.154Z"
   },
   {
    "duration": 264,
    "start_time": "2022-11-30T11:52:58.098Z"
   },
   {
    "duration": 242,
    "start_time": "2022-11-30T11:53:12.275Z"
   },
   {
    "duration": 219,
    "start_time": "2022-11-30T11:53:28.441Z"
   },
   {
    "duration": 293,
    "start_time": "2022-11-30T11:53:33.664Z"
   },
   {
    "duration": 187,
    "start_time": "2022-11-30T11:53:56.176Z"
   },
   {
    "duration": 26,
    "start_time": "2022-11-30T11:54:07.828Z"
   },
   {
    "duration": 23,
    "start_time": "2022-11-30T11:54:18.787Z"
   },
   {
    "duration": 70,
    "start_time": "2022-11-30T11:54:26.704Z"
   },
   {
    "duration": 39,
    "start_time": "2022-11-30T11:55:19.306Z"
   },
   {
    "duration": 1419,
    "start_time": "2022-11-30T13:59:14.085Z"
   },
   {
    "duration": 53,
    "start_time": "2022-11-30T13:59:15.506Z"
   },
   {
    "duration": 22,
    "start_time": "2022-11-30T13:59:15.561Z"
   },
   {
    "duration": 23,
    "start_time": "2022-11-30T13:59:15.584Z"
   },
   {
    "duration": 32,
    "start_time": "2022-11-30T13:59:15.609Z"
   },
   {
    "duration": 40,
    "start_time": "2022-11-30T13:59:15.643Z"
   },
   {
    "duration": 22,
    "start_time": "2022-11-30T13:59:15.684Z"
   },
   {
    "duration": 28,
    "start_time": "2022-11-30T13:59:15.707Z"
   },
   {
    "duration": 39,
    "start_time": "2022-11-30T13:59:15.736Z"
   },
   {
    "duration": 29,
    "start_time": "2022-11-30T13:59:15.777Z"
   },
   {
    "duration": 48,
    "start_time": "2022-11-30T13:59:15.808Z"
   },
   {
    "duration": 52,
    "start_time": "2022-11-30T13:59:15.857Z"
   },
   {
    "duration": 135,
    "start_time": "2022-11-30T13:59:15.911Z"
   },
   {
    "duration": 144,
    "start_time": "2022-11-30T13:59:16.048Z"
   },
   {
    "duration": 6,
    "start_time": "2022-11-30T13:59:16.194Z"
   },
   {
    "duration": 44,
    "start_time": "2022-11-30T13:59:16.201Z"
   },
   {
    "duration": 28,
    "start_time": "2022-11-30T13:59:16.246Z"
   },
   {
    "duration": 63,
    "start_time": "2022-11-30T13:59:16.275Z"
   },
   {
    "duration": 83,
    "start_time": "2022-11-30T13:59:16.340Z"
   },
   {
    "duration": 23,
    "start_time": "2022-11-30T13:59:16.425Z"
   },
   {
    "duration": 215,
    "start_time": "2022-11-30T13:59:16.450Z"
   },
   {
    "duration": 236,
    "start_time": "2022-11-30T14:10:39.868Z"
   },
   {
    "duration": 292,
    "start_time": "2022-11-30T14:10:53.097Z"
   },
   {
    "duration": 201,
    "start_time": "2022-11-30T14:11:41.067Z"
   },
   {
    "duration": 236,
    "start_time": "2022-11-30T14:16:10.430Z"
   },
   {
    "duration": 325,
    "start_time": "2022-11-30T14:16:40.136Z"
   },
   {
    "duration": 203,
    "start_time": "2022-11-30T14:17:19.061Z"
   },
   {
    "duration": 171,
    "start_time": "2022-11-30T15:50:05.041Z"
   },
   {
    "duration": 1431,
    "start_time": "2022-11-30T15:50:24.184Z"
   },
   {
    "duration": 173,
    "start_time": "2022-11-30T15:50:30.887Z"
   },
   {
    "duration": 174,
    "start_time": "2022-11-30T15:51:16.788Z"
   },
   {
    "duration": 11,
    "start_time": "2022-11-30T15:52:54.494Z"
   },
   {
    "duration": 84198,
    "start_time": "2022-11-30T15:53:15.338Z"
   },
   {
    "duration": 165193,
    "start_time": "2022-11-30T15:58:29.448Z"
   },
   {
    "duration": 185,
    "start_time": "2022-11-30T16:20:45.804Z"
   },
   {
    "duration": 173,
    "start_time": "2022-11-30T16:20:53.011Z"
   },
   {
    "duration": 83875,
    "start_time": "2022-11-30T16:21:00.159Z"
   },
   {
    "duration": 84344,
    "start_time": "2022-11-30T16:23:16.320Z"
   },
   {
    "duration": 182,
    "start_time": "2022-11-30T16:42:27.688Z"
   },
   {
    "duration": 181,
    "start_time": "2022-11-30T16:42:36.500Z"
   },
   {
    "duration": 182,
    "start_time": "2022-11-30T16:42:38.055Z"
   },
   {
    "duration": 197,
    "start_time": "2022-11-30T16:44:35.740Z"
   },
   {
    "duration": 308,
    "start_time": "2022-11-30T16:46:07.741Z"
   },
   {
    "duration": 348,
    "start_time": "2022-11-30T16:46:56.393Z"
   },
   {
    "duration": 319,
    "start_time": "2022-11-30T17:00:20.063Z"
   },
   {
    "duration": 304,
    "start_time": "2022-11-30T17:01:33.476Z"
   },
   {
    "duration": 90,
    "start_time": "2022-11-30T17:01:44.891Z"
   },
   {
    "duration": 26,
    "start_time": "2022-11-30T17:15:11.985Z"
   },
   {
    "duration": 23,
    "start_time": "2022-11-30T17:15:24.265Z"
   },
   {
    "duration": 51,
    "start_time": "2022-11-30T17:21:19.793Z"
   },
   {
    "duration": 10,
    "start_time": "2022-11-30T17:30:00.567Z"
   },
   {
    "duration": 767,
    "start_time": "2022-11-30T17:30:29.585Z"
   },
   {
    "duration": 787,
    "start_time": "2022-11-30T17:31:50.903Z"
   },
   {
    "duration": 782,
    "start_time": "2022-11-30T17:32:03.707Z"
   },
   {
    "duration": 797,
    "start_time": "2022-11-30T17:34:45.312Z"
   },
   {
    "duration": 81,
    "start_time": "2022-11-30T17:35:17.421Z"
   },
   {
    "duration": 94,
    "start_time": "2022-11-30T17:36:09.270Z"
   },
   {
    "duration": 88,
    "start_time": "2022-11-30T17:36:16.484Z"
   },
   {
    "duration": 164,
    "start_time": "2022-11-30T17:36:23.635Z"
   },
   {
    "duration": 141,
    "start_time": "2022-11-30T17:36:36.342Z"
   },
   {
    "duration": 128,
    "start_time": "2022-11-30T17:50:00.104Z"
   },
   {
    "duration": 164,
    "start_time": "2022-11-30T17:50:05.804Z"
   },
   {
    "duration": 229,
    "start_time": "2022-11-30T17:50:13.662Z"
   },
   {
    "duration": 125,
    "start_time": "2022-11-30T17:50:27.123Z"
   },
   {
    "duration": 119,
    "start_time": "2022-11-30T17:50:36.377Z"
   },
   {
    "duration": 119,
    "start_time": "2022-11-30T17:50:45.063Z"
   },
   {
    "duration": 133,
    "start_time": "2022-11-30T17:50:52.107Z"
   },
   {
    "duration": 128,
    "start_time": "2022-11-30T17:50:57.987Z"
   },
   {
    "duration": 122,
    "start_time": "2022-11-30T17:51:05.265Z"
   },
   {
    "duration": 117,
    "start_time": "2022-12-01T08:58:31.805Z"
   },
   {
    "duration": 323,
    "start_time": "2022-12-01T08:58:36.094Z"
   },
   {
    "duration": 1279,
    "start_time": "2022-12-01T09:05:08.323Z"
   },
   {
    "duration": 1238,
    "start_time": "2022-12-01T09:05:26.346Z"
   },
   {
    "duration": 1252,
    "start_time": "2022-12-01T09:05:45.663Z"
   },
   {
    "duration": 1212,
    "start_time": "2022-12-01T09:05:54.209Z"
   },
   {
    "duration": 1215,
    "start_time": "2022-12-01T09:06:40.609Z"
   },
   {
    "duration": 1191,
    "start_time": "2022-12-01T09:10:17.457Z"
   },
   {
    "duration": 1228,
    "start_time": "2022-12-01T09:11:13.872Z"
   },
   {
    "duration": 1243,
    "start_time": "2022-12-01T09:11:41.129Z"
   },
   {
    "duration": 2251,
    "start_time": "2022-12-01T09:16:11.594Z"
   },
   {
    "duration": 1202,
    "start_time": "2022-12-01T09:16:24.095Z"
   },
   {
    "duration": 135,
    "start_time": "2022-12-01T09:41:24.203Z"
   },
   {
    "duration": 126,
    "start_time": "2022-12-01T09:41:35.536Z"
   },
   {
    "duration": 122,
    "start_time": "2022-12-01T09:41:43.164Z"
   },
   {
    "duration": 126,
    "start_time": "2022-12-01T09:41:50.209Z"
   },
   {
    "duration": 125,
    "start_time": "2022-12-01T09:41:56.845Z"
   },
   {
    "duration": 128,
    "start_time": "2022-12-01T09:42:01.548Z"
   },
   {
    "duration": 134,
    "start_time": "2022-12-01T09:42:09.921Z"
   },
   {
    "duration": 1214,
    "start_time": "2022-12-01T09:42:34.305Z"
   },
   {
    "duration": 4,
    "start_time": "2022-12-01T09:48:02.629Z"
   },
   {
    "duration": 177,
    "start_time": "2022-12-01T09:48:04.350Z"
   },
   {
    "duration": 2,
    "start_time": "2022-12-01T09:48:23.698Z"
   },
   {
    "duration": 809,
    "start_time": "2022-12-01T09:48:32.377Z"
   },
   {
    "duration": 9,
    "start_time": "2022-12-01T09:49:16.255Z"
   },
   {
    "duration": 186,
    "start_time": "2022-12-01T09:49:21.770Z"
   },
   {
    "duration": 4,
    "start_time": "2022-12-01T09:50:47.768Z"
   },
   {
    "duration": 173,
    "start_time": "2022-12-01T09:50:49.832Z"
   },
   {
    "duration": 182,
    "start_time": "2022-12-01T09:51:09.279Z"
   },
   {
    "duration": 312,
    "start_time": "2022-12-01T09:51:42.518Z"
   },
   {
    "duration": 4,
    "start_time": "2022-12-01T09:52:00.063Z"
   },
   {
    "duration": 301,
    "start_time": "2022-12-01T09:52:04.257Z"
   },
   {
    "duration": 4,
    "start_time": "2022-12-01T09:52:08.303Z"
   },
   {
    "duration": 83,
    "start_time": "2022-12-01T09:52:33.253Z"
   },
   {
    "duration": 3,
    "start_time": "2022-12-01T09:59:13.904Z"
   },
   {
    "duration": 4,
    "start_time": "2022-12-01T10:02:24.632Z"
   },
   {
    "duration": 85154,
    "start_time": "2022-12-01T10:02:27.998Z"
   },
   {
    "duration": 84460,
    "start_time": "2022-12-01T10:07:22.742Z"
   },
   {
    "duration": 1260,
    "start_time": "2022-12-01T10:10:00.161Z"
   },
   {
    "duration": 41,
    "start_time": "2022-12-01T10:10:01.422Z"
   },
   {
    "duration": 24,
    "start_time": "2022-12-01T10:10:01.464Z"
   },
   {
    "duration": 6,
    "start_time": "2022-12-01T10:10:01.490Z"
   },
   {
    "duration": 44,
    "start_time": "2022-12-01T10:10:01.497Z"
   },
   {
    "duration": 42,
    "start_time": "2022-12-01T10:10:01.542Z"
   },
   {
    "duration": 30,
    "start_time": "2022-12-01T10:10:01.587Z"
   },
   {
    "duration": 39,
    "start_time": "2022-12-01T10:10:01.619Z"
   },
   {
    "duration": 18,
    "start_time": "2022-12-01T10:10:01.660Z"
   },
   {
    "duration": 41,
    "start_time": "2022-12-01T10:10:01.681Z"
   },
   {
    "duration": 20,
    "start_time": "2022-12-01T10:10:01.724Z"
   },
   {
    "duration": 32,
    "start_time": "2022-12-01T10:10:01.745Z"
   },
   {
    "duration": 123,
    "start_time": "2022-12-01T10:10:01.779Z"
   },
   {
    "duration": 153,
    "start_time": "2022-12-01T10:10:01.904Z"
   },
   {
    "duration": 6,
    "start_time": "2022-12-01T10:10:02.059Z"
   },
   {
    "duration": 52,
    "start_time": "2022-12-01T10:10:02.067Z"
   },
   {
    "duration": 10,
    "start_time": "2022-12-01T10:10:02.120Z"
   },
   {
    "duration": 185,
    "start_time": "2022-12-01T10:10:02.131Z"
   },
   {
    "duration": 2,
    "start_time": "2022-12-01T10:10:02.318Z"
   },
   {
    "duration": 30,
    "start_time": "2022-12-01T10:10:02.322Z"
   },
   {
    "duration": 221,
    "start_time": "2022-12-01T10:10:02.353Z"
   },
   {
    "duration": 4,
    "start_time": "2022-12-01T10:10:02.576Z"
   },
   {
    "duration": 30,
    "start_time": "2022-12-01T10:10:02.582Z"
   },
   {
    "duration": 325,
    "start_time": "2022-12-01T10:10:02.613Z"
   },
   {
    "duration": 5,
    "start_time": "2022-12-01T10:10:02.940Z"
   },
   {
    "duration": 14,
    "start_time": "2022-12-01T10:10:02.946Z"
   },
   {
    "duration": 99,
    "start_time": "2022-12-01T10:10:02.961Z"
   },
   {
    "duration": 126,
    "start_time": "2022-12-01T10:10:03.065Z"
   },
   {
    "duration": 0,
    "start_time": "2022-12-01T10:10:03.193Z"
   },
   {
    "duration": 0,
    "start_time": "2022-12-01T10:10:03.194Z"
   },
   {
    "duration": 0,
    "start_time": "2022-12-01T10:10:03.196Z"
   },
   {
    "duration": 0,
    "start_time": "2022-12-01T10:10:03.197Z"
   },
   {
    "duration": 0,
    "start_time": "2022-12-01T10:10:03.198Z"
   },
   {
    "duration": 0,
    "start_time": "2022-12-01T10:10:03.200Z"
   },
   {
    "duration": 0,
    "start_time": "2022-12-01T10:10:03.201Z"
   },
   {
    "duration": 0,
    "start_time": "2022-12-01T10:10:03.216Z"
   },
   {
    "duration": 0,
    "start_time": "2022-12-01T10:10:03.217Z"
   },
   {
    "duration": 0,
    "start_time": "2022-12-01T10:10:03.219Z"
   },
   {
    "duration": 1279,
    "start_time": "2022-12-01T10:10:58.652Z"
   },
   {
    "duration": 41,
    "start_time": "2022-12-01T10:10:59.933Z"
   },
   {
    "duration": 22,
    "start_time": "2022-12-01T10:10:59.976Z"
   },
   {
    "duration": 4,
    "start_time": "2022-12-01T10:11:00.000Z"
   },
   {
    "duration": 30,
    "start_time": "2022-12-01T10:11:00.005Z"
   },
   {
    "duration": 16,
    "start_time": "2022-12-01T10:11:00.037Z"
   },
   {
    "duration": 6,
    "start_time": "2022-12-01T10:11:00.055Z"
   },
   {
    "duration": 20,
    "start_time": "2022-12-01T10:11:00.063Z"
   },
   {
    "duration": 25,
    "start_time": "2022-12-01T10:11:00.084Z"
   },
   {
    "duration": 18,
    "start_time": "2022-12-01T10:11:00.112Z"
   },
   {
    "duration": 7,
    "start_time": "2022-12-01T10:11:00.131Z"
   },
   {
    "duration": 31,
    "start_time": "2022-12-01T10:11:00.140Z"
   },
   {
    "duration": 130,
    "start_time": "2022-12-01T10:11:00.173Z"
   },
   {
    "duration": 155,
    "start_time": "2022-12-01T10:11:00.305Z"
   },
   {
    "duration": 7,
    "start_time": "2022-12-01T10:11:00.462Z"
   },
   {
    "duration": 31,
    "start_time": "2022-12-01T10:11:00.470Z"
   },
   {
    "duration": 19,
    "start_time": "2022-12-01T10:11:00.502Z"
   },
   {
    "duration": 201,
    "start_time": "2022-12-01T10:11:00.522Z"
   },
   {
    "duration": 3,
    "start_time": "2022-12-01T10:11:00.725Z"
   },
   {
    "duration": 52,
    "start_time": "2022-12-01T10:11:00.730Z"
   },
   {
    "duration": 204,
    "start_time": "2022-12-01T10:11:00.784Z"
   },
   {
    "duration": 4,
    "start_time": "2022-12-01T10:11:00.990Z"
   },
   {
    "duration": 31,
    "start_time": "2022-12-01T10:11:00.996Z"
   },
   {
    "duration": 343,
    "start_time": "2022-12-01T10:11:01.029Z"
   },
   {
    "duration": 5,
    "start_time": "2022-12-01T10:11:01.374Z"
   },
   {
    "duration": 20,
    "start_time": "2022-12-01T10:11:01.381Z"
   },
   {
    "duration": 98,
    "start_time": "2022-12-01T10:11:01.403Z"
   },
   {
    "duration": 146,
    "start_time": "2022-12-01T10:11:01.505Z"
   },
   {
    "duration": 1296,
    "start_time": "2022-12-01T10:11:01.653Z"
   },
   {
    "duration": 137,
    "start_time": "2022-12-01T10:11:02.951Z"
   },
   {
    "duration": 84566,
    "start_time": "2022-12-01T10:11:03.090Z"
   },
   {
    "duration": 5,
    "start_time": "2022-12-01T10:12:27.657Z"
   },
   {
    "duration": 84974,
    "start_time": "2022-12-01T10:12:27.663Z"
   },
   {
    "duration": 5,
    "start_time": "2022-12-01T10:13:52.639Z"
   },
   {
    "duration": 65,
    "start_time": "2022-12-01T10:13:52.645Z"
   },
   {
    "duration": 71,
    "start_time": "2022-12-01T10:13:52.712Z"
   },
   {
    "duration": 22,
    "start_time": "2022-12-01T10:13:52.784Z"
   },
   {
    "duration": 254,
    "start_time": "2022-12-01T10:13:52.815Z"
   },
   {
    "duration": 4,
    "start_time": "2022-12-01T10:15:56.319Z"
   },
   {
    "duration": 169,
    "start_time": "2022-12-01T10:16:02.663Z"
   },
   {
    "duration": 4,
    "start_time": "2022-12-01T10:16:35.341Z"
   },
   {
    "duration": 84480,
    "start_time": "2022-12-01T10:16:41.519Z"
   },
   {
    "duration": 50,
    "start_time": "2022-12-01T13:17:50.890Z"
   },
   {
    "duration": 1712,
    "start_time": "2022-12-01T13:17:59.578Z"
   },
   {
    "duration": 166,
    "start_time": "2022-12-01T13:18:01.292Z"
   },
   {
    "duration": 28,
    "start_time": "2022-12-01T13:18:01.460Z"
   },
   {
    "duration": 4,
    "start_time": "2022-12-01T13:18:01.491Z"
   },
   {
    "duration": 36,
    "start_time": "2022-12-01T13:18:01.497Z"
   },
   {
    "duration": 18,
    "start_time": "2022-12-01T13:18:01.535Z"
   },
   {
    "duration": 35,
    "start_time": "2022-12-01T13:18:01.555Z"
   },
   {
    "duration": 31,
    "start_time": "2022-12-01T13:18:01.592Z"
   },
   {
    "duration": 11,
    "start_time": "2022-12-01T13:18:01.624Z"
   },
   {
    "duration": 146,
    "start_time": "2022-12-01T13:18:01.639Z"
   },
   {
    "duration": 36,
    "start_time": "2022-12-01T13:18:01.787Z"
   },
   {
    "duration": 34,
    "start_time": "2022-12-01T13:18:01.825Z"
   },
   {
    "duration": 175,
    "start_time": "2022-12-01T13:18:01.861Z"
   },
   {
    "duration": 188,
    "start_time": "2022-12-01T13:18:02.038Z"
   },
   {
    "duration": 23,
    "start_time": "2022-12-01T13:18:02.228Z"
   },
   {
    "duration": 19,
    "start_time": "2022-12-01T13:18:02.253Z"
   },
   {
    "duration": 23,
    "start_time": "2022-12-01T13:18:02.274Z"
   },
   {
    "duration": 215,
    "start_time": "2022-12-01T13:18:02.299Z"
   },
   {
    "duration": 3,
    "start_time": "2022-12-01T13:18:02.515Z"
   },
   {
    "duration": 19,
    "start_time": "2022-12-01T13:18:02.520Z"
   },
   {
    "duration": 239,
    "start_time": "2022-12-01T13:18:02.540Z"
   },
   {
    "duration": 4,
    "start_time": "2022-12-01T13:18:02.780Z"
   },
   {
    "duration": 17,
    "start_time": "2022-12-01T13:18:02.786Z"
   },
   {
    "duration": 368,
    "start_time": "2022-12-01T13:18:02.805Z"
   },
   {
    "duration": 5,
    "start_time": "2022-12-01T13:18:03.174Z"
   },
   {
    "duration": 13,
    "start_time": "2022-12-01T13:18:03.180Z"
   },
   {
    "duration": 122,
    "start_time": "2022-12-01T13:18:03.195Z"
   },
   {
    "duration": 159,
    "start_time": "2022-12-01T13:18:03.320Z"
   },
   {
    "duration": 1470,
    "start_time": "2022-12-01T13:18:03.481Z"
   },
   {
    "duration": 169,
    "start_time": "2022-12-01T13:18:04.953Z"
   },
   {
    "duration": 1099,
    "start_time": "2022-12-01T13:18:05.124Z"
   },
   {
    "duration": 1057,
    "start_time": "2022-12-01T13:18:14.221Z"
   },
   {
    "duration": 26,
    "start_time": "2022-12-01T13:19:59.685Z"
   },
   {
    "duration": 1398,
    "start_time": "2022-12-01T13:20:22.272Z"
   },
   {
    "duration": 43,
    "start_time": "2022-12-01T13:20:23.672Z"
   },
   {
    "duration": 28,
    "start_time": "2022-12-01T13:20:23.718Z"
   },
   {
    "duration": 4,
    "start_time": "2022-12-01T13:20:23.748Z"
   },
   {
    "duration": 34,
    "start_time": "2022-12-01T13:20:23.754Z"
   },
   {
    "duration": 17,
    "start_time": "2022-12-01T13:20:23.789Z"
   },
   {
    "duration": 19,
    "start_time": "2022-12-01T13:20:23.808Z"
   },
   {
    "duration": 15,
    "start_time": "2022-12-01T13:20:23.829Z"
   },
   {
    "duration": 10,
    "start_time": "2022-12-01T13:20:23.846Z"
   },
   {
    "duration": 20,
    "start_time": "2022-12-01T13:20:23.858Z"
   },
   {
    "duration": 8,
    "start_time": "2022-12-01T13:20:23.880Z"
   },
   {
    "duration": 25,
    "start_time": "2022-12-01T13:20:23.890Z"
   },
   {
    "duration": 176,
    "start_time": "2022-12-01T13:20:23.916Z"
   },
   {
    "duration": 175,
    "start_time": "2022-12-01T13:20:24.094Z"
   },
   {
    "duration": 6,
    "start_time": "2022-12-01T13:20:24.271Z"
   },
   {
    "duration": 8,
    "start_time": "2022-12-01T13:20:24.279Z"
   },
   {
    "duration": 4,
    "start_time": "2022-12-01T13:20:24.289Z"
   },
   {
    "duration": 231,
    "start_time": "2022-12-01T13:20:24.295Z"
   },
   {
    "duration": 3,
    "start_time": "2022-12-01T13:20:24.527Z"
   },
   {
    "duration": 10,
    "start_time": "2022-12-01T13:20:24.532Z"
   },
   {
    "duration": 264,
    "start_time": "2022-12-01T13:20:24.544Z"
   },
   {
    "duration": 4,
    "start_time": "2022-12-01T13:20:24.810Z"
   },
   {
    "duration": 14,
    "start_time": "2022-12-01T13:20:24.852Z"
   },
   {
    "duration": 383,
    "start_time": "2022-12-01T13:20:24.868Z"
   },
   {
    "duration": 4,
    "start_time": "2022-12-01T13:20:25.253Z"
   },
   {
    "duration": 14,
    "start_time": "2022-12-01T13:20:25.259Z"
   },
   {
    "duration": 124,
    "start_time": "2022-12-01T13:20:25.275Z"
   },
   {
    "duration": 162,
    "start_time": "2022-12-01T13:20:25.403Z"
   },
   {
    "duration": 1499,
    "start_time": "2022-12-01T13:20:25.568Z"
   },
   {
    "duration": 157,
    "start_time": "2022-12-01T13:20:27.069Z"
   },
   {
    "duration": 1114,
    "start_time": "2022-12-01T13:20:27.228Z"
   },
   {
    "duration": 98794,
    "start_time": "2022-12-01T13:20:28.344Z"
   },
   {
    "duration": 5,
    "start_time": "2022-12-01T13:22:07.140Z"
   },
   {
    "duration": 99165,
    "start_time": "2022-12-01T13:22:07.146Z"
   },
   {
    "duration": 7,
    "start_time": "2022-12-01T13:23:46.314Z"
   },
   {
    "duration": 61,
    "start_time": "2022-12-01T13:23:46.323Z"
   },
   {
    "duration": 93,
    "start_time": "2022-12-01T13:23:46.386Z"
   },
   {
    "duration": 34,
    "start_time": "2022-12-01T13:23:46.481Z"
   },
   {
    "duration": 302,
    "start_time": "2022-12-01T13:23:46.517Z"
   },
   {
    "duration": 99363,
    "start_time": "2022-12-01T13:26:41.442Z"
   },
   {
    "duration": 17640,
    "start_time": "2022-12-01T13:28:57.413Z"
   },
   {
    "duration": 196246,
    "start_time": "2022-12-01T13:29:20.625Z"
   },
   {
    "duration": 189417,
    "start_time": "2022-12-01T13:39:04.641Z"
   },
   {
    "duration": 1826,
    "start_time": "2022-12-01T14:15:18.125Z"
   },
   {
    "duration": 207,
    "start_time": "2022-12-01T14:15:19.954Z"
   },
   {
    "duration": 29,
    "start_time": "2022-12-01T14:15:20.164Z"
   },
   {
    "duration": 5,
    "start_time": "2022-12-01T14:15:20.195Z"
   },
   {
    "duration": 44,
    "start_time": "2022-12-01T14:15:20.203Z"
   },
   {
    "duration": 54,
    "start_time": "2022-12-01T14:15:20.249Z"
   },
   {
    "duration": 8,
    "start_time": "2022-12-01T14:15:20.305Z"
   },
   {
    "duration": 24,
    "start_time": "2022-12-01T14:15:20.315Z"
   },
   {
    "duration": 21,
    "start_time": "2022-12-01T14:15:20.341Z"
   },
   {
    "duration": 35,
    "start_time": "2022-12-01T14:15:20.366Z"
   },
   {
    "duration": 6,
    "start_time": "2022-12-01T14:15:20.403Z"
   },
   {
    "duration": 10,
    "start_time": "2022-12-01T14:15:20.411Z"
   },
   {
    "duration": 9,
    "start_time": "2022-12-01T14:15:20.423Z"
   },
   {
    "duration": 37,
    "start_time": "2022-12-01T14:15:20.434Z"
   },
   {
    "duration": 196,
    "start_time": "2022-12-01T14:15:20.473Z"
   },
   {
    "duration": 200,
    "start_time": "2022-12-01T14:15:20.671Z"
   },
   {
    "duration": 8,
    "start_time": "2022-12-01T14:15:20.873Z"
   },
   {
    "duration": 9,
    "start_time": "2022-12-01T14:15:20.882Z"
   },
   {
    "duration": 6,
    "start_time": "2022-12-01T14:15:20.893Z"
   },
   {
    "duration": 205,
    "start_time": "2022-12-01T14:15:20.901Z"
   },
   {
    "duration": 4,
    "start_time": "2022-12-01T14:15:21.108Z"
   },
   {
    "duration": 18,
    "start_time": "2022-12-01T14:15:21.114Z"
   },
   {
    "duration": 199,
    "start_time": "2022-12-01T14:15:21.134Z"
   },
   {
    "duration": 5,
    "start_time": "2022-12-01T14:15:21.334Z"
   },
   {
    "duration": 20,
    "start_time": "2022-12-01T14:15:21.352Z"
   },
   {
    "duration": 337,
    "start_time": "2022-12-01T14:15:21.374Z"
   },
   {
    "duration": 5,
    "start_time": "2022-12-01T14:15:21.712Z"
   },
   {
    "duration": 11,
    "start_time": "2022-12-01T14:15:21.723Z"
   },
   {
    "duration": 124,
    "start_time": "2022-12-01T14:15:21.756Z"
   },
   {
    "duration": 165,
    "start_time": "2022-12-01T14:15:21.883Z"
   },
   {
    "duration": 1582,
    "start_time": "2022-12-01T14:15:22.050Z"
   },
   {
    "duration": 178,
    "start_time": "2022-12-01T14:15:23.634Z"
   },
   {
    "duration": 3,
    "start_time": "2022-12-01T14:15:23.815Z"
   },
   {
    "duration": 8,
    "start_time": "2022-12-01T14:15:23.819Z"
   },
   {
    "duration": 21,
    "start_time": "2022-12-01T14:15:23.829Z"
   },
   {
    "duration": 93262,
    "start_time": "2022-12-01T14:15:23.851Z"
   },
   {
    "duration": 92253,
    "start_time": "2022-12-01T14:16:57.115Z"
   },
   {
    "duration": 39928,
    "start_time": "2022-12-01T14:18:29.370Z"
   },
   {
    "duration": 0,
    "start_time": "2022-12-01T14:19:09.301Z"
   },
   {
    "duration": 0,
    "start_time": "2022-12-01T14:19:09.303Z"
   },
   {
    "duration": 0,
    "start_time": "2022-12-01T14:19:09.304Z"
   },
   {
    "duration": 0,
    "start_time": "2022-12-01T14:19:09.306Z"
   },
   {
    "duration": 0,
    "start_time": "2022-12-01T14:19:09.307Z"
   },
   {
    "duration": 0,
    "start_time": "2022-12-01T14:19:09.309Z"
   },
   {
    "duration": 0,
    "start_time": "2022-12-01T14:19:09.311Z"
   },
   {
    "duration": 1472,
    "start_time": "2022-12-01T14:34:10.526Z"
   },
   {
    "duration": 41,
    "start_time": "2022-12-01T14:34:12.000Z"
   },
   {
    "duration": 37,
    "start_time": "2022-12-01T14:34:12.043Z"
   },
   {
    "duration": 5,
    "start_time": "2022-12-01T14:34:12.082Z"
   },
   {
    "duration": 26,
    "start_time": "2022-12-01T14:34:12.089Z"
   },
   {
    "duration": 16,
    "start_time": "2022-12-01T14:34:12.117Z"
   },
   {
    "duration": 41,
    "start_time": "2022-12-01T14:34:12.134Z"
   },
   {
    "duration": 30,
    "start_time": "2022-12-01T14:34:12.177Z"
   },
   {
    "duration": 13,
    "start_time": "2022-12-01T14:34:12.208Z"
   },
   {
    "duration": 19,
    "start_time": "2022-12-01T14:34:12.225Z"
   },
   {
    "duration": 15,
    "start_time": "2022-12-01T14:34:12.246Z"
   },
   {
    "duration": 17,
    "start_time": "2022-12-01T14:34:12.263Z"
   },
   {
    "duration": 11,
    "start_time": "2022-12-01T14:34:12.282Z"
   },
   {
    "duration": 36,
    "start_time": "2022-12-01T14:34:12.295Z"
   },
   {
    "duration": 173,
    "start_time": "2022-12-01T14:34:12.333Z"
   },
   {
    "duration": 179,
    "start_time": "2022-12-01T14:34:12.508Z"
   },
   {
    "duration": 8,
    "start_time": "2022-12-01T14:34:12.689Z"
   },
   {
    "duration": 8,
    "start_time": "2022-12-01T14:34:12.700Z"
   },
   {
    "duration": 10,
    "start_time": "2022-12-01T14:34:12.711Z"
   },
   {
    "duration": 268,
    "start_time": "2022-12-01T14:34:12.724Z"
   },
   {
    "duration": 3,
    "start_time": "2022-12-01T14:34:12.994Z"
   },
   {
    "duration": 6,
    "start_time": "2022-12-01T14:34:13.000Z"
   },
   {
    "duration": 202,
    "start_time": "2022-12-01T14:34:13.007Z"
   },
   {
    "duration": 4,
    "start_time": "2022-12-01T14:34:13.211Z"
   },
   {
    "duration": 7,
    "start_time": "2022-12-01T14:34:13.217Z"
   },
   {
    "duration": 39,
    "start_time": "2022-12-01T14:34:13.225Z"
   },
   {
    "duration": 306,
    "start_time": "2022-12-01T14:34:13.267Z"
   },
   {
    "duration": 5,
    "start_time": "2022-12-01T14:34:13.577Z"
   },
   {
    "duration": 6,
    "start_time": "2022-12-01T14:34:13.584Z"
   },
   {
    "duration": 16,
    "start_time": "2022-12-01T14:34:13.592Z"
   },
   {
    "duration": 113,
    "start_time": "2022-12-01T14:34:13.610Z"
   },
   {
    "duration": 166,
    "start_time": "2022-12-01T14:34:13.725Z"
   },
   {
    "duration": 1615,
    "start_time": "2022-12-01T14:34:13.893Z"
   },
   {
    "duration": 183,
    "start_time": "2022-12-01T14:34:15.511Z"
   },
   {
    "duration": 3,
    "start_time": "2022-12-01T14:34:15.696Z"
   },
   {
    "duration": 7,
    "start_time": "2022-12-01T14:34:15.701Z"
   },
   {
    "duration": 7,
    "start_time": "2022-12-01T14:34:15.710Z"
   },
   {
    "duration": 92520,
    "start_time": "2022-12-01T14:34:15.719Z"
   },
   {
    "duration": 92293,
    "start_time": "2022-12-01T14:35:48.242Z"
   },
   {
    "duration": 6,
    "start_time": "2022-12-01T14:46:43.812Z"
   },
   {
    "duration": 57,
    "start_time": "2022-12-01T14:46:43.821Z"
   },
   {
    "duration": 29,
    "start_time": "2022-12-01T14:46:43.881Z"
   },
   {
    "duration": 5,
    "start_time": "2022-12-01T14:46:43.912Z"
   },
   {
    "duration": 28,
    "start_time": "2022-12-01T14:46:43.950Z"
   },
   {
    "duration": 20,
    "start_time": "2022-12-01T14:46:43.981Z"
   },
   {
    "duration": 7,
    "start_time": "2022-12-01T14:46:44.004Z"
   },
   {
    "duration": 48,
    "start_time": "2022-12-01T14:46:44.013Z"
   },
   {
    "duration": 17,
    "start_time": "2022-12-01T14:46:44.065Z"
   },
   {
    "duration": 22,
    "start_time": "2022-12-01T14:46:44.084Z"
   },
   {
    "duration": 6,
    "start_time": "2022-12-01T14:46:44.108Z"
   },
   {
    "duration": 43,
    "start_time": "2022-12-01T14:46:44.116Z"
   },
   {
    "duration": 10,
    "start_time": "2022-12-01T14:46:44.161Z"
   },
   {
    "duration": 36,
    "start_time": "2022-12-01T14:46:44.174Z"
   },
   {
    "duration": 237,
    "start_time": "2022-12-01T14:46:44.213Z"
   },
   {
    "duration": 177,
    "start_time": "2022-12-01T14:46:44.455Z"
   },
   {
    "duration": 8,
    "start_time": "2022-12-01T14:46:44.634Z"
   },
   {
    "duration": 12,
    "start_time": "2022-12-01T14:46:44.651Z"
   },
   {
    "duration": 10,
    "start_time": "2022-12-01T14:46:44.666Z"
   },
   {
    "duration": 208,
    "start_time": "2022-12-01T14:46:44.678Z"
   },
   {
    "duration": 4,
    "start_time": "2022-12-01T14:46:44.889Z"
   },
   {
    "duration": 7,
    "start_time": "2022-12-01T14:46:44.895Z"
   },
   {
    "duration": 213,
    "start_time": "2022-12-01T14:46:44.904Z"
   },
   {
    "duration": 5,
    "start_time": "2022-12-01T14:46:45.120Z"
   },
   {
    "duration": 13,
    "start_time": "2022-12-01T14:46:45.127Z"
   },
   {
    "duration": 24,
    "start_time": "2022-12-01T14:46:45.142Z"
   },
   {
    "duration": 347,
    "start_time": "2022-12-01T14:46:45.169Z"
   },
   {
    "duration": 6,
    "start_time": "2022-12-01T14:46:45.518Z"
   },
   {
    "duration": 4,
    "start_time": "2022-12-01T14:46:45.529Z"
   },
   {
    "duration": 26,
    "start_time": "2022-12-01T14:46:45.551Z"
   },
   {
    "duration": 113,
    "start_time": "2022-12-01T14:46:45.580Z"
   },
   {
    "duration": 160,
    "start_time": "2022-12-01T14:46:45.696Z"
   },
   {
    "duration": 1624,
    "start_time": "2022-12-01T14:46:45.858Z"
   },
   {
    "duration": 186,
    "start_time": "2022-12-01T14:46:47.484Z"
   },
   {
    "duration": 4,
    "start_time": "2022-12-01T14:46:47.672Z"
   },
   {
    "duration": 11,
    "start_time": "2022-12-01T14:46:47.678Z"
   },
   {
    "duration": 7,
    "start_time": "2022-12-01T14:46:47.691Z"
   },
   {
    "duration": 92024,
    "start_time": "2022-12-01T14:46:47.700Z"
   },
   {
    "duration": 91884,
    "start_time": "2022-12-01T14:48:19.727Z"
   },
   {
    "duration": 165369,
    "start_time": "2022-12-01T14:50:09.167Z"
   },
   {
    "duration": 44,
    "start_time": "2022-12-01T18:49:29.072Z"
   },
   {
    "duration": 1529,
    "start_time": "2022-12-01T18:49:48.546Z"
   },
   {
    "duration": 166,
    "start_time": "2022-12-01T18:49:50.076Z"
   },
   {
    "duration": 24,
    "start_time": "2022-12-01T18:49:50.244Z"
   },
   {
    "duration": 5,
    "start_time": "2022-12-01T18:49:50.269Z"
   },
   {
    "duration": 20,
    "start_time": "2022-12-01T18:49:50.276Z"
   },
   {
    "duration": 25,
    "start_time": "2022-12-01T18:49:50.297Z"
   },
   {
    "duration": 9,
    "start_time": "2022-12-01T18:49:50.323Z"
   },
   {
    "duration": 18,
    "start_time": "2022-12-01T18:49:50.333Z"
   },
   {
    "duration": 11,
    "start_time": "2022-12-01T18:49:50.353Z"
   },
   {
    "duration": 39,
    "start_time": "2022-12-01T18:49:50.366Z"
   },
   {
    "duration": 20,
    "start_time": "2022-12-01T18:49:50.407Z"
   },
   {
    "duration": 10,
    "start_time": "2022-12-01T18:49:50.428Z"
   },
   {
    "duration": 13,
    "start_time": "2022-12-01T18:49:50.440Z"
   },
   {
    "duration": 39,
    "start_time": "2022-12-01T18:49:50.456Z"
   },
   {
    "duration": 133,
    "start_time": "2022-12-01T18:49:50.497Z"
   },
   {
    "duration": 161,
    "start_time": "2022-12-01T18:49:50.632Z"
   },
   {
    "duration": 6,
    "start_time": "2022-12-01T18:49:50.795Z"
   },
   {
    "duration": 9,
    "start_time": "2022-12-01T18:49:50.803Z"
   },
   {
    "duration": 5,
    "start_time": "2022-12-01T18:49:50.823Z"
   },
   {
    "duration": 167,
    "start_time": "2022-12-01T18:49:50.830Z"
   },
   {
    "duration": 2,
    "start_time": "2022-12-01T18:49:50.999Z"
   },
   {
    "duration": 9,
    "start_time": "2022-12-01T18:49:51.003Z"
   },
   {
    "duration": 176,
    "start_time": "2022-12-01T18:49:51.014Z"
   },
   {
    "duration": 4,
    "start_time": "2022-12-01T18:49:51.192Z"
   },
   {
    "duration": 12,
    "start_time": "2022-12-01T18:49:51.198Z"
   },
   {
    "duration": 21,
    "start_time": "2022-12-01T18:49:51.212Z"
   },
   {
    "duration": 276,
    "start_time": "2022-12-01T18:49:51.235Z"
   },
   {
    "duration": 10,
    "start_time": "2022-12-01T18:49:51.512Z"
   },
   {
    "duration": 8,
    "start_time": "2022-12-01T18:49:51.524Z"
   },
   {
    "duration": 14,
    "start_time": "2022-12-01T18:49:51.533Z"
   },
   {
    "duration": 103,
    "start_time": "2022-12-01T18:49:51.548Z"
   },
   {
    "duration": 131,
    "start_time": "2022-12-01T18:49:51.652Z"
   },
   {
    "duration": 1247,
    "start_time": "2022-12-01T18:49:51.784Z"
   },
   {
    "duration": 139,
    "start_time": "2022-12-01T18:49:53.033Z"
   },
   {
    "duration": 2,
    "start_time": "2022-12-01T18:49:53.173Z"
   },
   {
    "duration": 6,
    "start_time": "2022-12-01T18:49:53.177Z"
   },
   {
    "duration": 11,
    "start_time": "2022-12-01T18:49:53.185Z"
   },
   {
    "duration": 75764,
    "start_time": "2022-12-01T18:49:53.198Z"
   },
   {
    "duration": 75947,
    "start_time": "2022-12-01T18:57:15.724Z"
   },
   {
    "duration": 136259,
    "start_time": "2022-12-01T18:58:39.216Z"
   },
   {
    "duration": 137296,
    "start_time": "2022-12-01T19:02:11.446Z"
   },
   {
    "duration": 42475,
    "start_time": "2022-12-01T19:05:00.508Z"
   },
   {
    "duration": 42000,
    "start_time": "2022-12-01T19:08:38.249Z"
   },
   {
    "duration": 4,
    "start_time": "2022-12-01T19:17:40.699Z"
   },
   {
    "duration": 5,
    "start_time": "2022-12-01T19:20:44.992Z"
   },
   {
    "duration": 171,
    "start_time": "2022-12-01T19:20:48.069Z"
   },
   {
    "duration": 4,
    "start_time": "2022-12-01T19:20:59.074Z"
   },
   {
    "duration": 181,
    "start_time": "2022-12-01T19:21:01.964Z"
   },
   {
    "duration": 5,
    "start_time": "2022-12-01T19:22:07.676Z"
   },
   {
    "duration": 178,
    "start_time": "2022-12-01T19:22:11.060Z"
   },
   {
    "duration": 5,
    "start_time": "2022-12-01T19:22:17.502Z"
   },
   {
    "duration": 183,
    "start_time": "2022-12-01T19:22:19.102Z"
   },
   {
    "duration": 6,
    "start_time": "2022-12-01T19:23:10.269Z"
   },
   {
    "duration": 175,
    "start_time": "2022-12-01T19:23:12.289Z"
   },
   {
    "duration": 7,
    "start_time": "2022-12-01T19:23:36.698Z"
   },
   {
    "duration": 186,
    "start_time": "2022-12-01T19:23:38.492Z"
   },
   {
    "duration": 5,
    "start_time": "2022-12-01T19:23:53.290Z"
   },
   {
    "duration": 180,
    "start_time": "2022-12-01T19:23:54.881Z"
   },
   {
    "duration": 5,
    "start_time": "2022-12-01T19:24:35.650Z"
   },
   {
    "duration": 173,
    "start_time": "2022-12-01T19:24:38.184Z"
   },
   {
    "duration": 5,
    "start_time": "2022-12-01T19:29:22.646Z"
   },
   {
    "duration": 81369,
    "start_time": "2022-12-01T19:29:28.565Z"
   },
   {
    "duration": 5,
    "start_time": "2022-12-01T20:03:15.540Z"
   },
   {
    "duration": 81,
    "start_time": "2022-12-01T20:03:19.991Z"
   },
   {
    "duration": 5,
    "start_time": "2022-12-01T20:03:55.573Z"
   },
   {
    "duration": 187,
    "start_time": "2022-12-01T20:03:57.452Z"
   },
   {
    "duration": 6,
    "start_time": "2022-12-01T20:05:40.971Z"
   },
   {
    "duration": 83850,
    "start_time": "2022-12-01T20:05:44.273Z"
   },
   {
    "duration": 1116,
    "start_time": "2022-12-01T20:08:52.488Z"
   },
   {
    "duration": 1259,
    "start_time": "2022-12-01T20:32:23.581Z"
   },
   {
    "duration": 5,
    "start_time": "2022-12-01T20:33:40.701Z"
   },
   {
    "duration": 83693,
    "start_time": "2022-12-01T20:33:46.743Z"
   },
   {
    "duration": 81,
    "start_time": "2022-12-01T20:35:49.739Z"
   },
   {
    "duration": 1541,
    "start_time": "2022-12-01T20:35:57.834Z"
   },
   {
    "duration": 1547,
    "start_time": "2022-12-01T20:36:20.476Z"
   },
   {
    "duration": 1389,
    "start_time": "2022-12-01T20:40:09.401Z"
   },
   {
    "duration": 1425,
    "start_time": "2022-12-01T20:41:09.627Z"
   },
   {
    "duration": 1407,
    "start_time": "2022-12-01T20:41:47.223Z"
   },
   {
    "duration": 1402,
    "start_time": "2022-12-01T20:41:55.559Z"
   },
   {
    "duration": 1466,
    "start_time": "2022-12-01T20:47:49.712Z"
   },
   {
    "duration": 1024,
    "start_time": "2022-12-02T08:25:20.110Z"
   },
   {
    "duration": 677,
    "start_time": "2022-12-02T08:25:30.426Z"
   },
   {
    "duration": 95,
    "start_time": "2022-12-02T08:25:31.105Z"
   },
   {
    "duration": 28,
    "start_time": "2022-12-02T08:25:31.202Z"
   },
   {
    "duration": 4,
    "start_time": "2022-12-02T08:25:31.233Z"
   },
   {
    "duration": 42,
    "start_time": "2022-12-02T08:25:31.239Z"
   },
   {
    "duration": 40,
    "start_time": "2022-12-02T08:25:31.283Z"
   },
   {
    "duration": 17,
    "start_time": "2022-12-02T08:25:31.325Z"
   },
   {
    "duration": 36,
    "start_time": "2022-12-02T08:25:31.344Z"
   },
   {
    "duration": 20,
    "start_time": "2022-12-02T08:25:31.382Z"
   },
   {
    "duration": 25,
    "start_time": "2022-12-02T08:25:31.405Z"
   },
   {
    "duration": 20,
    "start_time": "2022-12-02T08:25:31.432Z"
   },
   {
    "duration": 24,
    "start_time": "2022-12-02T08:25:31.454Z"
   },
   {
    "duration": 21,
    "start_time": "2022-12-02T08:25:31.480Z"
   },
   {
    "duration": 39,
    "start_time": "2022-12-02T08:25:31.502Z"
   },
   {
    "duration": 154,
    "start_time": "2022-12-02T08:25:31.543Z"
   },
   {
    "duration": 166,
    "start_time": "2022-12-02T08:25:31.698Z"
   },
   {
    "duration": 7,
    "start_time": "2022-12-02T08:25:31.866Z"
   },
   {
    "duration": 8,
    "start_time": "2022-12-02T08:25:31.874Z"
   },
   {
    "duration": 5,
    "start_time": "2022-12-02T08:25:31.883Z"
   },
   {
    "duration": 212,
    "start_time": "2022-12-02T08:25:31.890Z"
   },
   {
    "duration": 212,
    "start_time": "2022-12-02T08:25:32.104Z"
   },
   {
    "duration": 4,
    "start_time": "2022-12-02T08:25:32.318Z"
   },
   {
    "duration": 17,
    "start_time": "2022-12-02T08:25:32.324Z"
   },
   {
    "duration": 322,
    "start_time": "2022-12-02T08:25:32.343Z"
   },
   {
    "duration": 4,
    "start_time": "2022-12-02T08:25:32.667Z"
   },
   {
    "duration": 16,
    "start_time": "2022-12-02T08:25:32.673Z"
   },
   {
    "duration": 127,
    "start_time": "2022-12-02T08:25:32.690Z"
   },
   {
    "duration": 3,
    "start_time": "2022-12-02T08:25:32.820Z"
   },
   {
    "duration": 1663,
    "start_time": "2022-12-02T08:25:32.824Z"
   },
   {
    "duration": 1742,
    "start_time": "2022-12-02T08:25:48.111Z"
   },
   {
    "duration": 1694,
    "start_time": "2022-12-02T08:27:28.673Z"
   },
   {
    "duration": 1605,
    "start_time": "2022-12-02T08:33:11.596Z"
   },
   {
    "duration": 6,
    "start_time": "2022-12-02T08:33:32.390Z"
   },
   {
    "duration": 1417,
    "start_time": "2022-12-02T08:33:36.966Z"
   },
   {
    "duration": 1608,
    "start_time": "2022-12-02T08:48:29.147Z"
   },
   {
    "duration": 1645,
    "start_time": "2022-12-02T09:02:00.058Z"
   },
   {
    "duration": 1589,
    "start_time": "2022-12-02T09:02:21.386Z"
   },
   {
    "duration": 1513,
    "start_time": "2022-12-02T09:03:20.088Z"
   },
   {
    "duration": 3,
    "start_time": "2022-12-02T09:03:51.227Z"
   },
   {
    "duration": 4,
    "start_time": "2022-12-02T09:12:23.591Z"
   },
   {
    "duration": 2,
    "start_time": "2022-12-02T09:12:25.576Z"
   },
   {
    "duration": 3,
    "start_time": "2022-12-02T09:15:18.252Z"
   },
   {
    "duration": 114299,
    "start_time": "2022-12-02T09:34:47.042Z"
   },
   {
    "duration": 113583,
    "start_time": "2022-12-02T09:40:31.113Z"
   },
   {
    "duration": 113214,
    "start_time": "2022-12-02T10:00:58.622Z"
   },
   {
    "duration": 1563,
    "start_time": "2022-12-02T10:32:49.971Z"
   },
   {
    "duration": 5,
    "start_time": "2022-12-02T12:18:55.431Z"
   },
   {
    "duration": 5,
    "start_time": "2022-12-02T12:54:20.326Z"
   },
   {
    "duration": 242,
    "start_time": "2022-12-02T12:54:48.973Z"
   },
   {
    "duration": 290,
    "start_time": "2022-12-02T12:55:34.324Z"
   },
   {
    "duration": 379,
    "start_time": "2022-12-02T12:56:45.835Z"
   },
   {
    "duration": 225,
    "start_time": "2022-12-02T12:56:49.988Z"
   },
   {
    "duration": 102,
    "start_time": "2022-12-02T12:56:52.919Z"
   },
   {
    "duration": 41,
    "start_time": "2022-12-02T12:56:54.780Z"
   },
   {
    "duration": 378,
    "start_time": "2022-12-02T13:28:26.909Z"
   },
   {
    "duration": 447,
    "start_time": "2022-12-02T13:28:59.619Z"
   },
   {
    "duration": 361,
    "start_time": "2022-12-02T13:29:09.133Z"
   },
   {
    "duration": 440,
    "start_time": "2022-12-02T13:32:17.642Z"
   },
   {
    "duration": 391,
    "start_time": "2022-12-02T13:32:25.764Z"
   },
   {
    "duration": 315,
    "start_time": "2022-12-02T13:32:42.267Z"
   },
   {
    "duration": 2298,
    "start_time": "2022-12-02T13:33:13.724Z"
   },
   {
    "duration": 956,
    "start_time": "2022-12-02T13:33:22.925Z"
   },
   {
    "duration": 1494,
    "start_time": "2022-12-02T13:33:30.216Z"
   },
   {
    "duration": 2712,
    "start_time": "2022-12-02T13:33:39.064Z"
   },
   {
    "duration": 1454,
    "start_time": "2022-12-02T13:33:46.946Z"
   },
   {
    "duration": 134273,
    "start_time": "2022-12-02T13:37:40.471Z"
   },
   {
    "duration": 112535,
    "start_time": "2022-12-02T13:45:43.302Z"
   },
   {
    "duration": 394,
    "start_time": "2022-12-02T13:55:15.065Z"
   },
   {
    "duration": 353,
    "start_time": "2022-12-02T13:55:45.192Z"
   },
   {
    "duration": 364,
    "start_time": "2022-12-02T13:56:56.983Z"
   },
   {
    "duration": 5,
    "start_time": "2022-12-02T14:03:09.474Z"
   },
   {
    "duration": 176,
    "start_time": "2022-12-02T14:03:12.939Z"
   },
   {
    "duration": 1402,
    "start_time": "2022-12-02T14:12:03.393Z"
   },
   {
    "duration": 4,
    "start_time": "2022-12-02T14:12:04.797Z"
   },
   {
    "duration": 55,
    "start_time": "2022-12-02T14:12:04.803Z"
   },
   {
    "duration": 29,
    "start_time": "2022-12-02T14:12:04.860Z"
   },
   {
    "duration": 4,
    "start_time": "2022-12-02T14:12:04.891Z"
   },
   {
    "duration": 21,
    "start_time": "2022-12-02T14:12:04.896Z"
   },
   {
    "duration": 15,
    "start_time": "2022-12-02T14:12:04.919Z"
   },
   {
    "duration": 9,
    "start_time": "2022-12-02T14:12:04.936Z"
   },
   {
    "duration": 12,
    "start_time": "2022-12-02T14:12:04.948Z"
   },
   {
    "duration": 11,
    "start_time": "2022-12-02T14:12:04.962Z"
   },
   {
    "duration": 50,
    "start_time": "2022-12-02T14:12:04.975Z"
   },
   {
    "duration": 6,
    "start_time": "2022-12-02T14:12:05.026Z"
   },
   {
    "duration": 8,
    "start_time": "2022-12-02T14:12:05.033Z"
   },
   {
    "duration": 6,
    "start_time": "2022-12-02T14:12:05.042Z"
   },
   {
    "duration": 27,
    "start_time": "2022-12-02T14:12:05.049Z"
   },
   {
    "duration": 184,
    "start_time": "2022-12-02T14:12:05.078Z"
   },
   {
    "duration": 161,
    "start_time": "2022-12-02T14:12:05.263Z"
   },
   {
    "duration": 6,
    "start_time": "2022-12-02T14:12:05.426Z"
   },
   {
    "duration": 7,
    "start_time": "2022-12-02T14:12:05.434Z"
   },
   {
    "duration": 5,
    "start_time": "2022-12-02T14:12:05.443Z"
   },
   {
    "duration": 216,
    "start_time": "2022-12-02T14:12:05.449Z"
   },
   {
    "duration": 219,
    "start_time": "2022-12-02T14:12:05.667Z"
   },
   {
    "duration": 6,
    "start_time": "2022-12-02T14:12:05.887Z"
   },
   {
    "duration": 24,
    "start_time": "2022-12-02T14:12:05.895Z"
   },
   {
    "duration": 324,
    "start_time": "2022-12-02T14:12:05.920Z"
   },
   {
    "duration": 4,
    "start_time": "2022-12-02T14:12:06.247Z"
   },
   {
    "duration": 14,
    "start_time": "2022-12-02T14:12:06.252Z"
   },
   {
    "duration": 141,
    "start_time": "2022-12-02T14:12:06.269Z"
   },
   {
    "duration": 1508,
    "start_time": "2022-12-02T14:12:06.412Z"
   },
   {
    "duration": 6,
    "start_time": "2022-12-02T14:12:07.922Z"
   },
   {
    "duration": 90608,
    "start_time": "2022-12-02T14:12:07.930Z"
   },
   {
    "duration": 91309,
    "start_time": "2022-12-02T14:13:38.540Z"
   },
   {
    "duration": 159783,
    "start_time": "2022-12-02T14:15:09.851Z"
   },
   {
    "duration": 156709,
    "start_time": "2022-12-02T14:17:49.636Z"
   },
   {
    "duration": 53178,
    "start_time": "2022-12-02T14:20:26.346Z"
   },
   {
    "duration": 52116,
    "start_time": "2022-12-02T14:21:19.526Z"
   },
   {
    "duration": 111538,
    "start_time": "2022-12-02T14:22:11.644Z"
   },
   {
    "duration": 5,
    "start_time": "2022-12-02T14:24:03.183Z"
   },
   {
    "duration": 224,
    "start_time": "2022-12-02T14:24:03.189Z"
   },
   {
    "duration": 400,
    "start_time": "2022-12-02T14:24:03.415Z"
   },
   {
    "duration": 602,
    "start_time": "2022-12-02T14:24:03.817Z"
   },
   {
    "duration": 598,
    "start_time": "2022-12-02T14:24:04.420Z"
   },
   {
    "duration": 296,
    "start_time": "2022-12-02T14:24:05.020Z"
   },
   {
    "duration": 203,
    "start_time": "2022-12-02T14:24:05.318Z"
   },
   {
    "duration": 534,
    "start_time": "2022-12-02T14:24:05.616Z"
   },
   {
    "duration": 14,
    "start_time": "2022-12-02T16:44:21.560Z"
   },
   {
    "duration": 44,
    "start_time": "2022-12-02T16:44:23.703Z"
   },
   {
    "duration": 1490,
    "start_time": "2022-12-02T16:45:13.450Z"
   },
   {
    "duration": 5,
    "start_time": "2022-12-02T16:45:14.945Z"
   },
   {
    "duration": 92,
    "start_time": "2022-12-02T16:45:14.952Z"
   },
   {
    "duration": 24,
    "start_time": "2022-12-02T16:45:15.046Z"
   },
   {
    "duration": 3,
    "start_time": "2022-12-02T16:45:15.072Z"
   },
   {
    "duration": 21,
    "start_time": "2022-12-02T16:45:15.078Z"
   },
   {
    "duration": 16,
    "start_time": "2022-12-02T16:45:15.101Z"
   },
   {
    "duration": 19,
    "start_time": "2022-12-02T16:45:15.119Z"
   },
   {
    "duration": 10,
    "start_time": "2022-12-02T16:45:15.140Z"
   },
   {
    "duration": 20,
    "start_time": "2022-12-02T16:45:15.153Z"
   },
   {
    "duration": 18,
    "start_time": "2022-12-02T16:45:15.175Z"
   },
   {
    "duration": 6,
    "start_time": "2022-12-02T16:45:15.194Z"
   },
   {
    "duration": 8,
    "start_time": "2022-12-02T16:45:15.201Z"
   },
   {
    "duration": 27,
    "start_time": "2022-12-02T16:45:15.210Z"
   },
   {
    "duration": 24,
    "start_time": "2022-12-02T16:45:15.239Z"
   },
   {
    "duration": 145,
    "start_time": "2022-12-02T16:45:15.265Z"
   },
   {
    "duration": 154,
    "start_time": "2022-12-02T16:45:15.412Z"
   },
   {
    "duration": 7,
    "start_time": "2022-12-02T16:45:15.567Z"
   },
   {
    "duration": 9,
    "start_time": "2022-12-02T16:45:15.576Z"
   },
   {
    "duration": 7,
    "start_time": "2022-12-02T16:45:15.587Z"
   },
   {
    "duration": 200,
    "start_time": "2022-12-02T16:45:15.596Z"
   },
   {
    "duration": 6,
    "start_time": "2022-12-02T16:45:15.797Z"
   },
   {
    "duration": 156,
    "start_time": "2022-12-02T16:45:15.805Z"
   },
   {
    "duration": 6,
    "start_time": "2022-12-02T16:46:51.556Z"
   },
   {
    "duration": 142,
    "start_time": "2022-12-02T16:46:53.407Z"
   },
   {
    "duration": 1724,
    "start_time": "2022-12-02T16:49:37.499Z"
   },
   {
    "duration": 6,
    "start_time": "2022-12-02T16:50:30.293Z"
   },
   {
    "duration": 174,
    "start_time": "2022-12-02T16:50:32.511Z"
   },
   {
    "duration": 6,
    "start_time": "2022-12-02T16:50:50.808Z"
   },
   {
    "duration": 255,
    "start_time": "2022-12-02T16:50:53.105Z"
   },
   {
    "duration": 81,
    "start_time": "2022-12-02T16:52:58.269Z"
   },
   {
    "duration": 6,
    "start_time": "2022-12-02T16:52:59.768Z"
   },
   {
    "duration": 162,
    "start_time": "2022-12-02T16:53:01.276Z"
   },
   {
    "duration": 18,
    "start_time": "2022-12-02T16:53:06.380Z"
   },
   {
    "duration": 146,
    "start_time": "2022-12-02T16:53:11.580Z"
   },
   {
    "duration": 231,
    "start_time": "2022-12-02T16:53:19.992Z"
   },
   {
    "duration": 152,
    "start_time": "2022-12-02T16:53:49.397Z"
   },
   {
    "duration": 6,
    "start_time": "2022-12-02T16:53:51.692Z"
   },
   {
    "duration": 145,
    "start_time": "2022-12-02T16:53:53.079Z"
   },
   {
    "duration": 148,
    "start_time": "2022-12-02T16:53:56.547Z"
   },
   {
    "duration": 224,
    "start_time": "2022-12-02T16:54:01.171Z"
   },
   {
    "duration": 8,
    "start_time": "2022-12-02T17:00:23.981Z"
   },
   {
    "duration": 203,
    "start_time": "2022-12-02T17:00:25.366Z"
   },
   {
    "duration": 31,
    "start_time": "2022-12-02T17:00:32.395Z"
   },
   {
    "duration": 219,
    "start_time": "2022-12-02T17:00:40.451Z"
   },
   {
    "duration": 159,
    "start_time": "2022-12-02T17:00:45.904Z"
   },
   {
    "duration": 29,
    "start_time": "2022-12-02T17:00:58.780Z"
   },
   {
    "duration": 221,
    "start_time": "2022-12-02T17:01:06.731Z"
   },
   {
    "duration": 284,
    "start_time": "2022-12-02T17:13:52.406Z"
   },
   {
    "duration": 214,
    "start_time": "2022-12-02T17:16:36.509Z"
   },
   {
    "duration": 224,
    "start_time": "2022-12-02T17:16:39.913Z"
   },
   {
    "duration": 188,
    "start_time": "2022-12-02T17:16:44.946Z"
   },
   {
    "duration": 199,
    "start_time": "2022-12-02T17:16:54.269Z"
   },
   {
    "duration": 200,
    "start_time": "2022-12-02T17:18:29.655Z"
   },
   {
    "duration": 6,
    "start_time": "2022-12-02T17:18:43.897Z"
   },
   {
    "duration": 213,
    "start_time": "2022-12-02T17:18:46.547Z"
   },
   {
    "duration": 248,
    "start_time": "2022-12-02T17:45:18.076Z"
   },
   {
    "duration": 13,
    "start_time": "2022-12-02T17:45:45.182Z"
   },
   {
    "duration": 5,
    "start_time": "2022-12-02T17:45:49.566Z"
   },
   {
    "duration": 24,
    "start_time": "2022-12-02T17:45:51.231Z"
   },
   {
    "duration": 332,
    "start_time": "2022-12-02T17:45:53.136Z"
   },
   {
    "duration": 1625,
    "start_time": "2022-12-02T17:49:59.612Z"
   },
   {
    "duration": 221,
    "start_time": "2022-12-02T17:50:05.431Z"
   },
   {
    "duration": 1709,
    "start_time": "2022-12-02T17:52:34.128Z"
   },
   {
    "duration": 1518,
    "start_time": "2022-12-02T17:53:04.344Z"
   },
   {
    "duration": 6,
    "start_time": "2022-12-02T17:54:48.428Z"
   },
   {
    "duration": 226,
    "start_time": "2022-12-02T17:54:52.557Z"
   },
   {
    "duration": 5,
    "start_time": "2022-12-02T17:56:05.547Z"
   },
   {
    "duration": 170,
    "start_time": "2022-12-02T17:56:13.823Z"
   },
   {
    "duration": 181,
    "start_time": "2022-12-02T17:56:30.897Z"
   },
   {
    "duration": 230,
    "start_time": "2022-12-02T18:05:29.101Z"
   },
   {
    "duration": 4,
    "start_time": "2022-12-02T18:06:05.139Z"
   },
   {
    "duration": 12,
    "start_time": "2022-12-02T18:06:06.506Z"
   },
   {
    "duration": 281,
    "start_time": "2022-12-02T18:06:10.139Z"
   },
   {
    "duration": 9,
    "start_time": "2022-12-02T18:06:23.621Z"
   },
   {
    "duration": 4,
    "start_time": "2022-12-02T18:06:25.717Z"
   },
   {
    "duration": 9,
    "start_time": "2022-12-02T18:06:26.849Z"
   },
   {
    "duration": 103,
    "start_time": "2022-12-02T18:06:28.135Z"
   },
   {
    "duration": 352,
    "start_time": "2022-12-02T18:06:39.754Z"
   },
   {
    "duration": 102,
    "start_time": "2022-12-02T18:06:42.198Z"
   },
   {
    "duration": 709,
    "start_time": "2022-12-02T18:08:31.613Z"
   },
   {
    "duration": 850,
    "start_time": "2022-12-02T18:08:49.064Z"
   },
   {
    "duration": 762,
    "start_time": "2022-12-02T18:09:59.994Z"
   },
   {
    "duration": 771,
    "start_time": "2022-12-02T18:10:11.268Z"
   },
   {
    "duration": 786,
    "start_time": "2022-12-02T18:10:14.934Z"
   },
   {
    "duration": 910,
    "start_time": "2022-12-02T18:11:30.261Z"
   },
   {
    "duration": 704,
    "start_time": "2022-12-02T18:11:33.458Z"
   },
   {
    "duration": 1313,
    "start_time": "2022-12-02T18:11:47.717Z"
   },
   {
    "duration": 1428,
    "start_time": "2022-12-02T18:12:22.576Z"
   },
   {
    "duration": 1524,
    "start_time": "2022-12-02T18:12:35.193Z"
   },
   {
    "duration": 810,
    "start_time": "2022-12-02T18:12:49.692Z"
   },
   {
    "duration": 5,
    "start_time": "2022-12-02T18:13:43.117Z"
   },
   {
    "duration": 5,
    "start_time": "2022-12-02T18:15:11.883Z"
   },
   {
    "duration": 22,
    "start_time": "2022-12-02T18:15:24.005Z"
   },
   {
    "duration": 4,
    "start_time": "2022-12-02T18:16:24.230Z"
   },
   {
    "duration": 6,
    "start_time": "2022-12-02T18:16:32.920Z"
   },
   {
    "duration": 21,
    "start_time": "2022-12-02T18:16:40.118Z"
   },
   {
    "duration": 6,
    "start_time": "2022-12-02T18:17:09.318Z"
   },
   {
    "duration": 5,
    "start_time": "2022-12-02T18:17:13.872Z"
   },
   {
    "duration": 1646,
    "start_time": "2022-12-02T18:17:22.591Z"
   },
   {
    "duration": 1076,
    "start_time": "2022-12-02T18:18:27.969Z"
   },
   {
    "duration": 1800,
    "start_time": "2022-12-02T18:18:45.005Z"
   },
   {
    "duration": 1639,
    "start_time": "2022-12-02T18:18:54.403Z"
   },
   {
    "duration": 1739,
    "start_time": "2022-12-02T18:19:09.998Z"
   },
   {
    "duration": 1107,
    "start_time": "2022-12-02T18:19:18.444Z"
   },
   {
    "duration": 1716,
    "start_time": "2022-12-02T18:19:46.199Z"
   },
   {
    "duration": 6,
    "start_time": "2022-12-02T18:21:39.277Z"
   },
   {
    "duration": 1691,
    "start_time": "2022-12-02T18:21:46.759Z"
   },
   {
    "duration": 773,
    "start_time": "2022-12-02T18:22:23.876Z"
   },
   {
    "duration": 1601,
    "start_time": "2022-12-02T18:22:31.550Z"
   },
   {
    "duration": 5,
    "start_time": "2022-12-02T18:22:59.143Z"
   },
   {
    "duration": 6,
    "start_time": "2022-12-02T18:23:06.141Z"
   },
   {
    "duration": 1427,
    "start_time": "2022-12-02T18:23:16.095Z"
   },
   {
    "duration": 1346,
    "start_time": "2022-12-02T18:23:23.348Z"
   },
   {
    "duration": 1516,
    "start_time": "2022-12-02T18:23:39.103Z"
   },
   {
    "duration": 1353,
    "start_time": "2022-12-02T18:23:46.001Z"
   },
   {
    "duration": 1310,
    "start_time": "2022-12-02T18:23:54.462Z"
   },
   {
    "duration": 1454,
    "start_time": "2022-12-02T18:24:29.931Z"
   },
   {
    "duration": 1291,
    "start_time": "2022-12-02T18:24:33.308Z"
   },
   {
    "duration": 6,
    "start_time": "2022-12-02T18:28:31.077Z"
   },
   {
    "duration": 80638,
    "start_time": "2022-12-02T18:28:52.099Z"
   },
   {
    "duration": 3,
    "start_time": "2022-12-02T18:34:20.275Z"
   },
   {
    "duration": 3,
    "start_time": "2022-12-02T18:34:27.781Z"
   },
   {
    "duration": 6,
    "start_time": "2022-12-02T18:34:34.045Z"
   },
   {
    "duration": 9,
    "start_time": "2022-12-02T18:35:15.935Z"
   },
   {
    "duration": 6,
    "start_time": "2022-12-02T18:35:27.309Z"
   },
   {
    "duration": 81590,
    "start_time": "2022-12-02T18:35:32.766Z"
   },
   {
    "duration": 145960,
    "start_time": "2022-12-02T18:37:08.700Z"
   },
   {
    "duration": 44932,
    "start_time": "2022-12-02T18:41:45.592Z"
   },
   {
    "duration": 144286,
    "start_time": "2022-12-02T18:43:47.395Z"
   },
   {
    "duration": 45575,
    "start_time": "2022-12-02T18:46:11.683Z"
   },
   {
    "duration": 132152,
    "start_time": "2022-12-02T19:10:19.244Z"
   },
   {
    "duration": 129734,
    "start_time": "2022-12-02T19:12:31.398Z"
   },
   {
    "duration": 194213,
    "start_time": "2022-12-02T19:14:41.135Z"
   },
   {
    "duration": 94364,
    "start_time": "2022-12-02T19:17:55.350Z"
   },
   {
    "duration": 4,
    "start_time": "2022-12-02T20:32:09.821Z"
   },
   {
    "duration": 267,
    "start_time": "2022-12-02T20:32:11.273Z"
   },
   {
    "duration": 202,
    "start_time": "2022-12-02T20:32:46.335Z"
   },
   {
    "duration": 507,
    "start_time": "2022-12-02T20:33:38.330Z"
   },
   {
    "duration": 26,
    "start_time": "2022-12-02T20:33:52.822Z"
   },
   {
    "duration": 362,
    "start_time": "2022-12-02T20:34:19.682Z"
   },
   {
    "duration": 53,
    "start_time": "2022-12-02T20:34:31.994Z"
   },
   {
    "duration": 346,
    "start_time": "2022-12-02T20:35:14.808Z"
   },
   {
    "duration": 557,
    "start_time": "2022-12-02T20:35:20.630Z"
   },
   {
    "duration": 534,
    "start_time": "2022-12-02T20:36:42.290Z"
   },
   {
    "duration": 7,
    "start_time": "2022-12-02T20:37:32.756Z"
   },
   {
    "duration": 291,
    "start_time": "2022-12-02T20:37:35.846Z"
   },
   {
    "duration": 119,
    "start_time": "2022-12-02T20:37:52.118Z"
   },
   {
    "duration": 622,
    "start_time": "2022-12-02T20:38:16.221Z"
   },
   {
    "duration": 606,
    "start_time": "2022-12-02T20:38:23.182Z"
   },
   {
    "duration": 583,
    "start_time": "2022-12-02T20:38:46.615Z"
   },
   {
    "duration": 1843,
    "start_time": "2022-12-02T20:39:02.582Z"
   },
   {
    "duration": 485,
    "start_time": "2022-12-02T20:39:11.280Z"
   },
   {
    "duration": 3,
    "start_time": "2022-12-02T20:41:59.262Z"
   },
   {
    "duration": 98607,
    "start_time": "2022-12-02T21:47:00.402Z"
   },
   {
    "duration": 1431,
    "start_time": "2022-12-02T23:06:00.486Z"
   },
   {
    "duration": 3,
    "start_time": "2022-12-02T23:06:01.919Z"
   },
   {
    "duration": 73,
    "start_time": "2022-12-02T23:06:01.923Z"
   },
   {
    "duration": 28,
    "start_time": "2022-12-02T23:06:01.998Z"
   },
   {
    "duration": 32,
    "start_time": "2022-12-02T23:06:02.028Z"
   },
   {
    "duration": 41,
    "start_time": "2022-12-02T23:06:02.063Z"
   },
   {
    "duration": 21,
    "start_time": "2022-12-02T23:06:02.105Z"
   },
   {
    "duration": 23,
    "start_time": "2022-12-02T23:06:02.128Z"
   },
   {
    "duration": 39,
    "start_time": "2022-12-02T23:06:02.152Z"
   },
   {
    "duration": 18,
    "start_time": "2022-12-02T23:06:02.193Z"
   },
   {
    "duration": 29,
    "start_time": "2022-12-02T23:06:02.212Z"
   },
   {
    "duration": 14,
    "start_time": "2022-12-02T23:06:02.247Z"
   },
   {
    "duration": 31,
    "start_time": "2022-12-02T23:06:02.263Z"
   },
   {
    "duration": 6,
    "start_time": "2022-12-02T23:06:02.296Z"
   },
   {
    "duration": 24,
    "start_time": "2022-12-02T23:06:02.304Z"
   },
   {
    "duration": 162,
    "start_time": "2022-12-02T23:06:02.330Z"
   },
   {
    "duration": 226,
    "start_time": "2022-12-02T23:06:02.494Z"
   },
   {
    "duration": 25,
    "start_time": "2022-12-02T23:06:02.722Z"
   },
   {
    "duration": 13,
    "start_time": "2022-12-02T23:06:02.750Z"
   },
   {
    "duration": 18,
    "start_time": "2022-12-02T23:06:02.764Z"
   },
   {
    "duration": 196,
    "start_time": "2022-12-02T23:06:02.784Z"
   },
   {
    "duration": 202,
    "start_time": "2022-12-02T23:06:02.982Z"
   },
   {
    "duration": 4,
    "start_time": "2022-12-02T23:06:03.186Z"
   },
   {
    "duration": 57,
    "start_time": "2022-12-02T23:06:03.192Z"
   },
   {
    "duration": 334,
    "start_time": "2022-12-02T23:06:03.250Z"
   },
   {
    "duration": 4,
    "start_time": "2022-12-02T23:06:03.585Z"
   },
   {
    "duration": 30,
    "start_time": "2022-12-02T23:06:03.591Z"
   },
   {
    "duration": 105,
    "start_time": "2022-12-02T23:06:03.625Z"
   },
   {
    "duration": 329,
    "start_time": "2022-12-02T23:06:03.732Z"
   },
   {
    "duration": 121,
    "start_time": "2022-12-02T23:06:04.062Z"
   },
   {
    "duration": 1390,
    "start_time": "2022-12-02T23:06:04.185Z"
   },
   {
    "duration": 1445,
    "start_time": "2022-12-02T23:06:05.577Z"
   },
   {
    "duration": 1558,
    "start_time": "2022-12-02T23:06:07.023Z"
   },
   {
    "duration": 1316,
    "start_time": "2022-12-02T23:06:08.582Z"
   },
   {
    "duration": 6,
    "start_time": "2022-12-02T23:06:09.899Z"
   },
   {
    "duration": 152,
    "start_time": "2022-12-02T23:06:09.906Z"
   },
   {
    "duration": 0,
    "start_time": "2022-12-02T23:06:10.060Z"
   },
   {
    "duration": 0,
    "start_time": "2022-12-02T23:06:10.061Z"
   },
   {
    "duration": 0,
    "start_time": "2022-12-02T23:06:10.062Z"
   },
   {
    "duration": 0,
    "start_time": "2022-12-02T23:06:10.063Z"
   },
   {
    "duration": 0,
    "start_time": "2022-12-02T23:06:10.064Z"
   },
   {
    "duration": 0,
    "start_time": "2022-12-02T23:06:10.066Z"
   },
   {
    "duration": 0,
    "start_time": "2022-12-02T23:06:10.066Z"
   },
   {
    "duration": 0,
    "start_time": "2022-12-02T23:06:10.068Z"
   },
   {
    "duration": 0,
    "start_time": "2022-12-02T23:06:10.068Z"
   },
   {
    "duration": 0,
    "start_time": "2022-12-02T23:06:10.069Z"
   },
   {
    "duration": 0,
    "start_time": "2022-12-02T23:06:10.070Z"
   },
   {
    "duration": 0,
    "start_time": "2022-12-02T23:06:10.072Z"
   },
   {
    "duration": 0,
    "start_time": "2022-12-02T23:06:10.073Z"
   },
   {
    "duration": 0,
    "start_time": "2022-12-02T23:06:10.074Z"
   },
   {
    "duration": 0,
    "start_time": "2022-12-02T23:06:10.075Z"
   },
   {
    "duration": 0,
    "start_time": "2022-12-02T23:06:10.076Z"
   },
   {
    "duration": 0,
    "start_time": "2022-12-02T23:06:10.077Z"
   },
   {
    "duration": 0,
    "start_time": "2022-12-02T23:06:10.078Z"
   },
   {
    "duration": 0,
    "start_time": "2022-12-02T23:06:10.079Z"
   },
   {
    "duration": 0,
    "start_time": "2022-12-02T23:06:10.080Z"
   },
   {
    "duration": 0,
    "start_time": "2022-12-02T23:06:10.081Z"
   },
   {
    "duration": 1416,
    "start_time": "2022-12-02T23:31:18.883Z"
   },
   {
    "duration": 3,
    "start_time": "2022-12-02T23:31:20.302Z"
   },
   {
    "duration": 46,
    "start_time": "2022-12-02T23:31:20.306Z"
   },
   {
    "duration": 26,
    "start_time": "2022-12-02T23:31:20.354Z"
   },
   {
    "duration": 14,
    "start_time": "2022-12-02T23:31:20.382Z"
   },
   {
    "duration": 23,
    "start_time": "2022-12-02T23:31:20.398Z"
   },
   {
    "duration": 16,
    "start_time": "2022-12-02T23:31:20.423Z"
   },
   {
    "duration": 9,
    "start_time": "2022-12-02T23:31:20.441Z"
   },
   {
    "duration": 24,
    "start_time": "2022-12-02T23:31:20.451Z"
   },
   {
    "duration": 13,
    "start_time": "2022-12-02T23:31:20.479Z"
   },
   {
    "duration": 17,
    "start_time": "2022-12-02T23:31:20.493Z"
   },
   {
    "duration": 47,
    "start_time": "2022-12-02T23:31:20.512Z"
   },
   {
    "duration": 20,
    "start_time": "2022-12-02T23:31:20.561Z"
   },
   {
    "duration": 33,
    "start_time": "2022-12-02T23:31:20.583Z"
   },
   {
    "duration": 50,
    "start_time": "2022-12-02T23:31:20.618Z"
   },
   {
    "duration": 141,
    "start_time": "2022-12-02T23:31:20.670Z"
   },
   {
    "duration": 164,
    "start_time": "2022-12-02T23:31:20.813Z"
   },
   {
    "duration": 8,
    "start_time": "2022-12-02T23:31:20.978Z"
   },
   {
    "duration": 21,
    "start_time": "2022-12-02T23:31:20.987Z"
   },
   {
    "duration": 6,
    "start_time": "2022-12-02T23:31:21.009Z"
   },
   {
    "duration": 198,
    "start_time": "2022-12-02T23:31:21.017Z"
   },
   {
    "duration": 205,
    "start_time": "2022-12-02T23:31:21.216Z"
   },
   {
    "duration": 12,
    "start_time": "2022-12-02T23:31:21.423Z"
   },
   {
    "duration": 22,
    "start_time": "2022-12-02T23:31:21.438Z"
   },
   {
    "duration": 326,
    "start_time": "2022-12-02T23:31:21.462Z"
   },
   {
    "duration": 5,
    "start_time": "2022-12-02T23:31:21.790Z"
   },
   {
    "duration": 21,
    "start_time": "2022-12-02T23:31:21.797Z"
   },
   {
    "duration": 113,
    "start_time": "2022-12-02T23:31:21.824Z"
   },
   {
    "duration": 345,
    "start_time": "2022-12-02T23:31:21.939Z"
   },
   {
    "duration": 108,
    "start_time": "2022-12-02T23:31:22.286Z"
   },
   {
    "duration": 1432,
    "start_time": "2022-12-02T23:31:22.396Z"
   },
   {
    "duration": 1394,
    "start_time": "2022-12-02T23:31:23.834Z"
   },
   {
    "duration": 1526,
    "start_time": "2022-12-02T23:31:25.229Z"
   },
   {
    "duration": 1390,
    "start_time": "2022-12-02T23:31:26.757Z"
   },
   {
    "duration": 6,
    "start_time": "2022-12-02T23:31:28.149Z"
   },
   {
    "duration": 80041,
    "start_time": "2022-12-02T23:31:28.158Z"
   },
   {
    "duration": 81437,
    "start_time": "2022-12-02T23:32:48.201Z"
   },
   {
    "duration": 148177,
    "start_time": "2022-12-02T23:34:09.640Z"
   },
   {
    "duration": 44588,
    "start_time": "2022-12-02T23:36:37.819Z"
   },
   {
    "duration": 148716,
    "start_time": "2022-12-02T23:37:22.410Z"
   },
   {
    "duration": 44897,
    "start_time": "2022-12-02T23:39:51.128Z"
   },
   {
    "duration": 107082,
    "start_time": "2022-12-02T23:40:36.035Z"
   },
   {
    "duration": 107477,
    "start_time": "2022-12-02T23:42:23.119Z"
   },
   {
    "duration": 180812,
    "start_time": "2022-12-02T23:44:10.598Z"
   },
   {
    "duration": 73238,
    "start_time": "2022-12-02T23:47:11.411Z"
   },
   {
    "duration": 5,
    "start_time": "2022-12-02T23:48:24.651Z"
   },
   {
    "duration": 188,
    "start_time": "2022-12-02T23:48:24.658Z"
   },
   {
    "duration": 403,
    "start_time": "2022-12-02T23:48:24.848Z"
   },
   {
    "duration": 683,
    "start_time": "2022-12-02T23:48:25.254Z"
   },
   {
    "duration": 220,
    "start_time": "2022-12-02T23:48:25.939Z"
   },
   {
    "duration": 522,
    "start_time": "2022-12-02T23:48:26.241Z"
   },
   {
    "duration": 501,
    "start_time": "2022-12-02T23:48:26.839Z"
   },
   {
    "duration": 727,
    "start_time": "2022-12-02T23:48:27.342Z"
   },
   {
    "duration": 492,
    "start_time": "2022-12-02T23:48:28.072Z"
   },
   {
    "duration": 601,
    "start_time": "2022-12-02T23:48:28.566Z"
   },
   {
    "duration": 403,
    "start_time": "2022-12-02T23:48:29.169Z"
   },
   {
    "duration": 74143,
    "start_time": "2022-12-02T23:48:29.574Z"
   },
   {
    "duration": 52,
    "start_time": "2022-12-05T11:11:56.058Z"
   },
   {
    "duration": 1750,
    "start_time": "2022-12-05T11:12:06.951Z"
   },
   {
    "duration": 4,
    "start_time": "2022-12-05T11:12:08.703Z"
   },
   {
    "duration": 109,
    "start_time": "2022-12-05T11:12:08.709Z"
   },
   {
    "duration": 28,
    "start_time": "2022-12-05T11:12:08.820Z"
   },
   {
    "duration": 4,
    "start_time": "2022-12-05T11:12:08.850Z"
   },
   {
    "duration": 22,
    "start_time": "2022-12-05T11:12:08.856Z"
   },
   {
    "duration": 31,
    "start_time": "2022-12-05T11:12:08.881Z"
   },
   {
    "duration": 19,
    "start_time": "2022-12-05T11:12:08.914Z"
   },
   {
    "duration": 99,
    "start_time": "2022-12-05T11:12:29.497Z"
   },
   {
    "duration": 10,
    "start_time": "2022-12-05T11:12:42.383Z"
   },
   {
    "duration": 18,
    "start_time": "2022-12-05T11:12:48.116Z"
   },
   {
    "duration": 10,
    "start_time": "2022-12-05T11:17:29.937Z"
   },
   {
    "duration": 14,
    "start_time": "2022-12-05T11:17:33.883Z"
   },
   {
    "duration": 11,
    "start_time": "2022-12-05T11:18:30.294Z"
   },
   {
    "duration": 8,
    "start_time": "2022-12-05T11:18:34.217Z"
   },
   {
    "duration": 7,
    "start_time": "2022-12-05T11:18:49.185Z"
   },
   {
    "duration": 5,
    "start_time": "2022-12-05T11:19:01.328Z"
   },
   {
    "duration": 7,
    "start_time": "2022-12-05T11:19:05.787Z"
   },
   {
    "duration": 10,
    "start_time": "2022-12-05T11:19:26.359Z"
   },
   {
    "duration": 7,
    "start_time": "2022-12-05T11:19:51.508Z"
   },
   {
    "duration": 9,
    "start_time": "2022-12-05T11:20:06.285Z"
   },
   {
    "duration": 5,
    "start_time": "2022-12-05T11:23:59.064Z"
   },
   {
    "duration": 9,
    "start_time": "2022-12-05T11:24:07.379Z"
   },
   {
    "duration": 9,
    "start_time": "2022-12-05T11:24:28.695Z"
   },
   {
    "duration": 3,
    "start_time": "2022-12-05T11:24:58.828Z"
   },
   {
    "duration": 4,
    "start_time": "2022-12-05T11:25:01.805Z"
   },
   {
    "duration": 66,
    "start_time": "2022-12-05T11:25:10.922Z"
   },
   {
    "duration": 11,
    "start_time": "2022-12-05T11:25:14.762Z"
   },
   {
    "duration": 6,
    "start_time": "2022-12-05T11:25:21.811Z"
   },
   {
    "duration": 50,
    "start_time": "2022-12-05T11:29:37.061Z"
   },
   {
    "duration": 4,
    "start_time": "2022-12-05T11:29:42.464Z"
   },
   {
    "duration": 11,
    "start_time": "2022-12-05T11:29:44.686Z"
   },
   {
    "duration": 10,
    "start_time": "2022-12-05T11:29:51.708Z"
   },
   {
    "duration": 6,
    "start_time": "2022-12-05T11:29:57.647Z"
   },
   {
    "duration": 21,
    "start_time": "2022-12-05T11:30:02.401Z"
   },
   {
    "duration": 5,
    "start_time": "2022-12-05T11:31:08.790Z"
   },
   {
    "duration": 30,
    "start_time": "2022-12-05T11:31:19.122Z"
   },
   {
    "duration": 15,
    "start_time": "2022-12-05T11:31:29.274Z"
   },
   {
    "duration": 186,
    "start_time": "2022-12-05T11:41:42.152Z"
   },
   {
    "duration": 47,
    "start_time": "2022-12-05T11:42:28.323Z"
   },
   {
    "duration": 8,
    "start_time": "2022-12-05T11:42:36.079Z"
   },
   {
    "duration": 21,
    "start_time": "2022-12-05T11:42:39.988Z"
   },
   {
    "duration": 794,
    "start_time": "2022-12-05T11:43:21.351Z"
   },
   {
    "duration": 11,
    "start_time": "2022-12-05T11:43:26.909Z"
   },
   {
    "duration": 4,
    "start_time": "2022-12-05T11:43:32.539Z"
   },
   {
    "duration": 13,
    "start_time": "2022-12-05T11:43:32.545Z"
   },
   {
    "duration": 50,
    "start_time": "2022-12-05T11:43:32.560Z"
   },
   {
    "duration": 26,
    "start_time": "2022-12-05T11:43:32.613Z"
   },
   {
    "duration": 5,
    "start_time": "2022-12-05T11:43:32.641Z"
   },
   {
    "duration": 22,
    "start_time": "2022-12-05T11:43:32.648Z"
   },
   {
    "duration": 40,
    "start_time": "2022-12-05T11:43:32.672Z"
   },
   {
    "duration": 6,
    "start_time": "2022-12-05T11:43:32.715Z"
   },
   {
    "duration": 12,
    "start_time": "2022-12-05T11:43:32.724Z"
   },
   {
    "duration": 16,
    "start_time": "2022-12-05T11:43:32.737Z"
   },
   {
    "duration": 25,
    "start_time": "2022-12-05T11:43:32.755Z"
   },
   {
    "duration": 5,
    "start_time": "2022-12-05T11:44:02.197Z"
   },
   {
    "duration": 3,
    "start_time": "2022-12-05T11:44:02.207Z"
   },
   {
    "duration": 47,
    "start_time": "2022-12-05T11:44:02.213Z"
   },
   {
    "duration": 23,
    "start_time": "2022-12-05T11:44:02.262Z"
   },
   {
    "duration": 5,
    "start_time": "2022-12-05T11:44:02.286Z"
   },
   {
    "duration": 23,
    "start_time": "2022-12-05T11:44:02.293Z"
   },
   {
    "duration": 14,
    "start_time": "2022-12-05T11:44:02.318Z"
   },
   {
    "duration": 5,
    "start_time": "2022-12-05T11:44:02.334Z"
   },
   {
    "duration": 7,
    "start_time": "2022-12-05T11:44:02.341Z"
   },
   {
    "duration": 10,
    "start_time": "2022-12-05T11:44:02.350Z"
   },
   {
    "duration": 23,
    "start_time": "2022-12-05T11:44:02.362Z"
   },
   {
    "duration": 41,
    "start_time": "2022-12-05T11:44:02.387Z"
   },
   {
    "duration": 10,
    "start_time": "2022-12-05T11:44:02.431Z"
   },
   {
    "duration": 27,
    "start_time": "2022-12-05T11:44:02.444Z"
   },
   {
    "duration": 4,
    "start_time": "2022-12-05T11:59:40.850Z"
   },
   {
    "duration": 5,
    "start_time": "2022-12-05T11:59:40.856Z"
   },
   {
    "duration": 43,
    "start_time": "2022-12-05T11:59:40.863Z"
   },
   {
    "duration": 22,
    "start_time": "2022-12-05T11:59:40.909Z"
   },
   {
    "duration": 4,
    "start_time": "2022-12-05T11:59:40.933Z"
   },
   {
    "duration": 22,
    "start_time": "2022-12-05T11:59:40.938Z"
   },
   {
    "duration": 13,
    "start_time": "2022-12-05T11:59:40.963Z"
   },
   {
    "duration": 6,
    "start_time": "2022-12-05T11:59:40.977Z"
   },
   {
    "duration": 3,
    "start_time": "2022-12-05T11:59:41.012Z"
   },
   {
    "duration": 12,
    "start_time": "2022-12-05T11:59:41.017Z"
   },
   {
    "duration": 18,
    "start_time": "2022-12-05T11:59:41.031Z"
   },
   {
    "duration": 0,
    "start_time": "2022-12-05T11:59:41.050Z"
   },
   {
    "duration": 0,
    "start_time": "2022-12-05T11:59:41.052Z"
   },
   {
    "duration": 4,
    "start_time": "2022-12-05T12:00:04.531Z"
   },
   {
    "duration": 5,
    "start_time": "2022-12-05T12:00:04.537Z"
   },
   {
    "duration": 44,
    "start_time": "2022-12-05T12:00:04.544Z"
   },
   {
    "duration": 22,
    "start_time": "2022-12-05T12:00:04.590Z"
   },
   {
    "duration": 3,
    "start_time": "2022-12-05T12:00:04.614Z"
   },
   {
    "duration": 25,
    "start_time": "2022-12-05T12:00:04.619Z"
   },
   {
    "duration": 13,
    "start_time": "2022-12-05T12:00:04.646Z"
   },
   {
    "duration": 6,
    "start_time": "2022-12-05T12:00:04.661Z"
   },
   {
    "duration": 8,
    "start_time": "2022-12-05T12:00:04.670Z"
   },
   {
    "duration": 32,
    "start_time": "2022-12-05T12:00:04.680Z"
   },
   {
    "duration": 11,
    "start_time": "2022-12-05T12:00:04.715Z"
   },
   {
    "duration": 13,
    "start_time": "2022-12-05T12:00:04.728Z"
   },
   {
    "duration": 0,
    "start_time": "2022-12-05T12:00:04.742Z"
   },
   {
    "duration": 4,
    "start_time": "2022-12-05T12:00:18.798Z"
   },
   {
    "duration": 6,
    "start_time": "2022-12-05T12:00:18.804Z"
   },
   {
    "duration": 54,
    "start_time": "2022-12-05T12:00:18.812Z"
   },
   {
    "duration": 25,
    "start_time": "2022-12-05T12:00:18.868Z"
   },
   {
    "duration": 5,
    "start_time": "2022-12-05T12:00:18.895Z"
   },
   {
    "duration": 23,
    "start_time": "2022-12-05T12:00:18.901Z"
   },
   {
    "duration": 26,
    "start_time": "2022-12-05T12:00:18.925Z"
   },
   {
    "duration": 19,
    "start_time": "2022-12-05T12:00:18.953Z"
   },
   {
    "duration": 3,
    "start_time": "2022-12-05T12:00:18.974Z"
   },
   {
    "duration": 18,
    "start_time": "2022-12-05T12:00:18.980Z"
   },
   {
    "duration": 15,
    "start_time": "2022-12-05T12:00:19.000Z"
   },
   {
    "duration": 8,
    "start_time": "2022-12-05T12:00:19.017Z"
   },
   {
    "duration": 15,
    "start_time": "2022-12-05T12:00:19.027Z"
   },
   {
    "duration": 4,
    "start_time": "2022-12-05T12:09:23.840Z"
   },
   {
    "duration": 38,
    "start_time": "2022-12-05T12:09:23.846Z"
   },
   {
    "duration": 67,
    "start_time": "2022-12-05T12:09:23.886Z"
   },
   {
    "duration": 28,
    "start_time": "2022-12-05T12:09:23.955Z"
   },
   {
    "duration": 20,
    "start_time": "2022-12-05T12:09:23.985Z"
   },
   {
    "duration": 41,
    "start_time": "2022-12-05T12:09:24.007Z"
   },
   {
    "duration": 46,
    "start_time": "2022-12-05T12:09:24.050Z"
   },
   {
    "duration": 22,
    "start_time": "2022-12-05T12:09:24.098Z"
   },
   {
    "duration": 8,
    "start_time": "2022-12-05T12:09:24.122Z"
   },
   {
    "duration": 26,
    "start_time": "2022-12-05T12:09:24.132Z"
   },
   {
    "duration": 36,
    "start_time": "2022-12-05T12:09:24.160Z"
   },
   {
    "duration": 27,
    "start_time": "2022-12-05T12:09:24.198Z"
   },
   {
    "duration": 34,
    "start_time": "2022-12-05T12:09:24.227Z"
   },
   {
    "duration": 31,
    "start_time": "2022-12-05T12:09:24.263Z"
   },
   {
    "duration": 57,
    "start_time": "2022-12-05T12:09:24.296Z"
   },
   {
    "duration": 54,
    "start_time": "2022-12-05T12:09:24.355Z"
   },
   {
    "duration": 32,
    "start_time": "2022-12-05T12:09:24.411Z"
   },
   {
    "duration": 46,
    "start_time": "2022-12-05T12:09:24.445Z"
   },
   {
    "duration": 65,
    "start_time": "2022-12-05T12:09:24.493Z"
   },
   {
    "duration": 208,
    "start_time": "2022-12-05T12:09:24.560Z"
   },
   {
    "duration": 216,
    "start_time": "2022-12-05T12:09:24.771Z"
   },
   {
    "duration": 9,
    "start_time": "2022-12-05T12:09:24.990Z"
   },
   {
    "duration": 25,
    "start_time": "2022-12-05T12:09:25.012Z"
   },
   {
    "duration": 26,
    "start_time": "2022-12-05T12:09:25.041Z"
   },
   {
    "duration": 253,
    "start_time": "2022-12-05T12:09:25.069Z"
   },
   {
    "duration": 5,
    "start_time": "2022-12-05T13:05:28.032Z"
   },
   {
    "duration": 10,
    "start_time": "2022-12-05T13:15:36.370Z"
   },
   {
    "duration": 6,
    "start_time": "2022-12-05T13:15:53.427Z"
   },
   {
    "duration": 540,
    "start_time": "2022-12-05T13:15:58.179Z"
   },
   {
    "duration": 8,
    "start_time": "2022-12-05T13:16:07.448Z"
   },
   {
    "duration": 136,
    "start_time": "2022-12-05T13:16:11.379Z"
   },
   {
    "duration": 7,
    "start_time": "2022-12-05T13:16:46.516Z"
   },
   {
    "duration": 48249,
    "start_time": "2022-12-05T13:16:49.072Z"
   },
   {
    "duration": 95,
    "start_time": "2022-12-05T13:17:37.324Z"
   },
   {
    "duration": 38140,
    "start_time": "2022-12-05T13:17:40.783Z"
   },
   {
    "duration": 6,
    "start_time": "2022-12-05T13:18:20.581Z"
   },
   {
    "duration": 22867,
    "start_time": "2022-12-05T13:18:23.850Z"
   },
   {
    "duration": 9,
    "start_time": "2022-12-05T13:19:52.302Z"
   },
   {
    "duration": 22712,
    "start_time": "2022-12-05T13:19:54.800Z"
   },
   {
    "duration": 6,
    "start_time": "2022-12-05T16:17:32.504Z"
   },
   {
    "duration": 34035,
    "start_time": "2022-12-05T16:17:39.979Z"
   },
   {
    "duration": 5,
    "start_time": "2022-12-05T16:19:00.733Z"
   },
   {
    "duration": 5,
    "start_time": "2022-12-05T16:19:09.394Z"
   },
   {
    "duration": 4,
    "start_time": "2022-12-05T16:19:15.999Z"
   },
   {
    "duration": 7,
    "start_time": "2022-12-05T16:19:22.643Z"
   },
   {
    "duration": 17385,
    "start_time": "2022-12-05T16:19:26.534Z"
   },
   {
    "duration": 4,
    "start_time": "2022-12-05T16:20:14.538Z"
   },
   {
    "duration": 4,
    "start_time": "2022-12-05T16:20:18.534Z"
   },
   {
    "duration": 4,
    "start_time": "2022-12-05T16:20:30.721Z"
   },
   {
    "duration": 6,
    "start_time": "2022-12-05T16:20:39.557Z"
   },
   {
    "duration": 15171,
    "start_time": "2022-12-05T16:20:42.145Z"
   },
   {
    "duration": 5,
    "start_time": "2022-12-05T16:21:16.215Z"
   },
   {
    "duration": 6,
    "start_time": "2022-12-05T16:21:21.483Z"
   },
   {
    "duration": 8,
    "start_time": "2022-12-05T16:21:26.733Z"
   },
   {
    "duration": 31181,
    "start_time": "2022-12-05T16:21:34.639Z"
   },
   {
    "duration": 4,
    "start_time": "2022-12-05T16:22:44.939Z"
   },
   {
    "duration": 6,
    "start_time": "2022-12-05T16:22:47.907Z"
   },
   {
    "duration": 7,
    "start_time": "2022-12-05T16:22:55.755Z"
   },
   {
    "duration": 2943,
    "start_time": "2022-12-05T16:22:57.971Z"
   },
   {
    "duration": 4,
    "start_time": "2022-12-05T16:23:13.836Z"
   },
   {
    "duration": 5,
    "start_time": "2022-12-05T16:23:25.942Z"
   },
   {
    "duration": 4,
    "start_time": "2022-12-05T16:23:29.606Z"
   },
   {
    "duration": 5,
    "start_time": "2022-12-05T16:23:35.121Z"
   },
   {
    "duration": 7,
    "start_time": "2022-12-05T16:23:47.837Z"
   },
   {
    "duration": 12676,
    "start_time": "2022-12-05T16:23:51.742Z"
   },
   {
    "duration": 7,
    "start_time": "2022-12-05T16:24:19.572Z"
   },
   {
    "duration": 8311,
    "start_time": "2022-12-05T16:24:22.608Z"
   },
   {
    "duration": 8,
    "start_time": "2022-12-05T16:24:57.350Z"
   },
   {
    "duration": 25178,
    "start_time": "2022-12-05T16:25:06.942Z"
   },
   {
    "duration": 7,
    "start_time": "2022-12-05T16:26:04.067Z"
   },
   {
    "duration": 22834,
    "start_time": "2022-12-05T16:26:07.481Z"
   },
   {
    "duration": 7,
    "start_time": "2022-12-05T16:27:23.260Z"
   },
   {
    "duration": 5,
    "start_time": "2022-12-05T16:27:34.965Z"
   },
   {
    "duration": 5,
    "start_time": "2022-12-05T16:27:44.535Z"
   },
   {
    "duration": 6,
    "start_time": "2022-12-05T16:27:50.221Z"
   },
   {
    "duration": 5,
    "start_time": "2022-12-05T16:27:53.036Z"
   },
   {
    "duration": 5,
    "start_time": "2022-12-05T16:27:55.664Z"
   },
   {
    "duration": 5,
    "start_time": "2022-12-05T16:27:58.574Z"
   },
   {
    "duration": 4,
    "start_time": "2022-12-05T16:28:02.014Z"
   },
   {
    "duration": 5,
    "start_time": "2022-12-05T16:28:06.751Z"
   },
   {
    "duration": 5,
    "start_time": "2022-12-05T16:28:09.694Z"
   },
   {
    "duration": 7,
    "start_time": "2022-12-05T16:28:14.588Z"
   },
   {
    "duration": 20771,
    "start_time": "2022-12-05T16:28:19.951Z"
   },
   {
    "duration": 7,
    "start_time": "2022-12-05T16:28:51.182Z"
   },
   {
    "duration": 95,
    "start_time": "2022-12-05T16:29:12.618Z"
   },
   {
    "duration": 18299,
    "start_time": "2022-12-05T16:29:12.715Z"
   },
   {
    "duration": 96,
    "start_time": "2022-12-05T16:29:31.017Z"
   },
   {
    "duration": 12662,
    "start_time": "2022-12-05T16:29:34.161Z"
   },
   {
    "duration": 9,
    "start_time": "2022-12-05T16:29:46.913Z"
   },
   {
    "duration": 9125,
    "start_time": "2022-12-05T16:29:49.095Z"
   },
   {
    "duration": 7,
    "start_time": "2022-12-05T16:30:10.074Z"
   },
   {
    "duration": 6208,
    "start_time": "2022-12-05T16:30:14.906Z"
   },
   {
    "duration": 6,
    "start_time": "2022-12-05T16:30:39.835Z"
   },
   {
    "duration": 6,
    "start_time": "2022-12-05T16:31:55.295Z"
   },
   {
    "duration": 27251,
    "start_time": "2022-12-05T16:32:04.969Z"
   },
   {
    "duration": 6,
    "start_time": "2022-12-05T16:35:18.955Z"
   },
   {
    "duration": 19678,
    "start_time": "2022-12-05T16:35:29.736Z"
   },
   {
    "duration": 6,
    "start_time": "2022-12-05T16:36:58.637Z"
   },
   {
    "duration": 69110,
    "start_time": "2022-12-05T16:37:03.008Z"
   },
   {
    "duration": 6,
    "start_time": "2022-12-05T16:44:32.036Z"
   },
   {
    "duration": 117117,
    "start_time": "2022-12-05T16:44:45.696Z"
   },
   {
    "duration": 8,
    "start_time": "2022-12-05T16:51:00.812Z"
   },
   {
    "duration": 63926,
    "start_time": "2022-12-05T16:51:07.988Z"
   },
   {
    "duration": 8,
    "start_time": "2022-12-05T17:41:09.201Z"
   },
   {
    "duration": 37513,
    "start_time": "2022-12-05T17:41:24.202Z"
   },
   {
    "duration": 6,
    "start_time": "2022-12-05T17:43:01.138Z"
   },
   {
    "duration": 41057,
    "start_time": "2022-12-05T17:43:07.457Z"
   },
   {
    "duration": 6,
    "start_time": "2022-12-05T17:44:17.168Z"
   },
   {
    "duration": 34717,
    "start_time": "2022-12-05T17:44:21.302Z"
   },
   {
    "duration": 7,
    "start_time": "2022-12-05T17:45:15.872Z"
   },
   {
    "duration": 50890,
    "start_time": "2022-12-05T17:45:19.129Z"
   },
   {
    "duration": 91,
    "start_time": "2022-12-05T17:46:10.022Z"
   },
   {
    "duration": 7,
    "start_time": "2022-12-05T17:46:23.992Z"
   },
   {
    "duration": 5,
    "start_time": "2022-12-05T17:46:38.507Z"
   },
   {
    "duration": 6,
    "start_time": "2022-12-05T17:46:56.872Z"
   },
   {
    "duration": 5,
    "start_time": "2022-12-05T17:47:30.405Z"
   },
   {
    "duration": 7,
    "start_time": "2022-12-05T17:47:50.775Z"
   },
   {
    "duration": 92929,
    "start_time": "2022-12-05T17:47:53.285Z"
   },
   {
    "duration": 97,
    "start_time": "2022-12-05T17:49:26.216Z"
   },
   {
    "duration": 8,
    "start_time": "2022-12-05T17:50:30.429Z"
   },
   {
    "duration": 51510,
    "start_time": "2022-12-05T17:50:36.212Z"
   },
   {
    "duration": 9,
    "start_time": "2022-12-05T17:55:00.328Z"
   },
   {
    "duration": 62753,
    "start_time": "2022-12-05T17:55:05.259Z"
   },
   {
    "duration": 12,
    "start_time": "2022-12-05T18:00:27.372Z"
   },
   {
    "duration": 1767,
    "start_time": "2022-12-05T18:00:30.747Z"
   },
   {
    "duration": 7,
    "start_time": "2022-12-05T18:01:00.686Z"
   },
   {
    "duration": 27,
    "start_time": "2022-12-05T18:01:03.907Z"
   },
   {
    "duration": 7,
    "start_time": "2022-12-05T18:01:17.692Z"
   },
   {
    "duration": 14,
    "start_time": "2022-12-05T18:01:23.372Z"
   },
   {
    "duration": 6,
    "start_time": "2022-12-05T18:01:35.678Z"
   },
   {
    "duration": 27,
    "start_time": "2022-12-05T18:01:39.615Z"
   },
   {
    "duration": 7,
    "start_time": "2022-12-05T18:01:55.815Z"
   },
   {
    "duration": 180877,
    "start_time": "2022-12-05T18:01:58.237Z"
   },
   {
    "duration": 7,
    "start_time": "2022-12-05T18:20:54.350Z"
   },
   {
    "duration": 6,
    "start_time": "2022-12-05T18:20:56.091Z"
   },
   {
    "duration": 1031234,
    "start_time": "2022-12-05T18:21:06.203Z"
   },
   {
    "duration": 6,
    "start_time": "2022-12-05T18:49:45.695Z"
   },
   {
    "duration": 182847,
    "start_time": "2022-12-05T18:49:52.880Z"
   },
   {
    "duration": 6,
    "start_time": "2022-12-05T19:07:37.685Z"
   },
   {
    "duration": 48929,
    "start_time": "2022-12-05T19:07:41.995Z"
   },
   {
    "duration": 6,
    "start_time": "2022-12-05T19:09:12.828Z"
   },
   {
    "duration": 8,
    "start_time": "2022-12-05T19:09:24.390Z"
   },
   {
    "duration": 43219,
    "start_time": "2022-12-05T19:09:27.796Z"
   },
   {
    "duration": 6,
    "start_time": "2022-12-05T19:10:11.017Z"
   },
   {
    "duration": 9,
    "start_time": "2022-12-05T19:11:22.249Z"
   },
   {
    "duration": 32295,
    "start_time": "2022-12-05T19:11:26.132Z"
   },
   {
    "duration": 9,
    "start_time": "2022-12-05T19:14:03.797Z"
   },
   {
    "duration": 21973,
    "start_time": "2022-12-05T19:14:08.848Z"
   },
   {
    "duration": 6,
    "start_time": "2022-12-05T19:14:56.237Z"
   },
   {
    "duration": 19,
    "start_time": "2022-12-05T19:14:59.173Z"
   },
   {
    "duration": 9,
    "start_time": "2022-12-05T19:15:06.674Z"
   },
   {
    "duration": 25434,
    "start_time": "2022-12-05T19:15:08.882Z"
   },
   {
    "duration": 28964,
    "start_time": "2022-12-05T19:39:24.655Z"
   },
   {
    "duration": 5,
    "start_time": "2022-12-05T19:40:21.226Z"
   },
   {
    "duration": 589,
    "start_time": "2022-12-05T19:40:29.427Z"
   },
   {
    "duration": 7,
    "start_time": "2022-12-05T19:40:36.364Z"
   },
   {
    "duration": 36298,
    "start_time": "2022-12-05T19:40:44.422Z"
   },
   {
    "duration": 7,
    "start_time": "2022-12-05T19:47:00.776Z"
   },
   {
    "duration": 45118,
    "start_time": "2022-12-05T19:47:03.900Z"
   },
   {
    "duration": 6,
    "start_time": "2022-12-05T19:48:08.396Z"
   },
   {
    "duration": 7,
    "start_time": "2022-12-05T19:48:20.108Z"
   },
   {
    "duration": 42812,
    "start_time": "2022-12-05T19:48:22.601Z"
   },
   {
    "duration": 36657,
    "start_time": "2022-12-05T19:49:29.956Z"
   },
   {
    "duration": 6,
    "start_time": "2022-12-05T19:53:09.248Z"
   },
   {
    "duration": 38312,
    "start_time": "2022-12-05T19:53:16.207Z"
   },
   {
    "duration": 6,
    "start_time": "2022-12-05T20:13:51.941Z"
   },
   {
    "duration": 36714,
    "start_time": "2022-12-05T20:13:55.600Z"
   },
   {
    "duration": 8,
    "start_time": "2022-12-05T20:20:07.213Z"
   },
   {
    "duration": 6,
    "start_time": "2022-12-05T20:20:10.988Z"
   },
   {
    "duration": 9,
    "start_time": "2022-12-05T20:20:13.449Z"
   },
   {
    "duration": 5,
    "start_time": "2022-12-05T20:31:53.718Z"
   },
   {
    "duration": 189,
    "start_time": "2022-12-05T20:32:30.471Z"
   },
   {
    "duration": 10,
    "start_time": "2022-12-05T20:33:31.096Z"
   },
   {
    "duration": 4,
    "start_time": "2022-12-05T20:33:34.548Z"
   },
   {
    "duration": 12,
    "start_time": "2022-12-05T20:33:36.157Z"
   },
   {
    "duration": 345,
    "start_time": "2022-12-05T20:33:37.641Z"
   },
   {
    "duration": 6,
    "start_time": "2022-12-05T20:36:16.909Z"
   },
   {
    "duration": 34001,
    "start_time": "2022-12-05T20:36:29.212Z"
   },
   {
    "duration": 1406,
    "start_time": "2022-12-05T20:40:00.031Z"
   },
   {
    "duration": 3,
    "start_time": "2022-12-05T20:40:01.439Z"
   },
   {
    "duration": 63,
    "start_time": "2022-12-05T20:40:01.443Z"
   },
   {
    "duration": 27,
    "start_time": "2022-12-05T20:40:01.508Z"
   },
   {
    "duration": 6,
    "start_time": "2022-12-05T20:40:01.536Z"
   },
   {
    "duration": 37,
    "start_time": "2022-12-05T20:40:01.544Z"
   },
   {
    "duration": 21,
    "start_time": "2022-12-05T20:40:01.583Z"
   },
   {
    "duration": 13,
    "start_time": "2022-12-05T20:40:01.606Z"
   },
   {
    "duration": 6,
    "start_time": "2022-12-05T20:40:01.621Z"
   },
   {
    "duration": 11,
    "start_time": "2022-12-05T20:40:01.629Z"
   },
   {
    "duration": 23,
    "start_time": "2022-12-05T20:40:01.641Z"
   },
   {
    "duration": 11,
    "start_time": "2022-12-05T20:40:01.666Z"
   },
   {
    "duration": 15,
    "start_time": "2022-12-05T20:40:01.679Z"
   },
   {
    "duration": 19,
    "start_time": "2022-12-05T20:40:01.695Z"
   },
   {
    "duration": 20,
    "start_time": "2022-12-05T20:40:01.716Z"
   },
   {
    "duration": 5,
    "start_time": "2022-12-05T20:40:01.738Z"
   },
   {
    "duration": 9,
    "start_time": "2022-12-05T20:40:01.745Z"
   },
   {
    "duration": 10,
    "start_time": "2022-12-05T20:40:01.756Z"
   },
   {
    "duration": 52,
    "start_time": "2022-12-05T20:40:01.767Z"
   },
   {
    "duration": 164,
    "start_time": "2022-12-05T20:40:01.820Z"
   },
   {
    "duration": 175,
    "start_time": "2022-12-05T20:40:01.986Z"
   },
   {
    "duration": 7,
    "start_time": "2022-12-05T20:40:02.163Z"
   },
   {
    "duration": 22,
    "start_time": "2022-12-05T20:40:02.172Z"
   },
   {
    "duration": 8,
    "start_time": "2022-12-05T20:40:02.195Z"
   },
   {
    "duration": 207,
    "start_time": "2022-12-05T20:40:02.204Z"
   },
   {
    "duration": 209,
    "start_time": "2022-12-05T20:40:02.413Z"
   },
   {
    "duration": 4,
    "start_time": "2022-12-05T20:40:02.624Z"
   },
   {
    "duration": 20,
    "start_time": "2022-12-05T20:40:02.631Z"
   },
   {
    "duration": 319,
    "start_time": "2022-12-05T20:40:02.653Z"
   },
   {
    "duration": 4,
    "start_time": "2022-12-05T20:40:02.974Z"
   },
   {
    "duration": 12,
    "start_time": "2022-12-05T20:40:02.979Z"
   },
   {
    "duration": 114,
    "start_time": "2022-12-05T20:40:02.993Z"
   },
   {
    "duration": 1444,
    "start_time": "2022-12-05T20:40:03.109Z"
   },
   {
    "duration": 1454,
    "start_time": "2022-12-05T20:40:04.554Z"
   },
   {
    "duration": 1594,
    "start_time": "2022-12-05T20:40:06.012Z"
   },
   {
    "duration": 1382,
    "start_time": "2022-12-05T20:40:07.608Z"
   },
   {
    "duration": 5,
    "start_time": "2022-12-05T20:40:08.992Z"
   },
   {
    "duration": 74360,
    "start_time": "2022-12-05T20:40:08.998Z"
   },
   {
    "duration": 75535,
    "start_time": "2022-12-05T20:41:23.360Z"
   },
   {
    "duration": 144235,
    "start_time": "2022-12-05T20:42:38.897Z"
   },
   {
    "duration": 43378,
    "start_time": "2022-12-05T20:45:03.134Z"
   },
   {
    "duration": 100939,
    "start_time": "2022-12-05T20:45:46.513Z"
   },
   {
    "duration": 101580,
    "start_time": "2022-12-05T20:47:27.454Z"
   },
   {
    "duration": 168113,
    "start_time": "2022-12-05T20:49:09.036Z"
   },
   {
    "duration": 70787,
    "start_time": "2022-12-05T20:51:57.151Z"
   },
   {
    "duration": 7,
    "start_time": "2022-12-05T20:53:07.940Z"
   },
   {
    "duration": 34871,
    "start_time": "2022-12-05T20:53:07.948Z"
   },
   {
    "duration": 35192,
    "start_time": "2022-12-05T20:53:42.821Z"
   },
   {
    "duration": 67898,
    "start_time": "2022-12-05T20:54:18.015Z"
   },
   {
    "duration": 17594,
    "start_time": "2022-12-05T20:55:25.919Z"
   },
   {
    "duration": 45229,
    "start_time": "2022-12-05T20:55:43.515Z"
   },
   {
    "duration": 45692,
    "start_time": "2022-12-05T20:56:28.746Z"
   },
   {
    "duration": 81716,
    "start_time": "2022-12-05T20:57:14.439Z"
   },
   {
    "duration": 27387,
    "start_time": "2022-12-05T20:58:36.157Z"
   },
   {
    "duration": 101737,
    "start_time": "2022-12-05T20:59:03.546Z"
   },
   {
    "duration": 103168,
    "start_time": "2022-12-05T21:11:05.664Z"
   },
   {
    "duration": 1516,
    "start_time": "2022-12-05T21:15:12.806Z"
   },
   {
    "duration": 17,
    "start_time": "2022-12-05T21:21:49.167Z"
   },
   {
    "duration": 17,
    "start_time": "2022-12-05T21:23:04.591Z"
   },
   {
    "duration": 18,
    "start_time": "2022-12-05T21:26:49.940Z"
   },
   {
    "duration": 5,
    "start_time": "2022-12-05T21:31:50.488Z"
   },
   {
    "duration": 9,
    "start_time": "2022-12-05T21:31:50.495Z"
   },
   {
    "duration": 43,
    "start_time": "2022-12-05T21:31:50.506Z"
   },
   {
    "duration": 17,
    "start_time": "2022-12-05T21:31:50.550Z"
   },
   {
    "duration": 5,
    "start_time": "2022-12-05T21:31:50.570Z"
   },
   {
    "duration": 17,
    "start_time": "2022-12-05T21:31:50.755Z"
   },
   {
    "duration": 13,
    "start_time": "2022-12-05T21:31:50.775Z"
   },
   {
    "duration": 5,
    "start_time": "2022-12-05T21:31:50.790Z"
   },
   {
    "duration": 5,
    "start_time": "2022-12-05T21:31:50.798Z"
   },
   {
    "duration": 11,
    "start_time": "2022-12-05T21:31:50.804Z"
   },
   {
    "duration": 12,
    "start_time": "2022-12-05T21:31:50.817Z"
   },
   {
    "duration": 7,
    "start_time": "2022-12-05T21:31:50.830Z"
   },
   {
    "duration": 17,
    "start_time": "2022-12-05T21:31:50.839Z"
   },
   {
    "duration": 11,
    "start_time": "2022-12-05T21:31:50.858Z"
   },
   {
    "duration": 49,
    "start_time": "2022-12-05T21:31:50.871Z"
   },
   {
    "duration": 8,
    "start_time": "2022-12-05T21:31:50.922Z"
   },
   {
    "duration": 7,
    "start_time": "2022-12-05T21:31:50.932Z"
   },
   {
    "duration": 5,
    "start_time": "2022-12-05T21:31:50.941Z"
   },
   {
    "duration": 27,
    "start_time": "2022-12-05T21:31:50.947Z"
   },
   {
    "duration": 170,
    "start_time": "2022-12-05T21:31:50.976Z"
   },
   {
    "duration": 170,
    "start_time": "2022-12-05T21:31:51.148Z"
   },
   {
    "duration": 8,
    "start_time": "2022-12-05T21:31:51.320Z"
   },
   {
    "duration": 7,
    "start_time": "2022-12-05T21:31:51.330Z"
   },
   {
    "duration": 6,
    "start_time": "2022-12-05T21:31:51.339Z"
   },
   {
    "duration": 207,
    "start_time": "2022-12-05T21:31:51.347Z"
   },
   {
    "duration": 198,
    "start_time": "2022-12-05T21:31:51.557Z"
   },
   {
    "duration": 4,
    "start_time": "2022-12-05T21:31:51.758Z"
   },
   {
    "duration": 29,
    "start_time": "2022-12-05T21:31:51.763Z"
   },
   {
    "duration": 313,
    "start_time": "2022-12-05T21:31:51.793Z"
   },
   {
    "duration": 6,
    "start_time": "2022-12-05T21:31:52.107Z"
   },
   {
    "duration": 18,
    "start_time": "2022-12-05T21:31:52.115Z"
   },
   {
    "duration": 110,
    "start_time": "2022-12-05T21:31:52.134Z"
   },
   {
    "duration": 1420,
    "start_time": "2022-12-05T21:31:52.246Z"
   },
   {
    "duration": 1478,
    "start_time": "2022-12-05T21:31:53.668Z"
   },
   {
    "duration": 1683,
    "start_time": "2022-12-05T21:31:55.148Z"
   },
   {
    "duration": 1389,
    "start_time": "2022-12-05T21:31:56.833Z"
   },
   {
    "duration": 114,
    "start_time": "2022-12-05T21:33:17.116Z"
   },
   {
    "duration": 17,
    "start_time": "2022-12-05T21:33:57.557Z"
   },
   {
    "duration": 21,
    "start_time": "2022-12-05T21:34:06.137Z"
   },
   {
    "duration": 14,
    "start_time": "2022-12-05T21:34:11.759Z"
   },
   {
    "duration": 4,
    "start_time": "2022-12-05T21:34:19.172Z"
   },
   {
    "duration": 13,
    "start_time": "2022-12-05T21:34:20.825Z"
   },
   {
    "duration": 11,
    "start_time": "2022-12-05T21:34:28.755Z"
   },
   {
    "duration": 16,
    "start_time": "2022-12-05T21:34:30.928Z"
   },
   {
    "duration": 4,
    "start_time": "2022-12-05T21:34:48.044Z"
   },
   {
    "duration": 11,
    "start_time": "2022-12-05T21:34:48.051Z"
   },
   {
    "duration": 48,
    "start_time": "2022-12-05T21:34:48.064Z"
   },
   {
    "duration": 18,
    "start_time": "2022-12-05T21:34:48.114Z"
   },
   {
    "duration": 16,
    "start_time": "2022-12-05T21:34:48.134Z"
   },
   {
    "duration": 19,
    "start_time": "2022-12-05T21:34:48.152Z"
   },
   {
    "duration": 39,
    "start_time": "2022-12-05T21:34:48.173Z"
   },
   {
    "duration": 8,
    "start_time": "2022-12-05T21:34:48.215Z"
   },
   {
    "duration": 5,
    "start_time": "2022-12-05T21:34:48.225Z"
   },
   {
    "duration": 10,
    "start_time": "2022-12-05T21:34:48.232Z"
   },
   {
    "duration": 17,
    "start_time": "2022-12-05T21:34:48.247Z"
   },
   {
    "duration": 12,
    "start_time": "2022-12-05T21:34:48.266Z"
   },
   {
    "duration": 36,
    "start_time": "2022-12-05T21:34:48.280Z"
   },
   {
    "duration": 20,
    "start_time": "2022-12-05T21:34:48.319Z"
   },
   {
    "duration": 15,
    "start_time": "2022-12-05T21:34:48.341Z"
   },
   {
    "duration": 16,
    "start_time": "2022-12-05T21:34:48.358Z"
   },
   {
    "duration": 7,
    "start_time": "2022-12-05T21:34:48.375Z"
   },
   {
    "duration": 36,
    "start_time": "2022-12-05T21:34:48.383Z"
   },
   {
    "duration": 6,
    "start_time": "2022-12-05T21:34:48.420Z"
   },
   {
    "duration": 26,
    "start_time": "2022-12-05T21:34:48.428Z"
   },
   {
    "duration": 150,
    "start_time": "2022-12-05T21:34:48.455Z"
   },
   {
    "duration": 180,
    "start_time": "2022-12-05T21:34:48.613Z"
   },
   {
    "duration": 7,
    "start_time": "2022-12-05T21:34:48.795Z"
   },
   {
    "duration": 19,
    "start_time": "2022-12-05T21:34:48.804Z"
   },
   {
    "duration": 6,
    "start_time": "2022-12-05T21:34:48.825Z"
   },
   {
    "duration": 214,
    "start_time": "2022-12-05T21:34:48.833Z"
   },
   {
    "duration": 220,
    "start_time": "2022-12-05T21:34:49.049Z"
   },
   {
    "duration": 5,
    "start_time": "2022-12-05T21:34:49.271Z"
   },
   {
    "duration": 28,
    "start_time": "2022-12-05T21:34:49.280Z"
   },
   {
    "duration": 336,
    "start_time": "2022-12-05T21:34:49.311Z"
   },
   {
    "duration": 5,
    "start_time": "2022-12-05T21:34:49.648Z"
   },
   {
    "duration": 31,
    "start_time": "2022-12-05T21:34:49.655Z"
   },
   {
    "duration": 108,
    "start_time": "2022-12-05T21:34:49.688Z"
   },
   {
    "duration": 1506,
    "start_time": "2022-12-05T21:34:49.798Z"
   },
   {
    "duration": 1468,
    "start_time": "2022-12-05T21:34:51.306Z"
   },
   {
    "duration": 1559,
    "start_time": "2022-12-05T21:34:52.776Z"
   },
   {
    "duration": 1399,
    "start_time": "2022-12-05T21:34:54.337Z"
   },
   {
    "duration": 4,
    "start_time": "2022-12-05T21:35:57.089Z"
   },
   {
    "duration": 7,
    "start_time": "2022-12-05T21:35:57.095Z"
   },
   {
    "duration": 44,
    "start_time": "2022-12-05T21:35:57.103Z"
   },
   {
    "duration": 18,
    "start_time": "2022-12-05T21:35:57.149Z"
   },
   {
    "duration": 10,
    "start_time": "2022-12-05T21:35:57.169Z"
   },
   {
    "duration": 23,
    "start_time": "2022-12-05T21:35:57.180Z"
   },
   {
    "duration": 15,
    "start_time": "2022-12-05T21:35:57.205Z"
   },
   {
    "duration": 6,
    "start_time": "2022-12-05T21:35:57.223Z"
   },
   {
    "duration": 4,
    "start_time": "2022-12-05T21:35:57.231Z"
   },
   {
    "duration": 7,
    "start_time": "2022-12-05T21:35:57.238Z"
   },
   {
    "duration": 14,
    "start_time": "2022-12-05T21:35:57.246Z"
   },
   {
    "duration": 8,
    "start_time": "2022-12-05T21:35:57.261Z"
   },
   {
    "duration": 2,
    "start_time": "2022-12-05T21:35:57.271Z"
   },
   {
    "duration": 50,
    "start_time": "2022-12-05T21:35:57.275Z"
   },
   {
    "duration": 13,
    "start_time": "2022-12-05T21:35:57.327Z"
   },
   {
    "duration": 17,
    "start_time": "2022-12-05T21:35:57.342Z"
   },
   {
    "duration": 10,
    "start_time": "2022-12-05T21:35:57.361Z"
   },
   {
    "duration": 22,
    "start_time": "2022-12-05T21:35:57.373Z"
   },
   {
    "duration": 15,
    "start_time": "2022-12-05T21:35:57.397Z"
   },
   {
    "duration": 26,
    "start_time": "2022-12-05T21:35:57.414Z"
   },
   {
    "duration": 153,
    "start_time": "2022-12-05T21:35:57.441Z"
   },
   {
    "duration": 169,
    "start_time": "2022-12-05T21:35:57.595Z"
   },
   {
    "duration": 8,
    "start_time": "2022-12-05T21:35:57.765Z"
   },
   {
    "duration": 25,
    "start_time": "2022-12-05T21:35:57.775Z"
   },
   {
    "duration": 9,
    "start_time": "2022-12-05T21:35:57.804Z"
   },
   {
    "duration": 216,
    "start_time": "2022-12-05T21:35:57.815Z"
   },
   {
    "duration": 209,
    "start_time": "2022-12-05T21:35:58.033Z"
   },
   {
    "duration": 4,
    "start_time": "2022-12-05T21:35:58.244Z"
   },
   {
    "duration": 21,
    "start_time": "2022-12-05T21:35:58.250Z"
   },
   {
    "duration": 325,
    "start_time": "2022-12-05T21:35:58.273Z"
   },
   {
    "duration": 14,
    "start_time": "2022-12-05T21:35:58.600Z"
   },
   {
    "duration": 20,
    "start_time": "2022-12-05T21:35:58.616Z"
   },
   {
    "duration": 103,
    "start_time": "2022-12-05T21:35:58.638Z"
   },
   {
    "duration": 1556,
    "start_time": "2022-12-05T21:35:58.743Z"
   },
   {
    "duration": 1474,
    "start_time": "2022-12-05T21:36:00.301Z"
   },
   {
    "duration": 1600,
    "start_time": "2022-12-05T21:36:01.777Z"
   },
   {
    "duration": 1385,
    "start_time": "2022-12-05T21:36:03.379Z"
   },
   {
    "duration": 4,
    "start_time": "2022-12-05T21:37:44.625Z"
   },
   {
    "duration": 5,
    "start_time": "2022-12-05T21:37:44.636Z"
   },
   {
    "duration": 44,
    "start_time": "2022-12-05T21:37:44.643Z"
   },
   {
    "duration": 17,
    "start_time": "2022-12-05T21:37:44.689Z"
   },
   {
    "duration": 6,
    "start_time": "2022-12-05T21:37:44.708Z"
   },
   {
    "duration": 18,
    "start_time": "2022-12-05T21:37:44.716Z"
   },
   {
    "duration": 12,
    "start_time": "2022-12-05T21:37:44.736Z"
   },
   {
    "duration": 5,
    "start_time": "2022-12-05T21:37:44.750Z"
   },
   {
    "duration": 13,
    "start_time": "2022-12-05T21:37:44.756Z"
   },
   {
    "duration": 41,
    "start_time": "2022-12-05T21:37:44.771Z"
   },
   {
    "duration": 16,
    "start_time": "2022-12-05T21:37:44.815Z"
   },
   {
    "duration": 11,
    "start_time": "2022-12-05T21:37:44.834Z"
   },
   {
    "duration": 6,
    "start_time": "2022-12-05T21:37:44.847Z"
   },
   {
    "duration": 15,
    "start_time": "2022-12-05T21:37:44.857Z"
   },
   {
    "duration": 45,
    "start_time": "2022-12-05T21:37:44.874Z"
   },
   {
    "duration": 25,
    "start_time": "2022-12-05T21:37:44.922Z"
   },
   {
    "duration": 7,
    "start_time": "2022-12-05T21:37:44.949Z"
   },
   {
    "duration": 8,
    "start_time": "2022-12-05T21:37:44.957Z"
   },
   {
    "duration": 8,
    "start_time": "2022-12-05T21:37:44.967Z"
   },
   {
    "duration": 51,
    "start_time": "2022-12-05T21:37:44.977Z"
   },
   {
    "duration": 140,
    "start_time": "2022-12-05T21:37:45.029Z"
   },
   {
    "duration": 176,
    "start_time": "2022-12-05T21:37:45.170Z"
   },
   {
    "duration": 8,
    "start_time": "2022-12-05T21:37:45.347Z"
   },
   {
    "duration": 9,
    "start_time": "2022-12-05T21:37:45.356Z"
   },
   {
    "duration": 6,
    "start_time": "2022-12-05T21:37:45.367Z"
   },
   {
    "duration": 211,
    "start_time": "2022-12-05T21:37:45.375Z"
   },
   {
    "duration": 204,
    "start_time": "2022-12-05T21:37:45.587Z"
   },
   {
    "duration": 5,
    "start_time": "2022-12-05T21:37:45.793Z"
   },
   {
    "duration": 26,
    "start_time": "2022-12-05T21:37:45.799Z"
   },
   {
    "duration": 298,
    "start_time": "2022-12-05T21:37:45.827Z"
   },
   {
    "duration": 4,
    "start_time": "2022-12-05T21:37:46.127Z"
   },
   {
    "duration": 11,
    "start_time": "2022-12-05T21:37:46.133Z"
   },
   {
    "duration": 122,
    "start_time": "2022-12-05T21:37:46.146Z"
   },
   {
    "duration": 1527,
    "start_time": "2022-12-05T21:37:46.270Z"
   },
   {
    "duration": 1527,
    "start_time": "2022-12-05T21:37:47.799Z"
   },
   {
    "duration": 1572,
    "start_time": "2022-12-05T21:37:49.328Z"
   },
   {
    "duration": 1362,
    "start_time": "2022-12-05T21:37:50.902Z"
   },
   {
    "duration": 7,
    "start_time": "2022-12-05T21:37:52.267Z"
   },
   {
    "duration": 85635,
    "start_time": "2022-12-05T21:37:52.276Z"
   },
   {
    "duration": 85819,
    "start_time": "2022-12-05T21:39:17.913Z"
   },
   {
    "duration": 163064,
    "start_time": "2022-12-05T21:40:43.734Z"
   },
   {
    "duration": 46633,
    "start_time": "2022-12-05T21:43:26.800Z"
   },
   {
    "duration": 113123,
    "start_time": "2022-12-05T21:44:13.435Z"
   },
   {
    "duration": 113771,
    "start_time": "2022-12-05T21:46:06.560Z"
   },
   {
    "duration": 190759,
    "start_time": "2022-12-05T21:48:00.333Z"
   },
   {
    "duration": 8645,
    "start_time": "2022-12-05T21:51:11.094Z"
   },
   {
    "duration": 111912,
    "start_time": "2022-12-05T21:51:44.194Z"
   },
   {
    "duration": 4,
    "start_time": "2022-12-05T21:55:20.025Z"
   },
   {
    "duration": 11,
    "start_time": "2022-12-05T21:55:20.031Z"
   },
   {
    "duration": 47,
    "start_time": "2022-12-05T21:55:20.044Z"
   },
   {
    "duration": 17,
    "start_time": "2022-12-05T21:55:20.093Z"
   },
   {
    "duration": 9,
    "start_time": "2022-12-05T21:55:20.112Z"
   },
   {
    "duration": 20,
    "start_time": "2022-12-05T21:55:20.123Z"
   },
   {
    "duration": 14,
    "start_time": "2022-12-05T21:55:20.145Z"
   },
   {
    "duration": 5,
    "start_time": "2022-12-05T21:55:20.161Z"
   },
   {
    "duration": 8,
    "start_time": "2022-12-05T21:55:20.169Z"
   },
   {
    "duration": 14,
    "start_time": "2022-12-05T21:55:20.179Z"
   },
   {
    "duration": 31,
    "start_time": "2022-12-05T21:55:20.195Z"
   },
   {
    "duration": 8,
    "start_time": "2022-12-05T21:55:20.228Z"
   },
   {
    "duration": 4,
    "start_time": "2022-12-05T21:55:20.237Z"
   },
   {
    "duration": 14,
    "start_time": "2022-12-05T21:55:20.243Z"
   },
   {
    "duration": 11,
    "start_time": "2022-12-05T21:55:20.259Z"
   },
   {
    "duration": 42,
    "start_time": "2022-12-05T21:55:20.271Z"
   },
   {
    "duration": 7,
    "start_time": "2022-12-05T21:55:20.315Z"
   },
   {
    "duration": 6,
    "start_time": "2022-12-05T21:55:20.324Z"
   },
   {
    "duration": 6,
    "start_time": "2022-12-05T21:55:20.331Z"
   },
   {
    "duration": 31,
    "start_time": "2022-12-05T21:55:20.338Z"
   },
   {
    "duration": 142,
    "start_time": "2022-12-05T21:55:20.371Z"
   },
   {
    "duration": 163,
    "start_time": "2022-12-05T21:55:20.515Z"
   },
   {
    "duration": 7,
    "start_time": "2022-12-05T21:55:20.679Z"
   },
   {
    "duration": 7,
    "start_time": "2022-12-05T21:55:20.689Z"
   },
   {
    "duration": 17,
    "start_time": "2022-12-05T21:55:20.697Z"
   },
   {
    "duration": 197,
    "start_time": "2022-12-05T21:55:20.716Z"
   },
   {
    "duration": 200,
    "start_time": "2022-12-05T21:55:20.915Z"
   },
   {
    "duration": 4,
    "start_time": "2022-12-05T21:55:21.117Z"
   },
   {
    "duration": 21,
    "start_time": "2022-12-05T21:55:21.123Z"
   },
   {
    "duration": 318,
    "start_time": "2022-12-05T21:55:21.145Z"
   },
   {
    "duration": 4,
    "start_time": "2022-12-05T21:55:21.465Z"
   },
   {
    "duration": 12,
    "start_time": "2022-12-05T21:55:21.471Z"
   },
   {
    "duration": 106,
    "start_time": "2022-12-05T21:55:21.485Z"
   },
   {
    "duration": 1492,
    "start_time": "2022-12-05T21:55:21.592Z"
   },
   {
    "duration": 1525,
    "start_time": "2022-12-05T21:55:23.086Z"
   },
   {
    "duration": 1611,
    "start_time": "2022-12-05T21:55:24.613Z"
   },
   {
    "duration": 1424,
    "start_time": "2022-12-05T21:55:26.226Z"
   },
   {
    "duration": 6,
    "start_time": "2022-12-05T21:55:27.652Z"
   },
   {
    "duration": 74284,
    "start_time": "2022-12-05T21:55:27.659Z"
   },
   {
    "duration": 74733,
    "start_time": "2022-12-05T21:56:41.944Z"
   },
   {
    "duration": 138480,
    "start_time": "2022-12-05T21:57:56.679Z"
   },
   {
    "duration": 42947,
    "start_time": "2022-12-05T22:00:15.161Z"
   },
   {
    "duration": 99923,
    "start_time": "2022-12-05T22:00:58.112Z"
   },
   {
    "duration": 100628,
    "start_time": "2022-12-05T22:02:38.037Z"
   },
   {
    "duration": 66153,
    "start_time": "2022-12-05T22:04:18.666Z"
   },
   {
    "duration": 0,
    "start_time": "2022-12-05T22:05:24.820Z"
   },
   {
    "duration": 100806,
    "start_time": "2022-12-05T22:05:38.011Z"
   },
   {
    "duration": 4,
    "start_time": "2022-12-05T22:11:59.997Z"
   },
   {
    "duration": 15,
    "start_time": "2022-12-05T22:12:01.756Z"
   },
   {
    "duration": 1327,
    "start_time": "2022-12-05T22:12:42.032Z"
   },
   {
    "duration": 3,
    "start_time": "2022-12-05T22:12:43.360Z"
   },
   {
    "duration": 43,
    "start_time": "2022-12-05T22:12:43.365Z"
   },
   {
    "duration": 22,
    "start_time": "2022-12-05T22:12:43.410Z"
   },
   {
    "duration": 4,
    "start_time": "2022-12-05T22:12:43.433Z"
   },
   {
    "duration": 17,
    "start_time": "2022-12-05T22:12:43.439Z"
   },
   {
    "duration": 14,
    "start_time": "2022-12-05T22:12:43.458Z"
   },
   {
    "duration": 6,
    "start_time": "2022-12-05T22:12:43.473Z"
   },
   {
    "duration": 4,
    "start_time": "2022-12-05T22:12:43.480Z"
   },
   {
    "duration": 29,
    "start_time": "2022-12-05T22:12:43.486Z"
   },
   {
    "duration": 17,
    "start_time": "2022-12-05T22:12:43.517Z"
   },
   {
    "duration": 6,
    "start_time": "2022-12-05T22:12:43.536Z"
   },
   {
    "duration": 8,
    "start_time": "2022-12-05T22:12:43.544Z"
   },
   {
    "duration": 20,
    "start_time": "2022-12-05T22:12:43.553Z"
   },
   {
    "duration": 11,
    "start_time": "2022-12-05T22:12:43.575Z"
   },
   {
    "duration": 30,
    "start_time": "2022-12-05T22:12:43.587Z"
   },
   {
    "duration": 13,
    "start_time": "2022-12-05T22:12:43.619Z"
   },
   {
    "duration": 8,
    "start_time": "2022-12-05T22:12:43.634Z"
   },
   {
    "duration": 5,
    "start_time": "2022-12-05T22:12:43.644Z"
   },
   {
    "duration": 31,
    "start_time": "2022-12-05T22:12:43.651Z"
   },
   {
    "duration": 148,
    "start_time": "2022-12-05T22:12:43.684Z"
   },
   {
    "duration": 158,
    "start_time": "2022-12-05T22:12:43.833Z"
   },
   {
    "duration": 6,
    "start_time": "2022-12-05T22:12:43.993Z"
   },
   {
    "duration": 17,
    "start_time": "2022-12-05T22:12:44.001Z"
   },
   {
    "duration": 5,
    "start_time": "2022-12-05T22:12:44.020Z"
   },
   {
    "duration": 194,
    "start_time": "2022-12-05T22:12:44.027Z"
   },
   {
    "duration": 202,
    "start_time": "2022-12-05T22:12:44.223Z"
   },
   {
    "duration": 4,
    "start_time": "2022-12-05T22:12:44.429Z"
   },
   {
    "duration": 14,
    "start_time": "2022-12-05T22:12:44.435Z"
   },
   {
    "duration": 315,
    "start_time": "2022-12-05T22:12:44.451Z"
   },
   {
    "duration": 4,
    "start_time": "2022-12-05T22:12:44.768Z"
   },
   {
    "duration": 12,
    "start_time": "2022-12-05T22:12:44.774Z"
   },
   {
    "duration": 120,
    "start_time": "2022-12-05T22:12:44.788Z"
   },
   {
    "duration": 1418,
    "start_time": "2022-12-05T22:12:44.910Z"
   },
   {
    "duration": 1447,
    "start_time": "2022-12-05T22:12:46.330Z"
   },
   {
    "duration": 1469,
    "start_time": "2022-12-05T22:12:47.779Z"
   },
   {
    "duration": 1313,
    "start_time": "2022-12-05T22:12:49.250Z"
   },
   {
    "duration": 5,
    "start_time": "2022-12-05T22:12:50.565Z"
   },
   {
    "duration": 82983,
    "start_time": "2022-12-05T22:12:50.572Z"
   },
   {
    "duration": 83624,
    "start_time": "2022-12-05T22:14:13.556Z"
   },
   {
    "duration": 157476,
    "start_time": "2022-12-05T22:15:37.182Z"
   },
   {
    "duration": 45440,
    "start_time": "2022-12-05T22:18:14.660Z"
   },
   {
    "duration": 108832,
    "start_time": "2022-12-05T22:19:00.102Z"
   },
   {
    "duration": 109653,
    "start_time": "2022-12-05T22:20:48.935Z"
   },
   {
    "duration": 184237,
    "start_time": "2022-12-05T22:22:38.589Z"
   },
   {
    "duration": 71976,
    "start_time": "2022-12-05T22:25:42.828Z"
   },
   {
    "duration": 8,
    "start_time": "2022-12-05T22:26:54.807Z"
   },
   {
    "duration": 16598,
    "start_time": "2022-12-05T22:26:54.816Z"
   },
   {
    "duration": 14905,
    "start_time": "2022-12-05T22:27:11.416Z"
   },
   {
    "duration": 26908,
    "start_time": "2022-12-05T22:27:26.413Z"
   },
   {
    "duration": 10101,
    "start_time": "2022-12-05T22:27:53.413Z"
   },
   {
    "duration": 28027,
    "start_time": "2022-12-05T22:28:03.516Z"
   },
   {
    "duration": 26294,
    "start_time": "2022-12-05T22:28:31.544Z"
   },
   {
    "duration": 37902,
    "start_time": "2022-12-05T22:28:57.840Z"
   },
   {
    "duration": 22401,
    "start_time": "2022-12-05T22:29:35.744Z"
   },
   {
    "duration": 110785,
    "start_time": "2022-12-05T22:29:58.147Z"
   }
  ],
  "kernelspec": {
   "display_name": "Python 3 (ipykernel)",
   "language": "python",
   "name": "python3"
  },
  "language_info": {
   "codemirror_mode": {
    "name": "ipython",
    "version": 3
   },
   "file_extension": ".py",
   "mimetype": "text/x-python",
   "name": "python",
   "nbconvert_exporter": "python",
   "pygments_lexer": "ipython3",
   "version": "3.9.13"
  },
  "toc": {
   "base_numbering": 1,
   "nav_menu": {},
   "number_sections": true,
   "sideBar": true,
   "skip_h1_title": true,
   "title_cell": "Содержание",
   "title_sidebar": "Contents",
   "toc_cell": true,
   "toc_position": {},
   "toc_section_display": true,
   "toc_window_display": false
  },
  "varInspector": {
   "cols": {
    "lenName": 16,
    "lenType": 16,
    "lenVar": 40
   },
   "kernels_config": {
    "python": {
     "delete_cmd_postfix": "",
     "delete_cmd_prefix": "del ",
     "library": "var_list.py",
     "varRefreshCmd": "print(var_dic_list())"
    },
    "r": {
     "delete_cmd_postfix": ") ",
     "delete_cmd_prefix": "rm(",
     "library": "var_list.r",
     "varRefreshCmd": "cat(var_dic_list()) "
    }
   },
   "types_to_exclude": [
    "module",
    "function",
    "builtin_function_or_method",
    "instance",
    "_Feature"
   ],
   "window_display": false
  }
 },
 "nbformat": 4,
 "nbformat_minor": 2
}
